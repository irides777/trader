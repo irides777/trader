{
 "cells": [
  {
   "cell_type": "code",
   "execution_count": 2,
   "metadata": {},
   "outputs": [],
   "source": [
    "import pandas as pd\n",
    "import numpy as np\n",
    "import matplotlib.pyplot as plt\n",
    "import os\n",
    "from util import *\n",
    "from datetime import date"
   ]
  },
  {
   "cell_type": "code",
   "execution_count": 24,
   "metadata": {},
   "outputs": [],
   "source": [
    "pth = './res'\n",
    "model = 'exp003_fea'\n",
    "obj = 'rb'\n",
    "obj_list = ['SM',\n",
    " 'au',\n",
    " 'hc',\n",
    " 'm',\n",
    "#  'lh',\n",
    "#  'cu',\n",
    "#  'PF',\n",
    " 'p',\n",
    "#  'ZC',\n",
    "#  'sp',\n",
    "#  'i',\n",
    "#  'jm',\n",
    "#  'SF',\n",
    "#  'jd',\n",
    "#  'pg',\n",
    "#  'ni',\n",
    "#  'ag',\n",
    "#  'RM',\n",
    "#  'OI',\n",
    "#  'CY',\n",
    "#  'lu',\n",
    " 'UR',\n",
    "#  'CJ',\n",
    "#  'cs',\n",
    " 'sn',\n",
    " 'j',\n",
    " 'pb',\n",
    " 'AP',\n",
    " 'pp']\n",
    "# dat = '20220623'\n",
    "tick = pd.read_csv('symbol_instrumentid2.csv')\n",
    "tick = tick[tick.pz==obj].tick.values[0]\n",
    "chengshu = get_unit_cost(obj.lower())[1]*tick\n"
   ]
  },
  {
   "cell_type": "code",
   "execution_count": 25,
   "metadata": {},
   "outputs": [
    {
     "data": {
      "text/html": [
       "<div>\n",
       "<style scoped>\n",
       "    .dataframe tbody tr th:only-of-type {\n",
       "        vertical-align: middle;\n",
       "    }\n",
       "\n",
       "    .dataframe tbody tr th {\n",
       "        vertical-align: top;\n",
       "    }\n",
       "\n",
       "    .dataframe thead th {\n",
       "        text-align: right;\n",
       "    }\n",
       "</style>\n",
       "<table border=\"1\" class=\"dataframe\">\n",
       "  <thead>\n",
       "    <tr style=\"text-align: right;\">\n",
       "      <th></th>\n",
       "      <th>ticktime</th>\n",
       "      <th>drl</th>\n",
       "      <th>pss</th>\n",
       "      <th>agg</th>\n",
       "      <th>stepn</th>\n",
       "      <th>filled_seconds</th>\n",
       "      <th>volatility</th>\n",
       "      <th>vol_ratio</th>\n",
       "      <th>trend</th>\n",
       "      <th>trend.1</th>\n",
       "      <th>ema</th>\n",
       "    </tr>\n",
       "  </thead>\n",
       "  <tbody>\n",
       "    <tr>\n",
       "      <th>0</th>\n",
       "      <td>09:26:50.000</td>\n",
       "      <td>0.0</td>\n",
       "      <td>0.0</td>\n",
       "      <td>2.0</td>\n",
       "      <td>159.0</td>\n",
       "      <td>63.000</td>\n",
       "      <td>3.795099</td>\n",
       "      <td>1.960768</td>\n",
       "      <td>50</td>\n",
       "      <td>50.0</td>\n",
       "      <td>0.009651</td>\n",
       "    </tr>\n",
       "    <tr>\n",
       "      <th>1</th>\n",
       "      <td>09:28:47.000</td>\n",
       "      <td>0.0</td>\n",
       "      <td>0.0</td>\n",
       "      <td>1.0</td>\n",
       "      <td>29.5</td>\n",
       "      <td>8.000</td>\n",
       "      <td>7.137051</td>\n",
       "      <td>1.914087</td>\n",
       "      <td>47</td>\n",
       "      <td>47.0</td>\n",
       "      <td>0.006319</td>\n",
       "    </tr>\n",
       "    <tr>\n",
       "      <th>2</th>\n",
       "      <td>09:30:33.000</td>\n",
       "      <td>0.0</td>\n",
       "      <td>0.0</td>\n",
       "      <td>2.0</td>\n",
       "      <td>58.5</td>\n",
       "      <td>115.000</td>\n",
       "      <td>5.644565</td>\n",
       "      <td>1.417193</td>\n",
       "      <td>44</td>\n",
       "      <td>44.0</td>\n",
       "      <td>0.004719</td>\n",
       "    </tr>\n",
       "    <tr>\n",
       "      <th>3</th>\n",
       "      <td>09:31:32.000</td>\n",
       "      <td>0.0</td>\n",
       "      <td>0.0</td>\n",
       "      <td>2.0</td>\n",
       "      <td>0.5</td>\n",
       "      <td>13.000</td>\n",
       "      <td>4.834770</td>\n",
       "      <td>1.526079</td>\n",
       "      <td>52</td>\n",
       "      <td>52.0</td>\n",
       "      <td>0.007730</td>\n",
       "    </tr>\n",
       "    <tr>\n",
       "      <th>4</th>\n",
       "      <td>09:32:33.000</td>\n",
       "      <td>0.0</td>\n",
       "      <td>0.0</td>\n",
       "      <td>1.0</td>\n",
       "      <td>0.5</td>\n",
       "      <td>1.000</td>\n",
       "      <td>6.279928</td>\n",
       "      <td>1.480892</td>\n",
       "      <td>49</td>\n",
       "      <td>49.0</td>\n",
       "      <td>0.007699</td>\n",
       "    </tr>\n",
       "    <tr>\n",
       "      <th>...</th>\n",
       "      <td>...</td>\n",
       "      <td>...</td>\n",
       "      <td>...</td>\n",
       "      <td>...</td>\n",
       "      <td>...</td>\n",
       "      <td>...</td>\n",
       "      <td>...</td>\n",
       "      <td>...</td>\n",
       "      <td>...</td>\n",
       "      <td>...</td>\n",
       "      <td>...</td>\n",
       "    </tr>\n",
       "    <tr>\n",
       "      <th>87</th>\n",
       "      <td>14:53:55.877</td>\n",
       "      <td>0.0</td>\n",
       "      <td>0.0</td>\n",
       "      <td>0.5</td>\n",
       "      <td>0.5</td>\n",
       "      <td>0.123</td>\n",
       "      <td>1.785357</td>\n",
       "      <td>0.750119</td>\n",
       "      <td>14</td>\n",
       "      <td>14.0</td>\n",
       "      <td>0.000586</td>\n",
       "    </tr>\n",
       "    <tr>\n",
       "      <th>88</th>\n",
       "      <td>14:54:50.381</td>\n",
       "      <td>0.0</td>\n",
       "      <td>0.0</td>\n",
       "      <td>1.0</td>\n",
       "      <td>7.0</td>\n",
       "      <td>6.619</td>\n",
       "      <td>1.414214</td>\n",
       "      <td>0.665699</td>\n",
       "      <td>13</td>\n",
       "      <td>13.0</td>\n",
       "      <td>0.000586</td>\n",
       "    </tr>\n",
       "    <tr>\n",
       "      <th>89</th>\n",
       "      <td>14:54:59.871</td>\n",
       "      <td>4.0</td>\n",
       "      <td>4.0</td>\n",
       "      <td>0.5</td>\n",
       "      <td>293.5</td>\n",
       "      <td>269.129</td>\n",
       "      <td>1.391941</td>\n",
       "      <td>0.721567</td>\n",
       "      <td>13</td>\n",
       "      <td>13.0</td>\n",
       "      <td>0.000586</td>\n",
       "    </tr>\n",
       "    <tr>\n",
       "      <th>90</th>\n",
       "      <td>14:56:26.744</td>\n",
       "      <td>0.0</td>\n",
       "      <td>0.0</td>\n",
       "      <td>0.5</td>\n",
       "      <td>2.0</td>\n",
       "      <td>1.256</td>\n",
       "      <td>1.394433</td>\n",
       "      <td>0.967145</td>\n",
       "      <td>18</td>\n",
       "      <td>18.0</td>\n",
       "      <td>0.000703</td>\n",
       "    </tr>\n",
       "    <tr>\n",
       "      <th>91</th>\n",
       "      <td>14:56:48.814</td>\n",
       "      <td>0.0</td>\n",
       "      <td>0.0</td>\n",
       "      <td>0.5</td>\n",
       "      <td>5.5</td>\n",
       "      <td>5.186</td>\n",
       "      <td>1.060660</td>\n",
       "      <td>0.984989</td>\n",
       "      <td>16</td>\n",
       "      <td>16.0</td>\n",
       "      <td>0.000703</td>\n",
       "    </tr>\n",
       "  </tbody>\n",
       "</table>\n",
       "<p>64011 rows × 11 columns</p>\n",
       "</div>"
      ],
      "text/plain": [
       "        ticktime  drl  pss  agg  stepn  filled_seconds  volatility  vol_ratio  \\\n",
       "0   09:26:50.000  0.0  0.0  2.0  159.0          63.000    3.795099   1.960768   \n",
       "1   09:28:47.000  0.0  0.0  1.0   29.5           8.000    7.137051   1.914087   \n",
       "2   09:30:33.000  0.0  0.0  2.0   58.5         115.000    5.644565   1.417193   \n",
       "3   09:31:32.000  0.0  0.0  2.0    0.5          13.000    4.834770   1.526079   \n",
       "4   09:32:33.000  0.0  0.0  1.0    0.5           1.000    6.279928   1.480892   \n",
       "..           ...  ...  ...  ...    ...             ...         ...        ...   \n",
       "87  14:53:55.877  0.0  0.0  0.5    0.5           0.123    1.785357   0.750119   \n",
       "88  14:54:50.381  0.0  0.0  1.0    7.0           6.619    1.414214   0.665699   \n",
       "89  14:54:59.871  4.0  4.0  0.5  293.5         269.129    1.391941   0.721567   \n",
       "90  14:56:26.744  0.0  0.0  0.5    2.0           1.256    1.394433   0.967145   \n",
       "91  14:56:48.814  0.0  0.0  0.5    5.5           5.186    1.060660   0.984989   \n",
       "\n",
       "    trend  trend.1       ema  \n",
       "0      50     50.0  0.009651  \n",
       "1      47     47.0  0.006319  \n",
       "2      44     44.0  0.004719  \n",
       "3      52     52.0  0.007730  \n",
       "4      49     49.0  0.007699  \n",
       "..    ...      ...       ...  \n",
       "87     14     14.0  0.000586  \n",
       "88     13     13.0  0.000586  \n",
       "89     13     13.0  0.000586  \n",
       "90     18     18.0  0.000703  \n",
       "91     16     16.0  0.000703  \n",
       "\n",
       "[64011 rows x 11 columns]"
      ]
     },
     "execution_count": 25,
     "metadata": {},
     "output_type": "execute_result"
    }
   ],
   "source": [
    "start_date = date(2022, 1, 1)\n",
    "end_date = date(2022, 6, 29)\n",
    "dates = [n.strftime(\"%Y%m%d\") for n in daterange(start_date, end_date)]\n",
    "trades = []\n",
    "feas = []\n",
    "dd = pd.read_csv('symbol_instrumentid2.csv')\n",
    "objs = obj_list\n",
    "for obj in objs:\n",
    "    for dat in dates:\n",
    "        pth = os.path.join('./res', model, obj, dat)\n",
    "        if os.path.exists(pth+'.csv'):\n",
    "            trades.append(pd.read_csv(pth+'.csv'))\n",
    "            pth = os.path.join('./feas', obj, dat)\n",
    "            feas.append(pd.read_csv(pth+'.csv').iloc[:,1:])\n",
    "\n",
    "trade_data = pd.concat(trades)\n",
    "trade_data['drl'] = trade_data['drl']/chengshu\n",
    "trade_data['pss'] = trade_data['pss']/chengshu\n",
    "trade_data['agg'] = trade_data['agg']/chengshu\n",
    "fea_data = pd.concat(feas)\n",
    "\n",
    "data = pd.concat((trade_data, fea_data), axis=1)\n",
    "data"
   ]
  },
  {
   "cell_type": "code",
   "execution_count": 26,
   "metadata": {},
   "outputs": [
    {
     "data": {
      "image/png": "[encoded data removed]",
      "text/plain": [
       "<Figure size 1152x648 with 1 Axes>"
      ]
     },
     "metadata": {
      "needs_background": "light"
     },
     "output_type": "display_data"
    },
    {
     "data": {
      "text/plain": [
       "<AxesSubplot:xlabel='volatility_group'>"
      ]
     },
     "execution_count": 26,
     "metadata": {},
     "output_type": "execute_result"
    },
    {
     "data": {
      "image/png": "[encoded data removed]",
      "text/plain": [
       "<Figure size 1152x648 with 1 Axes>"
      ]
     },
     "metadata": {
      "needs_background": "light"
     },
     "output_type": "display_data"
    },
    {
     "data": {
      "image/png": "[encoded data removed]",
      "text/plain": [
       "<Figure size 1152x648 with 1 Axes>"
      ]
     },
     "metadata": {
      "needs_background": "light"
     },
     "output_type": "display_data"
    }
   ],
   "source": [
    "data.loc[:, 'vol_ratio_group'] = getStdFactor(data.vol_ratio, cuts=10)\n",
    "data.loc[:, 'trend_group'] = getStdFactor(data.trend, cuts=10)\n",
    "data.loc[:, 'volatility_group'] = getStdFactor(data.volatility, cuts=10)\n",
    "data.loc[:, 'ema_group'] = getStdFactor(data.ema, cuts=10)\n",
    "def Cal_WinRate(xdf):\n",
    "    eps = 0.001\n",
    "    winrate = len(xdf[xdf<=eps])*1.0/len(xdf)\n",
    "\n",
    "    return winrate\n",
    "\n",
    "def Cal_LossRatio(xdf):\n",
    "    eps = 0.001\n",
    "    lossratio = xdf[xdf>eps].mean()\n",
    "\n",
    "    return lossratio\n",
    "\n",
    "group = 'volatility_group'\n",
    "winratedf = data.groupby(group).agg({'drl':Cal_WinRate, 'pss':Cal_WinRate})\n",
    "lossratiodf = data.groupby(group).agg({'drl':Cal_LossRatio, 'pss':Cal_LossRatio})\n",
    "sumcostdf = data.groupby(group).agg({'drl':'sum', 'pss':'sum'})\n",
    "\n",
    "# lossratiodf = lossratiodf.pss-lossratiodf.drl\n",
    "sumcostdf = sumcostdf.pss-sumcostdf.drl\n",
    "\n",
    "sumcostdf.plot(kind='bar', figsize=(16,9), grid=True)\n",
    "plt.show()\n",
    "lossratiodf.plot(kind='bar', figsize=(16,9), grid=True)\n",
    "winratedf.plot(kind='bar', figsize=(16,9), grid=True)"
   ]
  },
  {
   "cell_type": "code",
   "execution_count": 108,
   "metadata": {},
   "outputs": [
    {
     "data": {
      "text/plain": [
       "array([[1.        , 0.4105521 , 0.33369755, 0.52220061],\n",
       "       [0.4105521 , 1.        , 0.58488321, 0.60555559],\n",
       "       [0.33369755, 0.58488321, 1.        , 0.584655  ],\n",
       "       [0.52220061, 0.60555559, 0.584655  , 1.        ]])"
      ]
     },
     "execution_count": 108,
     "metadata": {},
     "output_type": "execute_result"
    }
   ],
   "source": [
    "np.corrcoef(data.iloc[:,-4:].T)"
   ]
  },
  {
   "cell_type": "code",
   "execution_count": 100,
   "metadata": {},
   "outputs": [
    {
     "data": {
      "text/plain": [
       "<matplotlib.collections.PathCollection at 0x7fc96c790f70>"
      ]
     },
     "execution_count": 100,
     "metadata": {},
     "output_type": "execute_result"
    },
    {
     "data": {
      "image/png": "[encoded data removed]",
      "text/plain": [
       "<Figure size 432x288 with 1 Axes>"
      ]
     },
     "metadata": {
      "needs_background": "light"
     },
     "output_type": "display_data"
    }
   ],
   "source": [
    "qs = []\n",
    "drls = []\n",
    "psses = []\n",
    "qts = [0.1*i for i in range(1,11)]\n",
    "# for q in np.linspace(0.1,0.9,100):\n",
    "for q in qts:\n",
    "    fea_small_data = data[data.iloc[:,-3]<=data.iloc[:,-3].quantile(q)]\n",
    "    ind = np.logical_and(data.iloc[:,-3]>data.iloc[:,-3].quantile(q-0.1),\n",
    "        data.iloc[:,-3]<=data.iloc[:,-3].quantile(q))\n",
    "    fea_big_data = data[ind]\n",
    "\n",
    "    small_win = (fea_small_data[['drl','pss']]==0).sum()/len(fea_small_data)\n",
    "    big_win = (fea_big_data[['drl','pss']]==0).sum()/len(fea_big_data)\n",
    "\n",
    "    tmp = fea_small_data[['drl','pss']]\n",
    "    small_lost = tmp[tmp>0].mean()\n",
    "    tmp = fea_big_data[['drl','pss']]\n",
    "    big_lost = tmp[tmp>0].mean()\n",
    "\n",
    "    drls.append(big_lost.drl)\n",
    "    psses.append(big_lost.pss)\n",
    "    qs.append(data.iloc[:,-3].quantile(q))\n",
    "\n",
    "    out1 = pd.concat((small_lost, big_lost), axis=1).rename(\n",
    "        index={'drl':'智能体赔率','pss':'挂单赔率'},columns={0:'小',1:'大'})\n",
    "    out2 = pd.concat((small_win, big_win), axis=1).rename(\n",
    "        index={'drl':'智能体胜率','pss':'挂单胜率'},columns={0:'小',1:'大'})\n",
    "    # pd.concat((out, small_win, big_win), axis=1)\n",
    "plt.scatter(qs, drls)\n",
    "plt.scatter(qs, psses)\n",
    "# plt.scatter(qs, np.array(psses)-np.array(drls))"
   ]
  },
  {
   "cell_type": "code",
   "execution_count": 111,
   "metadata": {},
   "outputs": [],
   "source": [
    "fea_small_data = data[data.iloc[:,-1]<=data.iloc[:,-1].quantile(0.5)]\n",
    "fea_big_data = data[data.iloc[:,-1]>data.iloc[:,-1].quantile(0.5)]\n",
    "\n",
    "small_win = (fea_small_data[['drl','pss']]==0).sum()/len(fea_small_data)\n",
    "big_win = (fea_big_data[['drl','pss']]==0).sum()/len(fea_big_data)\n",
    "\n",
    "tmp = fea_small_data[['drl','pss']]\n",
    "small_lost = tmp[tmp>0].mean()\n",
    "tmp = fea_big_data[['drl','pss']]\n",
    "big_lost = tmp[tmp>0].mean()\n",
    "\n",
    "drls.append(big_lost.drl)\n",
    "psses.append(big_lost.pss)\n",
    "qs.append(data.iloc[:,-3].quantile(q))\n",
    "\n",
    "out1 = pd.concat((small_lost, big_lost), axis=1).rename(\n",
    "    index={'drl':'智能体赔率','pss':'挂单赔率'},columns={0:'小',1:'大'})\n",
    "out2 = pd.concat((small_win, big_win), axis=1).rename(\n",
    "    index={'drl':'智能体胜率','pss':'挂单胜率'},columns={0:'小',1:'大'})"
   ]
  },
  {
   "cell_type": "code",
   "execution_count": 112,
   "metadata": {},
   "outputs": [
    {
     "name": "stdout",
     "output_type": "stream",
     "text": [
      "挂单赔率差距p-value: 2.9421911220183614e-09\n",
      "智能体赔率差距p-value: 0.47645967943455947\n",
      "挂单胜率差距p-value: 0.34376800729290924\n",
      "智能体胜率差距p-value: 0.017815419122307656\n"
     ]
    },
    {
     "data": {
      "text/html": [
       "<div>\n",
       "<style scoped>\n",
       "    .dataframe tbody tr th:only-of-type {\n",
       "        vertical-align: middle;\n",
       "    }\n",
       "\n",
       "    .dataframe tbody tr th {\n",
       "        vertical-align: top;\n",
       "    }\n",
       "\n",
       "    .dataframe thead th {\n",
       "        text-align: right;\n",
       "    }\n",
       "</style>\n",
       "<table border=\"1\" class=\"dataframe\">\n",
       "  <thead>\n",
       "    <tr style=\"text-align: right;\">\n",
       "      <th></th>\n",
       "      <th>智能体赔率</th>\n",
       "      <th>挂单赔率</th>\n",
       "      <th>智能体胜率</th>\n",
       "      <th>挂单胜率</th>\n",
       "    </tr>\n",
       "  </thead>\n",
       "  <tbody>\n",
       "    <tr>\n",
       "      <th>小</th>\n",
       "      <td>5.121507</td>\n",
       "      <td>10.273418</td>\n",
       "      <td>0.901942</td>\n",
       "      <td>0.952089</td>\n",
       "    </tr>\n",
       "    <tr>\n",
       "      <th>大</th>\n",
       "      <td>5.290805</td>\n",
       "      <td>13.984076</td>\n",
       "      <td>0.890864</td>\n",
       "      <td>0.955145</td>\n",
       "    </tr>\n",
       "  </tbody>\n",
       "</table>\n",
       "</div>"
      ],
      "text/plain": [
       "      智能体赔率       挂单赔率     智能体胜率      挂单胜率\n",
       "小  5.121507  10.273418  0.901942  0.952089\n",
       "大  5.290805  13.984076  0.890864  0.955145"
      ]
     },
     "execution_count": 112,
     "metadata": {},
     "output_type": "execute_result"
    }
   ],
   "source": [
    "\n",
    "from statsmodels.stats.weightstats import ztest\n",
    "tmp = fea_small_data[['drl','pss']]\n",
    "small_lost = tmp[tmp>0]\n",
    "tmp = fea_big_data[['drl','pss']]\n",
    "big_lost = tmp[tmp>0]\n",
    "print('挂单赔率差距p-value:',ztest(small_lost.pss.dropna(), big_lost.pss.dropna())[1])\n",
    "print('智能体赔率差距p-value:',ztest(small_lost.drl.dropna(), big_lost.drl.dropna())[1])\n",
    "small_win = fea_small_data[['drl','pss']]==0\n",
    "big_win = fea_big_data[['drl','pss']]==0\n",
    "print('挂单胜率差距p-value:',ztest(small_win.pss, big_win.pss)[1])\n",
    "print('智能体胜率差距p-value:',ztest(small_win.drl, big_win.drl)[1])\n",
    "pd.concat((out1, out2)).T"
   ]
  },
  {
   "cell_type": "code",
   "execution_count": 54,
   "metadata": {},
   "outputs": [
    {
     "name": "stdout",
     "output_type": "stream",
     "text": [
      "(-4.32061518524014, 1.555948102719042e-05)\n",
      "(-4.330168898668305, 1.4899501830863425e-05)\n"
     ]
    },
    {
     "data": {
      "text/plain": [
       "(762, 931)"
      ]
     },
     "execution_count": 54,
     "metadata": {},
     "output_type": "execute_result"
    }
   ],
   "source": [
    "from statsmodels.stats.weightstats import ztest\n",
    "tmp = fea_small_data[['drl','pss']]\n",
    "small_lost = tmp[tmp>0]\n",
    "tmp = fea_big_data[['drl','pss']]\n",
    "big_lost = tmp[tmp>0]\n",
    "print(ztest(small_lost.pss.dropna(), big_lost.pss.dropna()))\n",
    "print(ztest(small_lost.drl.dropna(), big_lost.drl.dropna()))\n",
    "len(big_lost.drl.dropna()), len(small_lost.drl.dropna())"
   ]
  },
  {
   "cell_type": "code",
   "execution_count": 6,
   "metadata": {},
   "outputs": [],
   "source": [
    "def getStdFactor(inData, cuts=5, ifqcut=True):\n",
    "    Data = inData.dropna()\n",
    "\n",
    "    per95 = Data.quantile(0.975, interpolation='nearest')\n",
    "    per05 = Data.quantile(0.025, interpolation='nearest')\n",
    "    Data.loc[Data > per95] = per95\n",
    "    Data.loc[Data < per05] = per05\n",
    "    eps = 0.001\n",
    "    ibins = np.linspace(per05-eps, per95+eps, cuts+1, endpoint=True)\n",
    "    ilabels = range(1, cuts+1, 1)\n",
    "    \n",
    "    try:\n",
    "        tmpfactor = pd.qcut(Data, q=cuts, duplicates='drop')\n",
    "    except:\n",
    "        return pd.Series(index=inData.index)\n",
    "    binsnum = len(tmpfactor.cat.categories)\n",
    "    ilabels = ilabels[:binsnum]\n",
    "\n",
    "    if ifqcut:\n",
    "        factor,ibins = pd.qcut(Data, q=cuts, labels=ilabels, duplicates='drop', retbins=True)\n",
    "    else:\n",
    "        factor = pd.cut(Data, bins=ibins, labels=ilabels)\n",
    "\n",
    "    factor = factor.astype(float)\n",
    "    factor = factor.reindex(inData.index)\n",
    "\n",
    "    return factor"
   ]
  },
  {
   "cell_type": "code",
   "execution_count": 1,
   "metadata": {},
   "outputs": [
    {
     "name": "stderr",
     "output_type": "stream",
     "text": [
      "\n"
     ]
    },
    {
     "data": {
      "text/plain": [
       "1134    NaN\n",
       "1164   -1.5\n",
       "1194    0.0\n",
       "1224   -2.0\n",
       "1254   -2.0\n",
       "1284    1.0\n",
       "1314   -1.0\n",
       "1344    1.0\n",
       "1374   -1.0\n",
       "1404    1.0\n",
       "1434   -1.0\n",
       "1464    3.0\n",
       "1494    1.0\n",
       "1524    1.0\n",
       "1554    0.0\n",
       "1584   -3.0\n",
       "1614    0.0\n",
       "1644    1.0\n",
       "1674   -1.0\n",
       "1704    0.0\n",
       "Name: midprice, dtype: float32"
      ]
     },
     "execution_count": 1,
     "metadata": {},
     "output_type": "execute_result"
    }
   ],
   "source": [
    "from cal_feature import *\n",
    "obj='rb'\n",
    "log_path='/Data/database/logs_thunder'\n",
    "tick_path='/Data/database/data_zltick/'\n",
    "dat = '20220321'\n",
    "tick_path = os.path.join(tick_path, obj)\n",
    "log_path = os.path.join(log_path, dat)\n",
    "tick_data, contract = preprocess(tick_path, dat+'.csv')\n",
    "tick_data = tick_data.reset_index()#[['datetime','orig_v']]\n",
    "tick_data['ticktime'] = tick_data.datetime.astype('str').apply(lambda x:x.split(' ')[1])\n",
    "tick_data['tickdate'] = tick_data.datetime.dt.date\n",
    "last_date = tick_data.tickdate.iloc[0]\n",
    "\n",
    "last_data, _ = preprocess(tick_path, last_date.strftime(\"%Y%m%d\")+'.csv')\n",
    "last_data = last_data.reset_index()\n",
    "last_data['ticktime'] = last_data.datetime.astype('str').apply(lambda x:x.split(' ')[1])\n",
    "last_data['tickdate'] = last_data.datetime.dt.date\n",
    "all_tick_len = len(last_data)\n",
    "\n",
    "tick_data = pd.concat([last_data, tick_data], axis=0)\n",
    "ll = len(tick_data)\n",
    "a, acc = SingleDayHDAll('acc_sub.txt', log_path, dat) \n",
    "\n",
    "jud = (a.ticker==obj)&(a.symbol==contract)&\\\n",
    "        (((a.fx>0)&(a.odprice==a.bidprice)) |\\\n",
    "        ((a.fx<0)&(a.odprice==a.askprice))\n",
    "        )\n",
    "a = a[jud][['symbol', 'agg_cost', 'pss_cost', 'ticktime', 'fx', 'filled_value', 'filled_lots',\n",
    "    'filled_seconds', 'filled_date', 'pv', 'filled_price',]]\n",
    "a['ticktime'] = a.ticktime.apply(lambda x:x+'00' if x.split('.')[1]=='0' else x)\n",
    "\n",
    "feas = []\n",
    "times = []\n",
    "\n",
    "\n",
    "for _,trade in a.iterrows():\n",
    "    \n",
    "    if trade.isnull().any():\n",
    "        continue\n",
    "\n",
    "    tim = trade['ticktime']\n",
    "    s, ms = tim.split('.')\n",
    "    tims = s+'.000' if int(ms)<500 else s+'.500'\n",
    "    tim = pd.to_datetime(trade.filled_date+' '+tims)\n",
    "\n",
    "    if obj in ['m'] and int(tims.split(':')[0])>=21:\n",
    "        # print('tim', tim, last_date)\n",
    "        tim = pd.to_datetime(str(last_date)+' '+tims)\n",
    "        # print('tim', tim, last_date)\n",
    "    # print(type(day))\n",
    "    # print(trade)\n",
    "    # print(tick_data[tick_data.ticktime==tim])\n",
    "    # assert \n",
    "    ord = tick_data.datetime.searchsorted(tim, side='right')-1\n",
    "    # print(dat)\n",
    "    # print(tim)\n",
    "    # print(trade)\n",
    "    # print(tick_data.iloc[ord-3:ord+3])\n",
    "    # print('')\n",
    "    # ord = tick_data[tick_data.ticktime==tim].index[0]\n",
    "    # print(ord, all_tick_len)\n",
    "    if ord-100+1<all_tick_len:\n",
    "        continue\n",
    "    if ord+120>=ll:\n",
    "        continue\n",
    "    # print(dat, tim)\n",
    "    data = volatility(tick_data, ord, 30, 600)\n",
    "    break\n",
    "data\n"
   ]
  }
 ],
 "metadata": {
  "kernelspec": {
   "display_name": "Python 3.9.7 ('drl')",
   "language": "python",
   "name": "python3"
  },
  "language_info": {
   "codemirror_mode": {
    "name": "ipython",
    "version": 3
   },
   "file_extension": ".py",
   "mimetype": "text/x-python",
   "name": "python",
   "nbconvert_exporter": "python",
   "pygments_lexer": "ipython3",
   "version": "3.9.7"
  },
  "orig_nbformat": 4,
  "vscode": {
   "interpreter": {
    "hash": "294f93da2dc856bbec55cbcff77556c1e7fb73df5c27bc553275b5e6c86bfffe"
   }
  }
 },
 "nbformat": 4,
 "nbformat_minor": 2
}
