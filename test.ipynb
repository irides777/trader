{
 "cells": [
  {
   "cell_type": "code",
   "execution_count": 1,
   "metadata": {},
   "outputs": [],
   "source": [
    "import numpy as np\n",
    "import pandas as pd"
   ]
  },
  {
   "cell_type": "code",
   "execution_count": 2,
   "metadata": {},
   "outputs": [],
   "source": [
    "from env import *"
   ]
  },
  {
   "cell_type": "code",
   "execution_count": 3,
   "metadata": {},
   "outputs": [],
   "source": [
    "def preprocess(tickpath, filename):\n",
    "    tickdf = pd.read_csv(os.path.join(tickpath, filename),names=['date','time','ms','lastprice','volume','bid','bidv','ask','askv','opi','tur','contract'])\n",
    "    tickdf['datestr'] = tickdf['date'].apply(lambda x: '%s-%s-%s'%(str(x)[:4], str(x)[4:6], str(x)[6:8]))\n",
    "    tickdf['timestr'] = tickdf['time'].apply(lambda x: '%s:%s:%s'%(format(x, '06d')[:-4], format(x, '06d')[-4:-2], format(x, '06d')[-2:]))\n",
    "    tickdf['timestr'] = tickdf['timestr']+'.'+tickdf['ms'].apply(lambda x: format(x, '03d'))\n",
    "    tickdf = tickdf.set_index(pd.to_datetime(tickdf['datestr']+' '+tickdf['timestr']))\n",
    "    tickdf.index.name = 'datetime'\n",
    "    tickdf.loc[tickdf['bid']<0.9*tickdf['lastprice'], 'bid'] = np.nan\n",
    "    tickdf.loc[tickdf['ask']<0.9*tickdf['lastprice'], 'ask'] = np.nan\n",
    "    tickdf[['bid','ask']] = tickdf[['bid','ask']].fillna(method='ffill').fillna(tickdf.iloc[0]['lastprice'])\n",
    "    tickdf['midprice'] = (tickdf['ask']+tickdf['bid'])/2.0\n",
    "\n",
    "    tdata = tickdf[['bid','ask','bidv','askv','volume']]\n",
    "    std = tdata.iloc[0,0]\n",
    "    tdata.loc[:,'bid'] = tdata['bid']-std\n",
    "    tdata.loc[:,'ask'] = tdata['ask']-std\n",
    "\n",
    "    def norm(x):\n",
    "        return (x-x.mean())/x.std()\n",
    "\n",
    "    tdata.loc[:,'askv'] = norm(tdata.askv)\n",
    "    tdata.loc[:,'bidv'] = norm(tdata.bidv)\n",
    "    tdata.loc[:,'volume'] = norm(tdata.volume)\n",
    "    return tdata"
   ]
  },
  {
   "cell_type": "code",
   "execution_count": 4,
   "metadata": {},
   "outputs": [
    {
     "name": "stderr",
     "output_type": "stream",
     "text": [
      "/home/hongyuan/miniconda3/lib/python3.9/site-packages/pandas/core/indexing.py:1773: SettingWithCopyWarning: \n",
      "A value is trying to be set on a copy of a slice from a DataFrame.\n",
      "Try using .loc[row_indexer,col_indexer] = value instead\n",
      "\n",
      "See the caveats in the documentation: https://pandas.pydata.org/pandas-docs/stable/user_guide/indexing.html#returning-a-view-versus-a-copy\n",
      "  self._setitem_single_column(ilocs[0], value, pi)\n"
     ]
    }
   ],
   "source": [
    "import os\n",
    "cwd = '/data/data_zltick/rb'\n",
    "datas = []\n",
    "for _,__, files in os.walk(cwd):\n",
    "    for file in files:\n",
    "        if int(file[:4])<2021:\n",
    "            continue\n",
    "        data = preprocess(cwd, file)\n",
    "        datas.append(data)"
   ]
  },
  {
   "cell_type": "code",
   "execution_count": 5,
   "metadata": {},
   "outputs": [],
   "source": [
    "# import matplotlib.pyplot as plt\n",
    "# fig, ax1 = plt.subplots()\n",
    "\n",
    "# ax2 = ax1.twinx()\n",
    "# ax1.plot(tdata.bid[500:800])\n",
    "# ax2.plot(tdata.volume[500:800], color='red')\n",
    "\n",
    "# plt.show()"
   ]
  },
  {
   "cell_type": "code",
   "execution_count": 6,
   "metadata": {},
   "outputs": [],
   "source": [
    "env = BaseMarket(datas=datas,back_length=100,time_limit=600)"
   ]
  },
  {
   "cell_type": "code",
   "execution_count": 25,
   "metadata": {},
   "outputs": [
    {
     "name": "stdout",
     "output_type": "stream",
     "text": [
      "-0.0146484375\n"
     ]
    }
   ],
   "source": [
    "tot = 0\n",
    "env.seed(777)\n",
    "for i in range(1024):\n",
    "    done = False\n",
    "    state = env.reset()\n",
    "    action = 0\n",
    "    while not done:\n",
    "        state, reward, done, _ = env.step(action)\n",
    "        if state[0] == 1:\n",
    "            action = 1\n",
    "    tot += reward\n",
    "print(tot/1024)"
   ]
  },
  {
   "cell_type": "code",
   "execution_count": 26,
   "metadata": {},
   "outputs": [
    {
     "name": "stdout",
     "output_type": "stream",
     "text": [
      "-0.0615234375\n"
     ]
    }
   ],
   "source": [
    "env.seed(777)\n",
    "tot = 0\n",
    "for i in range(1024):\n",
    "    done = False\n",
    "    state = env.reset()\n",
    "    while not done:\n",
    "        action = env.action_space.sample()\n",
    "        state, reward, done, _ = env.step(action)\n",
    "    tot += reward\n",
    "print(tot/1024)"
   ]
  },
  {
   "cell_type": "code",
   "execution_count": 28,
   "metadata": {},
   "outputs": [],
   "source": [
    "import elegantrl.agent as agent\n",
    "from elegantrl.config import Arguments\n",
    "env_args = {\n",
    "    'env_num': 1,\n",
    "    'env_name': 'executioner',\n",
    "    'max_step': 600,\n",
    "    'state_dim': (100+1)*5,\n",
    "    'action_dim': 2,\n",
    "    'if_discrete': True,\n",
    "    'target_return': 0.3\n",
    "}"
   ]
  },
  {
   "cell_type": "code",
   "execution_count": 29,
   "metadata": {},
   "outputs": [],
   "source": [
    "args = Arguments(agent.AgentD3QN,env=env, env_args=env_args)"
   ]
  },
  {
   "cell_type": "code",
   "execution_count": 30,
   "metadata": {},
   "outputs": [],
   "source": [
    "from elegantrl.run import train_and_evaluate"
   ]
  },
  {
   "cell_type": "code",
   "execution_count": 31,
   "metadata": {},
   "outputs": [
    {
     "name": "stdout",
     "output_type": "stream",
     "text": [
      "| Arguments Remove cwd: ./executioner_D3QN_0\n",
      "################################################################################\n",
      "ID     Step    maxR |    avgR   stdR   avgS  stdS |    expR   objC   etc.\n",
      "0  3.00e+04    0.07 |\n",
      "0  3.00e+04    0.07 |    0.07    0.9      6    14 |   -0.05   0.06  -0.04\n",
      "0  2.10e+05    0.07 |   -0.05    3.0     69   135 |    0.00   0.07  -0.18\n",
      "0  3.60e+05    0.09 |\n",
      "0  3.60e+05    0.09 |    0.09    1.0      8    13 |    0.01   0.07  -0.41\n",
      "0  5.10e+05    0.17 |\n",
      "0  5.10e+05    0.17 |    0.17    1.2     14    21 |    0.01   0.08  -0.49\n",
      "0  6.30e+05    0.17 |    0.17    1.1     11    16 |    0.01   0.12  -0.69\n",
      "0  7.50e+05    0.17 |    0.01    0.5      1     2 |    0.03   0.13  -0.68\n",
      "0  8.70e+05    0.19 |\n",
      "0  8.70e+05    0.19 |    0.19    1.0      9    12 |    0.02   0.09  -0.37\n",
      "0  9.60e+05    0.24 |\n",
      "0  9.60e+05    0.24 |    0.24    0.9      8    11 |    0.03   0.09  -0.25\n",
      "0  1.05e+06    0.25 |\n",
      "0  1.05e+06    0.25 |    0.25    0.9      8    11 |    0.02   0.10  -0.21\n",
      "0  1.14e+06    0.27 |\n",
      "0  1.14e+06    0.27 |    0.27    0.9      8    12 |    0.02   0.11  -0.28\n",
      "0  1.23e+06    0.28 |\n",
      "0  1.23e+06    0.28 |    0.28    1.2     12    21 |    0.03   0.08  -0.13\n",
      "0  1.32e+06    0.28 |    0.27    1.2     14    20 |    0.02   0.08  -0.09\n",
      "0  1.41e+06    0.28 |    0.26    1.4     20    28 |    0.02   0.08   0.06\n",
      "0  1.50e+06    0.28 |    0.27    1.2     13    21 |    0.03   0.06  -0.04\n",
      "0  1.59e+06    0.30 |\n",
      "0  1.59e+06    0.30 |    0.30    1.2     16    24 |    0.02   0.10  -0.02\n",
      "0  1.68e+06    0.30 |    0.25    1.6     20    37 |    0.01   0.08  -0.14\n",
      "0  1.77e+06    0.30 |    0.30    0.8      7    12 |    0.04   0.10  -0.16\n",
      "0  1.86e+06    0.30 |    0.25    1.5     21    39 |    0.02   0.07  -0.01\n",
      "0  1.95e+06    0.30 |    0.29    0.9      9    18 |    0.02   0.08  -0.15\n",
      "0  2.01e+06    0.30 |    0.29    1.4     15    48 |    0.03   0.10  -0.07\n",
      "0  2.07e+06    0.30 |\n",
      "0  2.07e+06    0.30 |    0.30    1.2     18    28 |    0.04   0.10  -0.12\n",
      "| UsedTime: 3168 | SavedDir: ./executioner_D3QN_0\n",
      "| ReplayBuffer save in: ./executioner_D3QN_0/replay_0.npz\n"
     ]
    }
   ],
   "source": [
    "args.target_step = args.max_step * 50\n",
    "args.eval_times = 2 ** 10\n",
    "args.net_dim = 512\n",
    "args.batch_size = 1024\n",
    "args.gamma = 1\n",
    "args.explore_rate = 0.1\n",
    "args.seed = 777\n",
    "args.learning_rate = 2**-16\n",
    "train_and_evaluate(args)"
   ]
  },
  {
   "cell_type": "code",
   "execution_count": 32,
   "metadata": {},
   "outputs": [],
   "source": [
    "# age = args.agent().save_or_load_agent(cwd='./executioner_D3QN_0', if_save=False)\n",
    "from elegantrl.run import *"
   ]
  },
  {
   "cell_type": "code",
   "execution_count": 33,
   "metadata": {},
   "outputs": [],
   "source": [
    "import torch\n",
    "torch.set_grad_enabled(False)\n",
    "# args.init_before_training()\n",
    "gpu_id = args.learner_gpus\n",
    "\n",
    "'''init'''\n",
    "env = build_env(args.env, args.env_func, args.env_args)\n",
    "\n",
    "age = init_agent(args, gpu_id, env)"
   ]
  },
  {
   "cell_type": "code",
   "execution_count": 34,
   "metadata": {},
   "outputs": [],
   "source": [
    "age.save_or_load_agent('./executioner_D3QN_0', if_save=False)"
   ]
  },
  {
   "cell_type": "code",
   "execution_count": 58,
   "metadata": {},
   "outputs": [
    {
     "name": "stdout",
     "output_type": "stream",
     "text": [
      "0.208\n"
     ]
    }
   ],
   "source": [
    "for seed in range(100):\n",
    "env.seed(11188)\n",
    "tot = 0\n",
    "for i in range(1000):\n",
    "    done = False\n",
    "    state = env.reset()\n",
    "    steps = 0\n",
    "    # print(state.reshape((-1, 5)))\n",
    "    while not done:\n",
    "        steps += 1\n",
    "        ten_s = torch.as_tensor(state, dtype=torch.float32).unsqueeze(0)\n",
    "        ten_a = age.act(ten_s)\n",
    "        # print(ten_a)\n",
    "        ten_a = ten_a.argmax(dim=1)\n",
    "        state, reward, done, _ = env.step(ten_a[0].numpy())  # different\n",
    "        # print(state[-5:])\n",
    "        # print(reward)\n",
    "    tot += reward\n",
    "    env.episode_data[:300].to_csv('tmp.csv')\n",
    "    # break\n",
    "    # print(steps)\n",
    "print(tot/1000)"
   ]
  },
  {
   "cell_type": "code",
   "execution_count": 59,
   "metadata": {},
   "outputs": [
    {
     "name": "stdout",
     "output_type": "stream",
     "text": [
      "-0.049\n"
     ]
    }
   ],
   "source": [
    "tot = 0\n",
    "env.seed(11188)\n",
    "for i in range(1000):\n",
    "    done = False\n",
    "    state = env.reset()\n",
    "    action = 0\n",
    "    while not done:\n",
    "        state, reward, done, _ = env.step(action)\n",
    "        if state[-5] > 0:\n",
    "            action = 1\n",
    "    tot += reward\n",
    "print(tot/1000)"
   ]
  },
  {
   "cell_type": "code",
   "execution_count": 38,
   "metadata": {},
   "outputs": [
    {
     "name": "stdout",
     "output_type": "stream",
     "text": [
      "-0.046\n"
     ]
    }
   ],
   "source": [
    "tot = 0\n",
    "env.seed(1)\n",
    "for i in range(1000):\n",
    "    done = False\n",
    "    state = env.reset()\n",
    "    action = 1\n",
    "    while not done:\n",
    "        state, reward, done, _ = env.step(action)\n",
    "    tot += reward\n",
    "print(tot/1000)"
   ]
  },
  {
   "cell_type": "code",
   "execution_count": 41,
   "metadata": {},
   "outputs": [
    {
     "name": "stdout",
     "output_type": "stream",
     "text": [
      "-0.0302\n"
     ]
    }
   ],
   "source": [
    "tot = 0\n",
    "env.seed(1)\n",
    "for i in range(10000):\n",
    "    done = False\n",
    "    state = env.reset()\n",
    "    while not done:\n",
    "        action = env.action_space.sample()\n",
    "        state, reward, done, _ = env.step(action)\n",
    "    tot += reward\n",
    "print(tot/10000)"
   ]
  },
  {
   "cell_type": "code",
   "execution_count": 28,
   "metadata": {},
   "outputs": [],
   "source": [
    "tmp = np.load(r'executioner_D3QN_0\\replay_0.npz')"
   ]
  },
  {
   "cell_type": "code",
   "execution_count": 40,
   "metadata": {},
   "outputs": [],
   "source": [
    "import matplotlib.pyplot as plt\n",
    "import matplotlib\n",
    "matplotlib.use('tkagg')\n",
    "plt.plot(data['bid'])\n",
    "plt.show()"
   ]
  },
  {
   "cell_type": "code",
   "execution_count": 35,
   "metadata": {},
   "outputs": [
    {
     "data": {
      "text/plain": [
       "array([[ 0.  ,  0.  ,  0.  ],\n",
       "       [ 0.  ,  0.  ,  0.  ],\n",
       "       [ 0.  ,  0.  ,  0.  ],\n",
       "       ...,\n",
       "       [ 0.  ,  0.99,  2.  ],\n",
       "       [ 0.  ,  0.99,  2.  ],\n",
       "       [-0.  ,  0.  ,  2.  ]], dtype=float16)"
      ]
     },
     "execution_count": 35,
     "metadata": {},
     "output_type": "execute_result"
    }
   ],
   "source": [
    "tmp['buf_other']"
   ]
  },
  {
   "cell_type": "code",
   "execution_count": 5,
   "metadata": {},
   "outputs": [],
   "source": [
    "a = [(1,2,3),(3,4,5),(5,6,5),(7,8,5)]\n",
    "b = list(map(list, zip(*a)))"
   ]
  },
  {
   "cell_type": "code",
   "execution_count": 7,
   "metadata": {},
   "outputs": [
    {
     "data": {
      "text/plain": [
       "[[1, 3, 5, 7], [2, 4, 6, 8], [3, 5, 5, 5]]"
      ]
     },
     "execution_count": 7,
     "metadata": {},
     "output_type": "execute_result"
    }
   ],
   "source": [
    "import torch\n",
    "b"
   ]
  }
 ],
 "metadata": {
  "interpreter": {
   "hash": "fd743178cd687d8631a9d8ff4c93b928146afe1f13697893f00fa7b20727ad6b"
  },
  "kernelspec": {
   "display_name": "Python 3.9.7 ('pytorch')",
   "language": "python",
   "name": "python3"
  },
  "language_info": {
   "codemirror_mode": {
    "name": "ipython",
    "version": 3
   },
   "file_extension": ".py",
   "mimetype": "text/x-python",
   "name": "python",
   "nbconvert_exporter": "python",
   "pygments_lexer": "ipython3",
   "version": "3.9.7"
  },
  "orig_nbformat": 4
 },
 "nbformat": 4,
 "nbformat_minor": 2
}
