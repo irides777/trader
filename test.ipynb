{
 "cells": [
  {
   "cell_type": "code",
   "execution_count": 1,
   "metadata": {},
   "outputs": [],
   "source": [
    "import numpy as np\n",
    "import pandas as pd"
   ]
  },
  {
   "cell_type": "code",
   "execution_count": 2,
   "metadata": {},
   "outputs": [],
   "source": [
    "from env import *"
   ]
  },
  {
   "cell_type": "code",
   "execution_count": 3,
   "metadata": {},
   "outputs": [
    {
     "data": {
      "text/html": [
       "<div>\n",
       "<style scoped>\n",
       "    .dataframe tbody tr th:only-of-type {\n",
       "        vertical-align: middle;\n",
       "    }\n",
       "\n",
       "    .dataframe tbody tr th {\n",
       "        vertical-align: top;\n",
       "    }\n",
       "\n",
       "    .dataframe thead th {\n",
       "        text-align: right;\n",
       "    }\n",
       "</style>\n",
       "<table border=\"1\" class=\"dataframe\">\n",
       "  <thead>\n",
       "    <tr style=\"text-align: right;\">\n",
       "      <th></th>\n",
       "      <th>date</th>\n",
       "      <th>time</th>\n",
       "      <th>ms</th>\n",
       "      <th>lastprice</th>\n",
       "      <th>volume</th>\n",
       "      <th>bid</th>\n",
       "      <th>bidv</th>\n",
       "      <th>ask</th>\n",
       "      <th>askv</th>\n",
       "      <th>opi</th>\n",
       "      <th>tur</th>\n",
       "      <th>contract</th>\n",
       "      <th>datestr</th>\n",
       "      <th>timestr</th>\n",
       "      <th>midprice</th>\n",
       "    </tr>\n",
       "  </thead>\n",
       "  <tbody>\n",
       "    <tr>\n",
       "      <th>0</th>\n",
       "      <td>20220127</td>\n",
       "      <td>205900</td>\n",
       "      <td>0</td>\n",
       "      <td>4691.0</td>\n",
       "      <td>0.0</td>\n",
       "      <td>4690.0</td>\n",
       "      <td>184</td>\n",
       "      <td>4691.0</td>\n",
       "      <td>14</td>\n",
       "      <td>1728081.0</td>\n",
       "      <td>0.0</td>\n",
       "      <td>rb2205</td>\n",
       "      <td>2022-01-27</td>\n",
       "      <td>20:59:00.000</td>\n",
       "      <td>4690.5</td>\n",
       "    </tr>\n",
       "    <tr>\n",
       "      <th>1</th>\n",
       "      <td>20220127</td>\n",
       "      <td>210000</td>\n",
       "      <td>0</td>\n",
       "      <td>4691.0</td>\n",
       "      <td>1458.0</td>\n",
       "      <td>4689.0</td>\n",
       "      <td>23</td>\n",
       "      <td>4691.0</td>\n",
       "      <td>28</td>\n",
       "      <td>1728287.0</td>\n",
       "      <td>68418190.0</td>\n",
       "      <td>rb2205</td>\n",
       "      <td>2022-01-27</td>\n",
       "      <td>21:00:00.000</td>\n",
       "      <td>4690.0</td>\n",
       "    </tr>\n",
       "    <tr>\n",
       "      <th>2</th>\n",
       "      <td>20220127</td>\n",
       "      <td>210001</td>\n",
       "      <td>0</td>\n",
       "      <td>4690.0</td>\n",
       "      <td>1185.0</td>\n",
       "      <td>4690.0</td>\n",
       "      <td>646</td>\n",
       "      <td>4692.0</td>\n",
       "      <td>83</td>\n",
       "      <td>1727979.0</td>\n",
       "      <td>55589910.0</td>\n",
       "      <td>rb2205</td>\n",
       "      <td>2022-01-27</td>\n",
       "      <td>21:00:01.000</td>\n",
       "      <td>4691.0</td>\n",
       "    </tr>\n",
       "    <tr>\n",
       "      <th>3</th>\n",
       "      <td>20220127</td>\n",
       "      <td>210001</td>\n",
       "      <td>500</td>\n",
       "      <td>4695.0</td>\n",
       "      <td>857.0</td>\n",
       "      <td>4692.0</td>\n",
       "      <td>1</td>\n",
       "      <td>4695.0</td>\n",
       "      <td>1</td>\n",
       "      <td>1727749.0</td>\n",
       "      <td>40204390.0</td>\n",
       "      <td>rb2205</td>\n",
       "      <td>2022-01-27</td>\n",
       "      <td>21:00:01.500</td>\n",
       "      <td>4693.5</td>\n",
       "    </tr>\n",
       "    <tr>\n",
       "      <th>4</th>\n",
       "      <td>20220127</td>\n",
       "      <td>210002</td>\n",
       "      <td>0</td>\n",
       "      <td>4692.0</td>\n",
       "      <td>445.0</td>\n",
       "      <td>4692.0</td>\n",
       "      <td>101</td>\n",
       "      <td>4693.0</td>\n",
       "      <td>1</td>\n",
       "      <td>1727614.0</td>\n",
       "      <td>20879450.0</td>\n",
       "      <td>rb2205</td>\n",
       "      <td>2022-01-27</td>\n",
       "      <td>21:00:02.000</td>\n",
       "      <td>4692.5</td>\n",
       "    </tr>\n",
       "    <tr>\n",
       "      <th>...</th>\n",
       "      <td>...</td>\n",
       "      <td>...</td>\n",
       "      <td>...</td>\n",
       "      <td>...</td>\n",
       "      <td>...</td>\n",
       "      <td>...</td>\n",
       "      <td>...</td>\n",
       "      <td>...</td>\n",
       "      <td>...</td>\n",
       "      <td>...</td>\n",
       "      <td>...</td>\n",
       "      <td>...</td>\n",
       "      <td>...</td>\n",
       "      <td>...</td>\n",
       "      <td>...</td>\n",
       "    </tr>\n",
       "    <tr>\n",
       "      <th>41269</th>\n",
       "      <td>20220128</td>\n",
       "      <td>145958</td>\n",
       "      <td>500</td>\n",
       "      <td>4830.0</td>\n",
       "      <td>123.0</td>\n",
       "      <td>4829.0</td>\n",
       "      <td>254</td>\n",
       "      <td>4830.0</td>\n",
       "      <td>665</td>\n",
       "      <td>1675485.0</td>\n",
       "      <td>5940230.0</td>\n",
       "      <td>rb2205</td>\n",
       "      <td>2022-01-28</td>\n",
       "      <td>14:59:58.500</td>\n",
       "      <td>4829.5</td>\n",
       "    </tr>\n",
       "    <tr>\n",
       "      <th>41270</th>\n",
       "      <td>20220128</td>\n",
       "      <td>145959</td>\n",
       "      <td>0</td>\n",
       "      <td>4830.0</td>\n",
       "      <td>438.0</td>\n",
       "      <td>4829.0</td>\n",
       "      <td>252</td>\n",
       "      <td>4830.0</td>\n",
       "      <td>265</td>\n",
       "      <td>1675646.0</td>\n",
       "      <td>21155270.0</td>\n",
       "      <td>rb2205</td>\n",
       "      <td>2022-01-28</td>\n",
       "      <td>14:59:59.000</td>\n",
       "      <td>4829.5</td>\n",
       "    </tr>\n",
       "    <tr>\n",
       "      <th>41271</th>\n",
       "      <td>20220128</td>\n",
       "      <td>145959</td>\n",
       "      <td>500</td>\n",
       "      <td>4830.0</td>\n",
       "      <td>179.0</td>\n",
       "      <td>4829.0</td>\n",
       "      <td>186</td>\n",
       "      <td>4830.0</td>\n",
       "      <td>156</td>\n",
       "      <td>1675708.0</td>\n",
       "      <td>8645010.0</td>\n",
       "      <td>rb2205</td>\n",
       "      <td>2022-01-28</td>\n",
       "      <td>14:59:59.500</td>\n",
       "      <td>4829.5</td>\n",
       "    </tr>\n",
       "    <tr>\n",
       "      <th>41272</th>\n",
       "      <td>20220128</td>\n",
       "      <td>150000</td>\n",
       "      <td>0</td>\n",
       "      <td>4829.0</td>\n",
       "      <td>97.0</td>\n",
       "      <td>4829.0</td>\n",
       "      <td>132</td>\n",
       "      <td>4830.0</td>\n",
       "      <td>134</td>\n",
       "      <td>1675744.0</td>\n",
       "      <td>4684500.0</td>\n",
       "      <td>rb2205</td>\n",
       "      <td>2022-01-28</td>\n",
       "      <td>15:00:00.000</td>\n",
       "      <td>4829.5</td>\n",
       "    </tr>\n",
       "    <tr>\n",
       "      <th>41273</th>\n",
       "      <td>20220128</td>\n",
       "      <td>150000</td>\n",
       "      <td>500</td>\n",
       "      <td>4829.0</td>\n",
       "      <td>0.0</td>\n",
       "      <td>4829.0</td>\n",
       "      <td>132</td>\n",
       "      <td>4830.0</td>\n",
       "      <td>134</td>\n",
       "      <td>1675744.0</td>\n",
       "      <td>0.0</td>\n",
       "      <td>rb2205</td>\n",
       "      <td>2022-01-28</td>\n",
       "      <td>15:00:00.500</td>\n",
       "      <td>4829.5</td>\n",
       "    </tr>\n",
       "  </tbody>\n",
       "</table>\n",
       "<p>41274 rows × 15 columns</p>\n",
       "</div>"
      ],
      "text/plain": [
       "           date    time   ms  lastprice  volume     bid  bidv     ask  askv  \\\n",
       "0      20220127  205900    0     4691.0     0.0  4690.0   184  4691.0    14   \n",
       "1      20220127  210000    0     4691.0  1458.0  4689.0    23  4691.0    28   \n",
       "2      20220127  210001    0     4690.0  1185.0  4690.0   646  4692.0    83   \n",
       "3      20220127  210001  500     4695.0   857.0  4692.0     1  4695.0     1   \n",
       "4      20220127  210002    0     4692.0   445.0  4692.0   101  4693.0     1   \n",
       "...         ...     ...  ...        ...     ...     ...   ...     ...   ...   \n",
       "41269  20220128  145958  500     4830.0   123.0  4829.0   254  4830.0   665   \n",
       "41270  20220128  145959    0     4830.0   438.0  4829.0   252  4830.0   265   \n",
       "41271  20220128  145959  500     4830.0   179.0  4829.0   186  4830.0   156   \n",
       "41272  20220128  150000    0     4829.0    97.0  4829.0   132  4830.0   134   \n",
       "41273  20220128  150000  500     4829.0     0.0  4829.0   132  4830.0   134   \n",
       "\n",
       "             opi         tur contract     datestr       timestr  midprice  \n",
       "0      1728081.0         0.0   rb2205  2022-01-27  20:59:00.000    4690.5  \n",
       "1      1728287.0  68418190.0   rb2205  2022-01-27  21:00:00.000    4690.0  \n",
       "2      1727979.0  55589910.0   rb2205  2022-01-27  21:00:01.000    4691.0  \n",
       "3      1727749.0  40204390.0   rb2205  2022-01-27  21:00:01.500    4693.5  \n",
       "4      1727614.0  20879450.0   rb2205  2022-01-27  21:00:02.000    4692.5  \n",
       "...          ...         ...      ...         ...           ...       ...  \n",
       "41269  1675485.0   5940230.0   rb2205  2022-01-28  14:59:58.500    4829.5  \n",
       "41270  1675646.0  21155270.0   rb2205  2022-01-28  14:59:59.000    4829.5  \n",
       "41271  1675708.0   8645010.0   rb2205  2022-01-28  14:59:59.500    4829.5  \n",
       "41272  1675744.0   4684500.0   rb2205  2022-01-28  15:00:00.000    4829.5  \n",
       "41273  1675744.0         0.0   rb2205  2022-01-28  15:00:00.500    4829.5  \n",
       "\n",
       "[41274 rows x 15 columns]"
      ]
     },
     "execution_count": 3,
     "metadata": {},
     "output_type": "execute_result"
    }
   ],
   "source": [
    "data = pd.read_csv(r'data\\data.csv')\n",
    "data"
   ]
  },
  {
   "cell_type": "code",
   "execution_count": 4,
   "metadata": {},
   "outputs": [
    {
     "name": "stderr",
     "output_type": "stream",
     "text": [
      "C:\\Users\\remote\\Anaconda3\\envs\\pytorch\\lib\\site-packages\\pandas\\core\\indexing.py:1773: SettingWithCopyWarning: \n",
      "A value is trying to be set on a copy of a slice from a DataFrame.\n",
      "Try using .loc[row_indexer,col_indexer] = value instead\n",
      "\n",
      "See the caveats in the documentation: https://pandas.pydata.org/pandas-docs/stable/user_guide/indexing.html#returning-a-view-versus-a-copy\n",
      "  self._setitem_single_column(ilocs[0], value, pi)\n"
     ]
    }
   ],
   "source": [
    "tdata = data[['bid','ask','bidv','askv','volume']]\n",
    "std = tdata.iloc[0,0]\n",
    "tdata.loc[:,'bid'] = tdata['bid']-std\n",
    "tdata.loc[:,'ask'] = tdata['ask']-std\n",
    "\n",
    "def norm(x):\n",
    "    return (x-x.mean())/x.std()\n",
    "\n",
    "tdata.loc[:,'askv'] = norm(tdata.askv)\n",
    "tdata.loc[:,'bidv'] = norm(tdata.bidv)\n",
    "tdata.loc[:,'volume'] = norm(tdata.volume)"
   ]
  },
  {
   "cell_type": "code",
   "execution_count": 5,
   "metadata": {},
   "outputs": [
    {
     "data": {
      "image/png": "[encoded data removed]",
      "text/plain": [
       "<Figure size 432x288 with 2 Axes>"
      ]
     },
     "metadata": {
      "needs_background": "light"
     },
     "output_type": "display_data"
    }
   ],
   "source": [
    "import matplotlib.pyplot as plt\n",
    "fig, ax1 = plt.subplots()\n",
    "\n",
    "ax2 = ax1.twinx()\n",
    "ax1.plot(tdata.bid[500:800])\n",
    "ax2.plot(tdata.volume[500:800], color='red')\n",
    "\n",
    "plt.show()"
   ]
  },
  {
   "cell_type": "code",
   "execution_count": null,
   "metadata": {},
   "outputs": [],
   "source": []
  },
  {
   "cell_type": "code",
   "execution_count": 6,
   "metadata": {},
   "outputs": [
    {
     "name": "stderr",
     "output_type": "stream",
     "text": [
      "C:\\Users\\remote\\Anaconda3\\envs\\pytorch\\lib\\site-packages\\gym\\logger.py:30: UserWarning: \u001b[33mWARN: Box bound precision lowered by casting to float32\u001b[0m\n",
      "  warnings.warn(colorize('%s: %s'%('WARN', msg % args), 'yellow'))\n"
     ]
    }
   ],
   "source": [
    "env = BaseMarket(tdata,back_length=100,time_limit=600)"
   ]
  },
  {
   "cell_type": "code",
   "execution_count": 7,
   "metadata": {},
   "outputs": [
    {
     "name": "stdout",
     "output_type": "stream",
     "text": [
      "-0.138\n"
     ]
    }
   ],
   "source": [
    "tot = 0\n",
    "env.seed(1)\n",
    "for i in range(1024):\n",
    "    done = False\n",
    "    state = env.reset()\n",
    "    action = 1\n",
    "    while not done:\n",
    "        state, reward, done, _ = env.step(action)\n",
    "        action = 0\n",
    "        if state[2] == 1:\n",
    "            action = 2\n",
    "    tot += reward\n",
    "print(tot/500)"
   ]
  },
  {
   "cell_type": "code",
   "execution_count": 8,
   "metadata": {},
   "outputs": [
    {
     "name": "stdout",
     "output_type": "stream",
     "text": [
      "-0.052\n"
     ]
    }
   ],
   "source": [
    "env.seed(1)\n",
    "tot = 0\n",
    "for i in range(500):\n",
    "    done = False\n",
    "    state = env.reset()\n",
    "    while not done:\n",
    "        action = env.action_space.sample()\n",
    "        state, reward, done, _ = env.step(action)\n",
    "    tot += reward\n",
    "print(tot/500)"
   ]
  },
  {
   "cell_type": "code",
   "execution_count": 9,
   "metadata": {},
   "outputs": [],
   "source": [
    "import elegantrl.agent as agent\n",
    "from elegantrl.config import Arguments\n",
    "env_args = {\n",
    "    'env_num': 1,\n",
    "    'env_name': 'executioner',\n",
    "    'max_step': 600,\n",
    "    'state_dim': (100+1)*5,\n",
    "    'action_dim': 3,\n",
    "    'if_discrete': True,\n",
    "    'target_return': 0.5\n",
    "}"
   ]
  },
  {
   "cell_type": "code",
   "execution_count": 10,
   "metadata": {},
   "outputs": [],
   "source": [
    "args = Arguments(agent.AgentD3QN,env=env, env_args=env_args)"
   ]
  },
  {
   "cell_type": "code",
   "execution_count": 11,
   "metadata": {},
   "outputs": [],
   "source": [
    "from elegantrl.run import train_and_evaluate"
   ]
  },
  {
   "cell_type": "code",
   "execution_count": 13,
   "metadata": {},
   "outputs": [
    {
     "name": "stdout",
     "output_type": "stream",
     "text": [
      "| Arguments Remove cwd: ./executioner_D3QN_0\n",
      "################################################################################\n",
      "ID     Step    maxR |    avgR   stdR   avgS  stdS |    expR   objC   etc.\n",
      "0  1.80e+04   -0.04 |\n",
      "0  1.80e+04   -0.04 |   -0.04    0.7      4     9 |   -0.06   0.21  -0.04\n",
      "0  9.01e+04   -0.04 |   -0.07    1.7     20    36 |    0.01   0.09   0.09\n",
      "0  1.62e+05   -0.04 |   -0.12    2.0     27    46 |    0.00   0.08  -0.04\n",
      "0  2.34e+05   -0.04 |   -0.29    3.3     53   127 |    0.00   0.05   0.14\n",
      "0  2.88e+05   -0.04 |   -0.06    2.0     29    75 |    0.01   0.06  -0.04\n",
      "0  3.42e+05   -0.04 |   -0.11    2.4     37    73 |    0.00   0.06   0.08\n",
      "0  3.96e+05   -0.04 |   -0.13    2.3     39    60 |    0.00   0.04  -0.07\n"
     ]
    },
    {
     "ename": "KeyboardInterrupt",
     "evalue": "",
     "output_type": "error",
     "traceback": [
      "\u001b[1;31m---------------------------------------------------------------------------\u001b[0m",
      "\u001b[1;31mKeyboardInterrupt\u001b[0m                         Traceback (most recent call last)",
      "\u001b[1;32m~\\AppData\\Local\\Temp/ipykernel_20212/155804807.py\u001b[0m in \u001b[0;36m<module>\u001b[1;34m\u001b[0m\n\u001b[0;32m      7\u001b[0m \u001b[0margs\u001b[0m\u001b[1;33m.\u001b[0m\u001b[0mseed\u001b[0m \u001b[1;33m=\u001b[0m \u001b[1;36m111\u001b[0m\u001b[1;33m\u001b[0m\u001b[1;33m\u001b[0m\u001b[0m\n\u001b[0;32m      8\u001b[0m \u001b[0margs\u001b[0m\u001b[1;33m.\u001b[0m\u001b[0mlearning_rate\u001b[0m \u001b[1;33m=\u001b[0m \u001b[1;36m2\u001b[0m\u001b[1;33m**\u001b[0m\u001b[1;33m-\u001b[0m\u001b[1;36m16\u001b[0m\u001b[1;33m\u001b[0m\u001b[1;33m\u001b[0m\u001b[0m\n\u001b[1;32m----> 9\u001b[1;33m \u001b[0mtrain_and_evaluate\u001b[0m\u001b[1;33m(\u001b[0m\u001b[0margs\u001b[0m\u001b[1;33m)\u001b[0m\u001b[1;33m\u001b[0m\u001b[1;33m\u001b[0m\u001b[0m\n\u001b[0m",
      "\u001b[1;32md:\\lhy\\trader\\elegantrl\\run.py\u001b[0m in \u001b[0;36mtrain_and_evaluate\u001b[1;34m(***failed resolving arguments***)\u001b[0m\n\u001b[0;32m     45\u001b[0m \u001b[1;33m\u001b[0m\u001b[0m\n\u001b[0;32m     46\u001b[0m         \u001b[0mtorch\u001b[0m\u001b[1;33m.\u001b[0m\u001b[0mset_grad_enabled\u001b[0m\u001b[1;33m(\u001b[0m\u001b[1;32mTrue\u001b[0m\u001b[1;33m)\u001b[0m\u001b[1;33m\u001b[0m\u001b[1;33m\u001b[0m\u001b[0m\n\u001b[1;32m---> 47\u001b[1;33m         \u001b[0mlogging_tuple\u001b[0m \u001b[1;33m=\u001b[0m \u001b[0magent\u001b[0m\u001b[1;33m.\u001b[0m\u001b[0mupdate_net\u001b[0m\u001b[1;33m(\u001b[0m\u001b[0mbuffer\u001b[0m\u001b[1;33m)\u001b[0m\u001b[1;33m\u001b[0m\u001b[1;33m\u001b[0m\u001b[0m\n\u001b[0m\u001b[0;32m     48\u001b[0m         \u001b[0mtorch\u001b[0m\u001b[1;33m.\u001b[0m\u001b[0mset_grad_enabled\u001b[0m\u001b[1;33m(\u001b[0m\u001b[1;32mFalse\u001b[0m\u001b[1;33m)\u001b[0m\u001b[1;33m\u001b[0m\u001b[1;33m\u001b[0m\u001b[0m\n\u001b[0;32m     49\u001b[0m \u001b[1;33m\u001b[0m\u001b[0m\n",
      "\u001b[1;32md:\\lhy\\trader\\elegantrl\\agent.py\u001b[0m in \u001b[0;36mupdate_net\u001b[1;34m(self, buffer)\u001b[0m\n\u001b[0;32m    407\u001b[0m             \u001b[0mobj_critic\u001b[0m\u001b[1;33m,\u001b[0m \u001b[0mq_value\u001b[0m \u001b[1;33m=\u001b[0m \u001b[0mself\u001b[0m\u001b[1;33m.\u001b[0m\u001b[0mget_obj_critic\u001b[0m\u001b[1;33m(\u001b[0m\u001b[0mbuffer\u001b[0m\u001b[1;33m,\u001b[0m \u001b[0mself\u001b[0m\u001b[1;33m.\u001b[0m\u001b[0mbatch_size\u001b[0m\u001b[1;33m)\u001b[0m\u001b[1;33m\u001b[0m\u001b[1;33m\u001b[0m\u001b[0m\n\u001b[0;32m    408\u001b[0m             \u001b[0mself\u001b[0m\u001b[1;33m.\u001b[0m\u001b[0moptim_update\u001b[0m\u001b[1;33m(\u001b[0m\u001b[0mself\u001b[0m\u001b[1;33m.\u001b[0m\u001b[0mcri_optim\u001b[0m\u001b[1;33m,\u001b[0m \u001b[0mobj_critic\u001b[0m\u001b[1;33m)\u001b[0m\u001b[1;33m\u001b[0m\u001b[1;33m\u001b[0m\u001b[0m\n\u001b[1;32m--> 409\u001b[1;33m             \u001b[0mself\u001b[0m\u001b[1;33m.\u001b[0m\u001b[0msoft_update\u001b[0m\u001b[1;33m(\u001b[0m\u001b[0mself\u001b[0m\u001b[1;33m.\u001b[0m\u001b[0mcri_target\u001b[0m\u001b[1;33m,\u001b[0m \u001b[0mself\u001b[0m\u001b[1;33m.\u001b[0m\u001b[0mcri\u001b[0m\u001b[1;33m,\u001b[0m \u001b[0mself\u001b[0m\u001b[1;33m.\u001b[0m\u001b[0msoft_update_tau\u001b[0m\u001b[1;33m)\u001b[0m\u001b[1;33m\u001b[0m\u001b[1;33m\u001b[0m\u001b[0m\n\u001b[0m\u001b[0;32m    410\u001b[0m         \u001b[1;32mreturn\u001b[0m \u001b[0mobj_critic\u001b[0m\u001b[1;33m.\u001b[0m\u001b[0mitem\u001b[0m\u001b[1;33m(\u001b[0m\u001b[1;33m)\u001b[0m\u001b[1;33m,\u001b[0m \u001b[0mq_value\u001b[0m\u001b[1;33m.\u001b[0m\u001b[0mmean\u001b[0m\u001b[1;33m(\u001b[0m\u001b[1;33m)\u001b[0m\u001b[1;33m.\u001b[0m\u001b[0mitem\u001b[0m\u001b[1;33m(\u001b[0m\u001b[1;33m)\u001b[0m\u001b[1;33m\u001b[0m\u001b[1;33m\u001b[0m\u001b[0m\n\u001b[0;32m    411\u001b[0m \u001b[1;33m\u001b[0m\u001b[0m\n",
      "\u001b[1;32md:\\lhy\\trader\\elegantrl\\agent.py\u001b[0m in \u001b[0;36msoft_update\u001b[1;34m(target_net, current_net, tau)\u001b[0m\n\u001b[0;32m    318\u001b[0m     \u001b[1;32mdef\u001b[0m \u001b[0msoft_update\u001b[0m\u001b[1;33m(\u001b[0m\u001b[0mtarget_net\u001b[0m\u001b[1;33m,\u001b[0m \u001b[0mcurrent_net\u001b[0m\u001b[1;33m,\u001b[0m \u001b[0mtau\u001b[0m\u001b[1;33m)\u001b[0m\u001b[1;33m:\u001b[0m\u001b[1;33m\u001b[0m\u001b[1;33m\u001b[0m\u001b[0m\n\u001b[0;32m    319\u001b[0m         \u001b[1;32mfor\u001b[0m \u001b[0mtar\u001b[0m\u001b[1;33m,\u001b[0m \u001b[0mcur\u001b[0m \u001b[1;32min\u001b[0m \u001b[0mzip\u001b[0m\u001b[1;33m(\u001b[0m\u001b[0mtarget_net\u001b[0m\u001b[1;33m.\u001b[0m\u001b[0mparameters\u001b[0m\u001b[1;33m(\u001b[0m\u001b[1;33m)\u001b[0m\u001b[1;33m,\u001b[0m \u001b[0mcurrent_net\u001b[0m\u001b[1;33m.\u001b[0m\u001b[0mparameters\u001b[0m\u001b[1;33m(\u001b[0m\u001b[1;33m)\u001b[0m\u001b[1;33m)\u001b[0m\u001b[1;33m:\u001b[0m\u001b[1;33m\u001b[0m\u001b[1;33m\u001b[0m\u001b[0m\n\u001b[1;32m--> 320\u001b[1;33m             \u001b[0mtar\u001b[0m\u001b[1;33m.\u001b[0m\u001b[0mdata\u001b[0m\u001b[1;33m.\u001b[0m\u001b[0mcopy_\u001b[0m\u001b[1;33m(\u001b[0m\u001b[0mcur\u001b[0m\u001b[1;33m.\u001b[0m\u001b[0mdata\u001b[0m \u001b[1;33m*\u001b[0m \u001b[0mtau\u001b[0m \u001b[1;33m+\u001b[0m \u001b[0mtar\u001b[0m\u001b[1;33m.\u001b[0m\u001b[0mdata\u001b[0m \u001b[1;33m*\u001b[0m \u001b[1;33m(\u001b[0m\u001b[1;36m1.0\u001b[0m \u001b[1;33m-\u001b[0m \u001b[0mtau\u001b[0m\u001b[1;33m)\u001b[0m\u001b[1;33m)\u001b[0m\u001b[1;33m\u001b[0m\u001b[1;33m\u001b[0m\u001b[0m\n\u001b[0m\u001b[0;32m    321\u001b[0m \u001b[1;33m\u001b[0m\u001b[0m\n\u001b[0;32m    322\u001b[0m     \u001b[1;32mdef\u001b[0m \u001b[0msave_or_load_agent\u001b[0m\u001b[1;33m(\u001b[0m\u001b[0mself\u001b[0m\u001b[1;33m,\u001b[0m \u001b[0mcwd\u001b[0m\u001b[1;33m,\u001b[0m \u001b[0mif_save\u001b[0m\u001b[1;33m)\u001b[0m\u001b[1;33m:\u001b[0m\u001b[1;33m\u001b[0m\u001b[1;33m\u001b[0m\u001b[0m\n",
      "\u001b[1;31mKeyboardInterrupt\u001b[0m: "
     ]
    }
   ],
   "source": [
    "args.target_step = args.max_step * 30\n",
    "args.eval_times = 2 ** 9\n",
    "args.net_dim = 512\n",
    "args.batch_size = 512\n",
    "args.gamma = 0.96\n",
    "args.explore_rate = 0.1\n",
    "args.seed = 111\n",
    "args.learning_rate = 2**-16\n",
    "train_and_evaluate(args)"
   ]
  },
  {
   "cell_type": "code",
   "execution_count": 14,
   "metadata": {},
   "outputs": [],
   "source": [
    "# age = args.agent().save_or_load_agent(cwd='./executioner_D3QN_0', if_save=False)\n",
    "from elegantrl.run import *"
   ]
  },
  {
   "cell_type": "code",
   "execution_count": 49,
   "metadata": {},
   "outputs": [],
   "source": [
    "import torch\n",
    "torch.set_grad_enabled(False)\n",
    "# args.init_before_training()\n",
    "gpu_id = args.learner_gpus\n",
    "\n",
    "'''init'''\n",
    "env = build_env(args.env, args.env_func, args.env_args)\n",
    "\n",
    "age = init_agent(args, gpu_id, env)"
   ]
  },
  {
   "cell_type": "code",
   "execution_count": 50,
   "metadata": {},
   "outputs": [],
   "source": [
    "age.save_or_load_agent('./executioner_D3QN_0', if_save=False)"
   ]
  },
  {
   "cell_type": "code",
   "execution_count": 52,
   "metadata": {},
   "outputs": [
    {
     "name": "stdout",
     "output_type": "stream",
     "text": [
      "41\n",
      "359\n",
      "103\n",
      "422\n",
      "4\n",
      "13\n",
      "48\n",
      "85\n",
      "126\n",
      "176\n",
      "469\n",
      "439\n",
      "194\n",
      "330\n",
      "439\n",
      "376\n",
      "51\n",
      "281\n",
      "33\n",
      "448\n",
      "7\n",
      "182\n",
      "12\n",
      "446\n",
      "406\n",
      "45\n",
      "373\n",
      "40\n",
      "417\n",
      "8\n",
      "152\n",
      "141\n",
      "84\n",
      "9\n",
      "13\n",
      "79\n",
      "235\n",
      "39\n",
      "20\n",
      "42\n",
      "29\n",
      "22\n",
      "133\n",
      "5\n",
      "62\n",
      "335\n",
      "296\n",
      "20\n",
      "252\n",
      "185\n",
      "34\n",
      "232\n",
      "595\n",
      "24\n",
      "440\n",
      "7\n",
      "22\n",
      "29\n",
      "184\n",
      "358\n",
      "463\n",
      "446\n",
      "163\n",
      "400\n",
      "32\n",
      "424\n",
      "94\n",
      "5\n",
      "8\n",
      "70\n",
      "39\n",
      "27\n",
      "219\n",
      "21\n",
      "32\n",
      "5\n",
      "7\n"
     ]
    },
    {
     "ename": "KeyboardInterrupt",
     "evalue": "",
     "output_type": "error",
     "traceback": [
      "\u001b[1;31m---------------------------------------------------------------------------\u001b[0m",
      "\u001b[1;31mKeyboardInterrupt\u001b[0m                         Traceback (most recent call last)",
      "\u001b[1;32m~\\AppData\\Local\\Temp/ipykernel_10024/2883439650.py\u001b[0m in \u001b[0;36m<module>\u001b[1;34m\u001b[0m\n\u001b[0;32m      7\u001b[0m     \u001b[1;32mwhile\u001b[0m \u001b[1;32mnot\u001b[0m \u001b[0mdone\u001b[0m\u001b[1;33m:\u001b[0m\u001b[1;33m\u001b[0m\u001b[1;33m\u001b[0m\u001b[0m\n\u001b[0;32m      8\u001b[0m         \u001b[0msteps\u001b[0m \u001b[1;33m+=\u001b[0m \u001b[1;36m1\u001b[0m\u001b[1;33m\u001b[0m\u001b[1;33m\u001b[0m\u001b[0m\n\u001b[1;32m----> 9\u001b[1;33m         \u001b[0mten_s\u001b[0m \u001b[1;33m=\u001b[0m \u001b[0mtorch\u001b[0m\u001b[1;33m.\u001b[0m\u001b[0mas_tensor\u001b[0m\u001b[1;33m(\u001b[0m\u001b[0mstate\u001b[0m\u001b[1;33m,\u001b[0m \u001b[0mdtype\u001b[0m\u001b[1;33m=\u001b[0m\u001b[0mtorch\u001b[0m\u001b[1;33m.\u001b[0m\u001b[0mfloat32\u001b[0m\u001b[1;33m)\u001b[0m\u001b[1;33m.\u001b[0m\u001b[0munsqueeze\u001b[0m\u001b[1;33m(\u001b[0m\u001b[1;36m0\u001b[0m\u001b[1;33m)\u001b[0m\u001b[1;33m\u001b[0m\u001b[1;33m\u001b[0m\u001b[0m\n\u001b[0m\u001b[0;32m     10\u001b[0m         \u001b[0mten_a\u001b[0m \u001b[1;33m=\u001b[0m \u001b[0mage\u001b[0m\u001b[1;33m.\u001b[0m\u001b[0mact\u001b[0m\u001b[1;33m(\u001b[0m\u001b[0mten_s\u001b[0m\u001b[1;33m)\u001b[0m\u001b[1;33m.\u001b[0m\u001b[0margmax\u001b[0m\u001b[1;33m(\u001b[0m\u001b[0mdim\u001b[0m\u001b[1;33m=\u001b[0m\u001b[1;36m1\u001b[0m\u001b[1;33m)\u001b[0m\u001b[1;33m\u001b[0m\u001b[1;33m\u001b[0m\u001b[0m\n\u001b[0;32m     11\u001b[0m         \u001b[0mstate\u001b[0m\u001b[1;33m,\u001b[0m \u001b[0mreward\u001b[0m\u001b[1;33m,\u001b[0m \u001b[0mdone\u001b[0m\u001b[1;33m,\u001b[0m \u001b[0m_\u001b[0m \u001b[1;33m=\u001b[0m \u001b[0menv\u001b[0m\u001b[1;33m.\u001b[0m\u001b[0mstep\u001b[0m\u001b[1;33m(\u001b[0m\u001b[0mten_a\u001b[0m\u001b[1;33m[\u001b[0m\u001b[1;36m0\u001b[0m\u001b[1;33m]\u001b[0m\u001b[1;33m.\u001b[0m\u001b[0mnumpy\u001b[0m\u001b[1;33m(\u001b[0m\u001b[1;33m)\u001b[0m\u001b[1;33m)\u001b[0m  \u001b[1;31m# different\u001b[0m\u001b[1;33m\u001b[0m\u001b[1;33m\u001b[0m\u001b[0m\n",
      "\u001b[1;31mKeyboardInterrupt\u001b[0m: "
     ]
    }
   ],
   "source": [
    "env.seed(1)\n",
    "tot = 0\n",
    "for i in range(1000):\n",
    "    done = False\n",
    "    state = env.reset()\n",
    "    steps = 0\n",
    "    while not done:\n",
    "        steps += 1\n",
    "        ten_s = torch.as_tensor(state, dtype=torch.float32).unsqueeze(0)\n",
    "        ten_a = age.act(ten_s).argmax(dim=1)\n",
    "        state, reward, done, _ = env.step(ten_a[0].numpy())  # different\n",
    "    tot += reward\n",
    "    print(steps)\n",
    "print(tot/1000)"
   ]
  },
  {
   "cell_type": "code",
   "execution_count": 38,
   "metadata": {},
   "outputs": [
    {
     "name": "stdout",
     "output_type": "stream",
     "text": [
      "-0.1913\n"
     ]
    }
   ],
   "source": [
    "tot = 0\n",
    "env.seed(1)\n",
    "for i in range(10000):\n",
    "    done = False\n",
    "    state = env.reset()\n",
    "    action = 1\n",
    "    while not done:\n",
    "        state, reward, done, _ = env.step(action)\n",
    "        action = 0\n",
    "        if state[2] == 1:\n",
    "            action = 2\n",
    "    tot += reward\n",
    "print(tot/10000)"
   ]
  },
  {
   "cell_type": "code",
   "execution_count": 39,
   "metadata": {},
   "outputs": [
    {
     "name": "stdout",
     "output_type": "stream",
     "text": [
      "-0.0589\n"
     ]
    }
   ],
   "source": [
    "tot = 0\n",
    "env.seed(1)\n",
    "for i in range(10000):\n",
    "    done = False\n",
    "    state = env.reset()\n",
    "    action = 2\n",
    "    while not done:\n",
    "        state, reward, done, _ = env.step(action)\n",
    "    tot += reward\n",
    "print(tot/10000)"
   ]
  },
  {
   "cell_type": "code",
   "execution_count": 41,
   "metadata": {},
   "outputs": [
    {
     "name": "stdout",
     "output_type": "stream",
     "text": [
      "-0.0302\n"
     ]
    }
   ],
   "source": [
    "tot = 0\n",
    "env.seed(1)\n",
    "for i in range(10000):\n",
    "    done = False\n",
    "    state = env.reset()\n",
    "    while not done:\n",
    "        action = env.action_space.sample()\n",
    "        state, reward, done, _ = env.step(action)\n",
    "    tot += reward\n",
    "print(tot/10000)"
   ]
  },
  {
   "cell_type": "code",
   "execution_count": 28,
   "metadata": {},
   "outputs": [],
   "source": [
    "tmp = np.load(r'executioner_D3QN_0\\replay_0.npz')"
   ]
  },
  {
   "cell_type": "code",
   "execution_count": 40,
   "metadata": {},
   "outputs": [],
   "source": [
    "import matplotlib.pyplot as plt\n",
    "import matplotlib\n",
    "matplotlib.use('tkagg')\n",
    "plt.plot(data['bid'])\n",
    "plt.show()"
   ]
  },
  {
   "cell_type": "code",
   "execution_count": 35,
   "metadata": {},
   "outputs": [
    {
     "data": {
      "text/plain": [
       "array([[ 0.  ,  0.  ,  0.  ],\n",
       "       [ 0.  ,  0.  ,  0.  ],\n",
       "       [ 0.  ,  0.  ,  0.  ],\n",
       "       ...,\n",
       "       [ 0.  ,  0.99,  2.  ],\n",
       "       [ 0.  ,  0.99,  2.  ],\n",
       "       [-0.  ,  0.  ,  2.  ]], dtype=float16)"
      ]
     },
     "execution_count": 35,
     "metadata": {},
     "output_type": "execute_result"
    }
   ],
   "source": [
    "tmp['buf_other']"
   ]
  },
  {
   "cell_type": "code",
   "execution_count": 5,
   "metadata": {},
   "outputs": [],
   "source": [
    "a = [(1,2,3),(3,4,5),(5,6,5),(7,8,5)]\n",
    "b = list(map(list, zip(*a)))"
   ]
  },
  {
   "cell_type": "code",
   "execution_count": 7,
   "metadata": {},
   "outputs": [
    {
     "data": {
      "text/plain": [
       "[[1, 3, 5, 7], [2, 4, 6, 8], [3, 5, 5, 5]]"
      ]
     },
     "execution_count": 7,
     "metadata": {},
     "output_type": "execute_result"
    }
   ],
   "source": [
    "import torch\n",
    "b"
   ]
  }
 ],
 "metadata": {
  "interpreter": {
   "hash": "fd743178cd687d8631a9d8ff4c93b928146afe1f13697893f00fa7b20727ad6b"
  },
  "kernelspec": {
   "display_name": "Python 3.9.7 ('pytorch')",
   "language": "python",
   "name": "python3"
  },
  "language_info": {
   "codemirror_mode": {
    "name": "ipython",
    "version": 3
   },
   "file_extension": ".py",
   "mimetype": "text/x-python",
   "name": "python",
   "nbconvert_exporter": "python",
   "pygments_lexer": "ipython3",
   "version": "3.9.7"
  },
  "orig_nbformat": 4
 },
 "nbformat": 4,
 "nbformat_minor": 2
}
