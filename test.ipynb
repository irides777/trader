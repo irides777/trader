{
 "cells": [
  {
   "cell_type": "code",
   "execution_count": 1,
   "metadata": {},
   "outputs": [],
   "source": [
    "import numpy as np\n",
    "import pandas as pd"
   ]
  },
  {
   "cell_type": "code",
   "execution_count": 2,
   "metadata": {},
   "outputs": [
    {
     "name": "stderr",
     "output_type": "stream",
     "text": [
      "\n"
     ]
    }
   ],
   "source": [
    "from env import *"
   ]
  },
  {
   "cell_type": "code",
   "execution_count": 3,
   "metadata": {},
   "outputs": [],
   "source": [
    "from multiprocessing import Process, Pool\n",
    "from multiprocessing.managers import Queue\n",
    "import time"
   ]
  },
  {
   "cell_type": "code",
   "execution_count": 21,
   "metadata": {},
   "outputs": [],
   "source": [
    "def f(x,y):\n",
    "    return x+1"
   ]
  },
  {
   "cell_type": "code",
   "execution_count": 24,
   "metadata": {},
   "outputs": [
    {
     "ename": "TypeError",
     "evalue": "f() takes 2 positional arguments but 3 were given",
     "output_type": "error",
     "traceback": [
      "\u001b[0;31m---------------------------------------------------------------------------\u001b[0m",
      "\u001b[0;31mTypeError\u001b[0m                                 Traceback (most recent call last)",
      "\u001b[1;32m/home/hongyuan/trader/test.ipynb Cell 5'\u001b[0m in \u001b[0;36m<module>\u001b[0;34m\u001b[0m\n\u001b[0;32m----> <a href='vscode-notebook-cell://ssh-remote%2B58.34.214.162/home/hongyuan/trader/test.ipynb#ch0000034vscode-remote?line=0'>1</a>\u001b[0m f(\u001b[39m2\u001b[39;49m,\u001b[39m3\u001b[39;49m,\u001b[39m4\u001b[39;49m)\n",
      "\u001b[0;31mTypeError\u001b[0m: f() takes 2 positional arguments but 3 were given"
     ]
    }
   ],
   "source": [
    "f(2,3,4)"
   ]
  },
  {
   "cell_type": "code",
   "execution_count": 7,
   "metadata": {},
   "outputs": [],
   "source": [
    "def gogo(obj, gpus):\n",
    "    print('ok')\n",
    "    gpu_id = 0\n",
    "    # gpu_id = gpus.get()\n",
    "    np.random.seed()\n",
    "    sleep = np.random.randint(1,6)\n",
    "    print(f'begin {obj} {gpu_id} {sleep}')\n",
    "    time.sleep(sleep)\n",
    "    # gpus.put(gpu_id)\n",
    "    print(f'end {obj} {gpu_id}')\n"
   ]
  },
  {
   "cell_type": "code",
   "execution_count": 8,
   "metadata": {},
   "outputs": [
    {
     "name": "stdout",
     "output_type": "stream",
     "text": [
      "okokokok\n",
      "\n",
      "\n",
      "\n",
      "begin c 0 5begin d 0 4begin b 0 2begin a 0 4\n",
      "\n",
      "\n",
      "\n",
      "end b 0\n",
      "end d 0end a 0\n",
      "\n",
      "end c 0\n"
     ]
    }
   ],
   "source": [
    "gpus = Queue(2)\n",
    "for i in range(2):\n",
    "    gpus.put(i)\n",
    "\n",
    "ps = Pool(4)\n",
    "for c in ['a', 'b', 'c', 'd']:\n",
    "    ps.apply_async(gogo, (c, 0,))\n",
    "ps.close()\n",
    "ps.join()"
   ]
  },
  {
   "cell_type": "code",
   "execution_count": 31,
   "metadata": {},
   "outputs": [
    {
     "name": "stdout",
     "output_type": "stream",
     "text": [
      "begin a 0 2\n",
      "begin b 1 1\n",
      "end b 1\n",
      "begin c 1 3\n",
      "end a 0\n",
      "begin d 0 1\n",
      "end d 0\n",
      "end c 1\n"
     ]
    }
   ],
   "source": [
    "class TrainerProcess(Process):\n",
    "\n",
    "    def __init__(self, obj, gpus):\n",
    "        super().__init__()\n",
    "        self.obj = obj\n",
    "        self.gpus = gpus\n",
    "    \n",
    "    def run(self):\n",
    "        gpu_id = self.gpus.get()\n",
    "        np.random.seed()\n",
    "        sleep = np.random.randint(1,6)\n",
    "        print(f'begin {self.obj} {gpu_id} {sleep}')\n",
    "        time.sleep(sleep)\n",
    "        self.gpus.put(gpu_id)\n",
    "        print(f'end {self.obj} {gpu_id}')\n",
    "\n",
    "gpus = Queue(2)\n",
    "for i in range(2):\n",
    "    gpus.put(i)\n",
    "\n",
    "ps = []\n",
    "for c in ['a', 'b', 'c', 'd']:\n",
    "    p = TrainerProcess(c,gpus)\n",
    "    ps.append(p)\n",
    "for i in ps:\n",
    "    i.start()\n",
    "\n",
    "for i in ps:\n",
    "    i.join()\n",
    "\n",
    "        \n"
   ]
  },
  {
   "cell_type": "code",
   "execution_count": 27,
   "metadata": {},
   "outputs": [
    {
     "data": {
      "text/plain": [
       "12"
      ]
     },
     "execution_count": 27,
     "metadata": {},
     "output_type": "execute_result"
    }
   ],
   "source": [
    "np.random.randint(9,30)"
   ]
  },
  {
   "cell_type": "code",
   "execution_count": 4,
   "metadata": {},
   "outputs": [],
   "source": [
    "def preprocess(tickpath, filename):\n",
    "    tickdf = pd.read_csv(os.path.join(tickpath, filename),names=['date','time','ms','lastprice','volume','bid','bidv','ask','askv','opi','tur','contract'])\n",
    "    tickdf[['lastprice','volume','bid','bidv','ask','askv','opi','tur']] = tickdf[['lastprice','volume','bid','bidv','ask','askv','opi','tur']].astype('float32')\n",
    "    tickdf['datestr'] = tickdf['date'].apply(lambda x: '%s-%s-%s'%(str(x)[:4], str(x)[4:6], str(x)[6:8]))\n",
    "    tickdf['timestr'] = tickdf['time'].apply(lambda x: '%s:%s:%s'%(format(x, '06d')[:-4], format(x, '06d')[-4:-2], format(x, '06d')[-2:]))\n",
    "    tickdf['timestr'] = tickdf['timestr']+'.'+tickdf['ms'].apply(lambda x: format(x, '03d'))\n",
    "    tickdf = tickdf.set_index(pd.to_datetime(tickdf['datestr']+' '+tickdf['timestr']))\n",
    "    tickdf.index.name = 'datetime'\n",
    "    # try:\n",
    "    tickdf.loc[tickdf['bid']<0.9*tickdf['lastprice'], 'bid'] = np.nan\n",
    "    tickdf.loc[tickdf['ask']<0.9*tickdf['lastprice'], 'ask'] = np.nan\n",
    "    # except TypeError as e:\n",
    "        \n",
    "    #     print((tickdf['bid'][tickdf.bid.apply(lambda x:type(x) is str)]))\n",
    "    #     print(float(tickdf['bid'].iloc[0]))\n",
    "    #     print((tickdf['ask'][tickdf.bid.apply(lambda x:type(x) is str)]))\n",
    "    #     print(float(tickdf['ask'].iloc[0]))\n",
    "    #     raise e\n",
    "    tickdf[['bid','ask']] = tickdf[['bid','ask']].fillna(method='ffill').fillna(tickdf.iloc[0]['lastprice'])\n",
    "    tickdf['midprice'] = (tickdf['ask']+tickdf['bid'])/2.0\n",
    "\n",
    "    tdata = tickdf[['bid','ask','bidv','askv','volume']].copy()\n",
    "    std = tdata.iloc[0,0]\n",
    "    tdata.loc[:,'bid'] = tdata['bid']-std\n",
    "    tdata.loc[:,'ask'] = tdata['ask']-std\n",
    "\n",
    "    def norm(x):\n",
    "        return (x-x.mean())/x.std()\n",
    "\n",
    "    tdata.loc[:,'askv'] = norm(tdata.askv)\n",
    "    tdata.loc[:,'bidv'] = norm(tdata.bidv)\n",
    "    tdata.loc[:,'volume'] = norm(tdata.volume)\n",
    "    # print(type(tdata.isnull()))\n",
    "    if pd.isnull(tdata).any().any():\n",
    "        print('drop it')\n",
    "        print(filename)\n",
    "        raise ValueError\n",
    "    return tdata"
   ]
  },
  {
   "cell_type": "code",
   "execution_count": 5,
   "metadata": {},
   "outputs": [],
   "source": [
    "import os\n",
    "cwd = '/Data/database/data_zltick/rb'\n",
    "datas = []\n",
    "for _,__, files in os.walk(cwd):\n",
    "    for file in files:\n",
    "        if int(file[:4])<2018 or int(file[:4])>2020:\n",
    "            continue\n",
    "        try:\n",
    "            data = preprocess(cwd, file)\n",
    "            datas.append(data)\n",
    "        except (IndexError, ValueError):\n",
    "            pass"
   ]
  },
  {
   "cell_type": "code",
   "execution_count": 5,
   "metadata": {},
   "outputs": [],
   "source": [
    "for data in datas:\n",
    "    if pd.isnull(data).any().any():\n",
    "        print(34)"
   ]
  },
  {
   "cell_type": "code",
   "execution_count": 6,
   "metadata": {},
   "outputs": [],
   "source": [
    "# import matplotlib.pyplot as plt\n",
    "# fig, ax1 = plt.subplots()\n",
    "\n",
    "# ax2 = ax1.twinx()\n",
    "# ax1.plot(tdata.bid[500:800])\n",
    "# ax2.plot(tdata.volume[500:800], color='red')\n",
    "\n",
    "# plt.show()"
   ]
  },
  {
   "cell_type": "code",
   "execution_count": 8,
   "metadata": {},
   "outputs": [
    {
     "name": "stdout",
     "output_type": "stream",
     "text": [
      "-0.0576171875\n"
     ]
    }
   ],
   "source": [
    "tot = 0\n",
    "env.seed(666)\n",
    "for i in range(1024):\n",
    "    done = False\n",
    "    state = env.reset()\n",
    "    action = 0\n",
    "    while not done:\n",
    "        state, reward, done, _ = env.step(action)\n",
    "        if state[0] == 1:\n",
    "            action = 1\n",
    "    tot += reward\n",
    "print(tot/1024)"
   ]
  },
  {
   "cell_type": "code",
   "execution_count": 9,
   "metadata": {},
   "outputs": [
    {
     "name": "stdout",
     "output_type": "stream",
     "text": [
      "-0.0244140625\n"
     ]
    }
   ],
   "source": [
    "env.seed(666)\n",
    "tot = 0\n",
    "for i in range(1024):\n",
    "    done = False\n",
    "    state = env.reset()\n",
    "    while not done:\n",
    "        action = env.action_space.sample()\n",
    "        state, reward, done, _ = env.step(action)\n",
    "    tot += reward\n",
    "print(tot/1024)"
   ]
  },
  {
   "cell_type": "code",
   "execution_count": 15,
   "metadata": {},
   "outputs": [],
   "source": [
    "import elegantrl.agent as agent\n",
    "from elegantrl.config import Arguments\n",
    "env_args = {\n",
    "    'env_num': 1,\n",
    "    'env_name': 'executioner',\n",
    "    'max_step': 600,\n",
    "    'state_dim': (100+1)*5,\n",
    "    'action_dim': 2,\n",
    "    'if_discrete': True,\n",
    "    'target_return': 0.31\n",
    "}"
   ]
  },
  {
   "cell_type": "code",
   "execution_count": 16,
   "metadata": {},
   "outputs": [],
   "source": [
    "env = SellMarket(datas=datas,back_length=100,time_limit=600)\n",
    "args = Arguments(agent.AgentD3QN,env=env, env_args=env_args)"
   ]
  },
  {
   "cell_type": "code",
   "execution_count": 17,
   "metadata": {},
   "outputs": [
    {
     "data": {
      "text/plain": [
       "False"
      ]
     },
     "execution_count": 17,
     "metadata": {},
     "output_type": "execute_result"
    }
   ],
   "source": [
    "np.isnan(env.datas).any()"
   ]
  },
  {
   "cell_type": "code",
   "execution_count": 18,
   "metadata": {},
   "outputs": [],
   "source": [
    "from elegantrl.run import train_and_evaluate"
   ]
  },
  {
   "cell_type": "code",
   "execution_count": 19,
   "metadata": {},
   "outputs": [
    {
     "name": "stdout",
     "output_type": "stream",
     "text": [
      "| Arguments Remove cwd: ./executioner_D3QN_0\n",
      "################################################################################\n",
      "ID     Step    maxR |    avgR   stdR   avgS  stdS |    expR   objC   etc.\n",
      "0  3.00e+04    0.07 |\n",
      "0  3.00e+04    0.07 |    0.07    1.7     24    35 |   -0.01   0.02  -0.03\n",
      "0  1.80e+05    0.07 |    0.06    2.5     47    72 |    0.00   0.02   0.00\n",
      "0  3.30e+05    0.16 |\n",
      "0  3.30e+05    0.16 |    0.16    1.3     14    17 |    0.01   0.02  -0.13\n",
      "0  5.10e+05    0.20 |\n",
      "0  5.10e+05    0.20 |    0.20    1.0     11    15 |    0.01   0.03  -0.11\n",
      "0  6.60e+05    0.25 |\n",
      "0  6.60e+05    0.25 |    0.25    0.9      9    11 |    0.02   0.02   0.05\n",
      "0  8.10e+05    0.26 |\n",
      "0  8.10e+05    0.26 |    0.26    0.8      7     9 |    0.01   0.03  -0.00\n",
      "0  9.60e+05    0.26 |    0.25    0.9      8    10 |    0.02   0.02   0.00\n",
      "0  1.11e+06    0.27 |\n",
      "0  1.11e+06    0.27 |    0.27    1.3     20    45 |    0.01   0.02   0.27\n",
      "0  1.23e+06    0.27 |    0.19    2.2     41    95 |    0.02   0.02   0.22\n",
      "0  1.35e+06    0.27 |    0.24    0.7      5     7 |    0.01   0.02  -0.07\n",
      "0  1.50e+06    0.30 |\n",
      "0  1.50e+06    0.30 |    0.30    0.8      9    11 |    0.01   0.02   0.13\n",
      "0  1.62e+06    0.30 |    0.26    1.5     18    52 |    0.01   0.02   0.19\n",
      "0  1.74e+06    0.30 |    0.25    1.1     16    30 |    0.01   0.02   0.21\n",
      "0  1.86e+06    0.30 |    0.27    0.9     10    14 |    0.01   0.02   0.09\n",
      "0  1.98e+06    0.30 |    0.25    1.2     15    21 |    0.02   0.02   0.27\n",
      "0  2.10e+06    0.30 |    0.26    1.4     27    43 |    0.01   0.01   0.47\n",
      "0  2.22e+06    0.30 |    0.28    0.9      9    12 |    0.01   0.02   0.09\n",
      "0  2.34e+06    0.30 |    0.22    1.4     22    33 |    0.01   0.01   0.38\n",
      "0  2.46e+06    0.30 |    0.24    1.6     17    56 |    0.02   0.02   0.16\n",
      "0  2.58e+06    0.30 |    0.28    1.0     11    15 |    0.01   0.02   0.26\n",
      "0  2.70e+06    0.30 |    0.28    1.0     10    14 |    0.02   0.02   0.21\n",
      "0  2.82e+06    0.30 |    0.28    1.1     12    16 |    0.01   0.02   0.15\n",
      "0  2.94e+06    0.30 |    0.29    1.0     11    14 |    0.01   0.02   0.27\n",
      "0  3.06e+06    0.30 |    0.26    1.0     11    15 |    0.01   0.02   0.16\n",
      "0  3.18e+06    0.30 |    0.26    1.2     13    24 |    0.02   0.01   0.28\n",
      "0  3.30e+06    0.30 |    0.26    1.5     20    45 |    0.01   0.02   0.22\n",
      "0  3.42e+06    0.30 |    0.25    1.1     10    18 |    0.02   0.02   0.14\n",
      "0  3.54e+06    0.30 |\n",
      "0  3.54e+06    0.30 |    0.30    1.0     12    20 |    0.02   0.02   0.16\n",
      "0  3.66e+06    0.30 |    0.29    0.9      9    12 |    0.02   0.02   0.13\n",
      "0  3.78e+06    0.30 |    0.28    1.0     11    19 |    0.01   0.02   0.17\n",
      "0  3.90e+06    0.30 |    0.24    1.3     13    20 |    0.01   0.02   0.18\n",
      "0  4.02e+06    0.30 |    0.24    1.5     17    23 |    0.02   0.01   0.35\n",
      "0  4.14e+06    0.30 |    0.29    1.0     12    21 |    0.01   0.02   0.27\n",
      "0  4.26e+06    0.30 |    0.26    1.0     10    14 |    0.01   0.02   0.21\n",
      "0  4.38e+06    0.30 |    0.27    1.1     12    18 |    0.02   0.01   0.22\n",
      "0  4.50e+06    0.30 |    0.29    0.9      9    13 |    0.02   0.02   0.19\n",
      "0  4.62e+06    0.30 |    0.30    1.0     12    16 |    0.01   0.02   0.20\n",
      "0  4.74e+06    0.30 |    0.29    1.0     12    18 |    0.01   0.02   0.22\n",
      "0  4.86e+06    0.30 |    0.29    1.0     11    14 |    0.02   0.02   0.23\n",
      "0  4.98e+06    0.30 |    0.29    1.1     11    17 |    0.02   0.02   0.22\n",
      "0  5.10e+06    0.30 |    0.30    0.8      8    11 |    0.02   0.02   0.13\n",
      "0  5.22e+06    0.31 |\n",
      "0  5.22e+06    0.31 |    0.31    1.0     12    15 |    0.01   0.02   0.28\n",
      "0  5.34e+06    0.31 |    0.30    0.9      9    14 |    0.02   0.02   0.14\n",
      "0  5.46e+06    0.31 |    0.29    1.0     12    17 |    0.01   0.02   0.25\n",
      "0  5.58e+06    0.31 |\n",
      "0  5.58e+06    0.31 |    0.31    0.9     11    14 |    0.01   0.02   0.26\n",
      "0  5.70e+06    0.31 |    0.30    0.9     12    18 |    0.01   0.02   0.22\n",
      "0  5.82e+06    0.31 |    0.29    0.9      9    13 |    0.02   0.02   0.15\n",
      "0  5.94e+06    0.31 |    0.29    1.1     13    20 |    0.02   0.02   0.25\n",
      "0  6.06e+06    0.31 |    0.30    0.8      8    10 |    0.01   0.02   0.13\n",
      "0  6.18e+06    0.31 |    0.30    0.9      9    12 |    0.02   0.02   0.19\n",
      "0  6.30e+06    0.31 |    0.28    1.0     10    13 |    0.01   0.02   0.22\n",
      "0  6.42e+06    0.31 |    0.28    1.0     11    14 |    0.02   0.01   0.23\n",
      "0  6.54e+06    0.31 |    0.27    1.1     12    17 |    0.01   0.02   0.23\n",
      "0  6.66e+06    0.31 |    0.27    1.1     10    13 |    0.02   0.02   0.24\n",
      "0  6.78e+06    0.31 |    0.28    1.0     11    14 |    0.02   0.02   0.23\n",
      "0  6.90e+06    0.31 |    0.29    1.0     11    16 |    0.01   0.02   0.25\n",
      "0  7.02e+06    0.31 |    0.27    1.0      9    14 |    0.01   0.02   0.17\n",
      "0  7.14e+06    0.31 |    0.25    1.0     10    13 |    0.02   0.01   0.20\n",
      "0  7.26e+06    0.31 |    0.26    0.9      8    11 |    0.01   0.02   0.19\n",
      "0  7.38e+06    0.31 |    0.28    0.8      8    11 |    0.02   0.02   0.17\n",
      "0  7.50e+06    0.31 |    0.25    1.0     10    13 |    0.02   0.02   0.23\n",
      "0  7.62e+06    0.31 |    0.26    1.1     10    13 |    0.01   0.01   0.21\n",
      "0  7.74e+06    0.31 |    0.27    1.0     11    15 |    0.01   0.01   0.23\n",
      "0  7.86e+06    0.31 |    0.25    1.0     10    14 |    0.02   0.02   0.22\n",
      "0  7.98e+06    0.31 |    0.28    0.9      8    11 |    0.01   0.01   0.18\n",
      "0  8.10e+06    0.31 |    0.28    0.9      9    12 |    0.02   0.02   0.21\n",
      "0  8.22e+06    0.31 |    0.27    1.1     12    17 |    0.01   0.02   0.21\n",
      "0  8.34e+06    0.31 |    0.28    0.9     10    13 |    0.02   0.02   0.21\n",
      "0  8.46e+06    0.31 |    0.25    1.1     11    14 |    0.01   0.02   0.24\n",
      "0  8.58e+06    0.31 |    0.24    1.1     10    13 |    0.02   0.02   0.18\n",
      "0  8.70e+06    0.31 |    0.26    1.0      9    12 |    0.02   0.01   0.25\n",
      "0  8.82e+06    0.31 |    0.25    1.1     10    13 |    0.02   0.01   0.26\n",
      "0  8.94e+06    0.31 |    0.26    1.0     10    14 |    0.01   0.02   0.24\n",
      "0  9.06e+06    0.31 |    0.26    1.0      9    12 |    0.01   0.02   0.19\n",
      "0  9.18e+06    0.31 |    0.26    1.0     10    14 |    0.02   0.02   0.21\n",
      "0  9.30e+06    0.31 |    0.24    1.1     10    13 |    0.02   0.01   0.21\n",
      "0  9.42e+06    0.31 |    0.24    1.0      9    11 |    0.02   0.02   0.16\n",
      "0  9.54e+06    0.31 |    0.20    1.3     10    15 |    0.01   0.02   0.20\n",
      "0  9.66e+06    0.31 |    0.23    1.2      9    13 |    0.01   0.01   0.23\n",
      "0  9.78e+06    0.31 |    0.22    1.2      8    12 |    0.02   0.02   0.19\n",
      "0  9.90e+06    0.31 |    0.25    1.0      8    11 |    0.01   0.02   0.16\n",
      "0  1.00e+07    0.31 |    0.25    1.0      9    13 |    0.02   0.02   0.21\n",
      "0  1.01e+07    0.31 |    0.27    0.9      8    11 |    0.02   0.02   0.18\n",
      "0  1.03e+07    0.31 |    0.27    1.0     10    13 |    0.02   0.02   0.22\n",
      "0  1.04e+07    0.31 |    0.23    1.2     11    23 |    0.01   0.02   0.23\n",
      "0  1.05e+07    0.31 |    0.23    1.1      8    11 |    0.02   0.02   0.16\n",
      "0  1.06e+07    0.31 |    0.23    1.2     11    24 |    0.02   0.02   0.24\n",
      "0  1.07e+07    0.31 |    0.26    1.0     10    14 |    0.02   0.01   0.22\n",
      "0  1.09e+07    0.31 |    0.27    0.9      8    10 |    0.01   0.01   0.14\n",
      "0  1.10e+07    0.31 |    0.26    0.9      9    12 |    0.02   0.02   0.16\n",
      "0  1.11e+07    0.31 |    0.26    1.0     10    13 |    0.02   0.02   0.26\n",
      "0  1.12e+07    0.31 |    0.22    1.1      9    12 |    0.02   0.02   0.22\n",
      "0  1.13e+07    0.31 |    0.23    1.3     13    31 |    0.02   0.02   0.24\n",
      "0  1.15e+07    0.31 |    0.23    0.9      8    10 |    0.02   0.02   0.21\n",
      "0  1.16e+07    0.31 |    0.24    1.0      9    13 |    0.02   0.01   0.24\n",
      "0  1.17e+07    0.31 |    0.25    0.9      9    12 |    0.01   0.02   0.22\n",
      "0  1.18e+07    0.31 |    0.22    1.2     11    16 |    0.01   0.01   0.23\n",
      "0  1.19e+07    0.31 |    0.24    1.1     11    15 |    0.01   0.02   0.26\n",
      "0  1.21e+07    0.31 |    0.23    1.1     10    13 |    0.02   0.02   0.26\n",
      "0  1.22e+07    0.31 |    0.24    1.1     11    15 |    0.02   0.02   0.26\n",
      "0  1.23e+07    0.31 |    0.25    0.9      8    11 |    0.02   0.02   0.18\n",
      "0  1.24e+07    0.31 |    0.24    1.0      9    12 |    0.02   0.02   0.19\n",
      "0  1.25e+07    0.31 |    0.24    1.0     10    14 |    0.02   0.02   0.25\n",
      "0  1.27e+07    0.31 |    0.25    0.9      9    12 |    0.02   0.02   0.22\n",
      "0  1.28e+07    0.31 |    0.25    0.8      8    11 |    0.01   0.02   0.21\n",
      "0  1.29e+07    0.31 |    0.25    0.9      8    11 |    0.02   0.01   0.20\n",
      "0  1.30e+07    0.31 |    0.22    1.0      9    12 |    0.02   0.02   0.21\n",
      "0  1.31e+07    0.31 |    0.19    1.7     11    23 |    0.01   0.02   0.27\n",
      "0  1.33e+07    0.31 |    0.24    1.0      8    15 |    0.02   0.02   0.17\n",
      "0  1.34e+07    0.31 |    0.22    1.0      8    11 |    0.02   0.02   0.17\n",
      "0  1.35e+07    0.31 |    0.22    1.0      8    11 |    0.02   0.02   0.19\n",
      "0  1.36e+07    0.31 |    0.23    1.0     11    24 |    0.02   0.02   0.29\n",
      "0  1.37e+07    0.31 |    0.23    0.9      8    11 |    0.02   0.02   0.18\n",
      "0  1.39e+07    0.31 |    0.23    1.0     10    13 |    0.02   0.02   0.25\n",
      "0  1.40e+07    0.31 |    0.24    0.9     10    13 |    0.02   0.02   0.27\n",
      "0  1.41e+07    0.31 |    0.24    0.9      9    13 |    0.01   0.01   0.19\n",
      "0  1.42e+07    0.31 |    0.25    0.8      7    10 |    0.02   0.01   0.18\n",
      "0  1.43e+07    0.31 |    0.23    0.9      9    12 |    0.02   0.02   0.24\n",
      "0  1.45e+07    0.31 |    0.24    0.9      8    12 |    0.02   0.02   0.25\n",
      "0  1.46e+07    0.31 |    0.22    1.1     10    13 |    0.02   0.01   0.24\n",
      "0  1.47e+07    0.31 |    0.20    1.2      9    13 |    0.02   0.02   0.22\n"
     ]
    },
    {
     "ename": "KeyboardInterrupt",
     "evalue": "",
     "output_type": "error",
     "traceback": [
      "\u001b[0;31m---------------------------------------------------------------------------\u001b[0m",
      "\u001b[0;31mKeyboardInterrupt\u001b[0m                         Traceback (most recent call last)",
      "\u001b[1;32m/home/hongyuan/trader/test.ipynb Cell 14'\u001b[0m in \u001b[0;36m<module>\u001b[0;34m\u001b[0m\n\u001b[1;32m      <a href='vscode-notebook-cell://ssh-remote%2B58.34.214.162/home/hongyuan/trader/test.ipynb#ch0000013vscode-remote?line=8'>9</a>\u001b[0m args\u001b[39m.\u001b[39meval_gap \u001b[39m=\u001b[39m \u001b[39m2\u001b[39m \u001b[39m*\u001b[39m\u001b[39m*\u001b[39m \u001b[39m6\u001b[39m\n\u001b[1;32m     <a href='vscode-notebook-cell://ssh-remote%2B58.34.214.162/home/hongyuan/trader/test.ipynb#ch0000013vscode-remote?line=9'>10</a>\u001b[0m \u001b[39m# args.break_step = 4e6\u001b[39;00m\n\u001b[0;32m---> <a href='vscode-notebook-cell://ssh-remote%2B58.34.214.162/home/hongyuan/trader/test.ipynb#ch0000013vscode-remote?line=10'>11</a>\u001b[0m train_and_evaluate(args)\n",
      "File \u001b[0;32m~/trader/elegantrl/run.py:47\u001b[0m, in \u001b[0;36mtrain_and_evaluate\u001b[0;34m(***failed resolving arguments***)\u001b[0m\n\u001b[1;32m     <a href='file:///home/hongyuan/trader/elegantrl/run.py?line=43'>44</a>\u001b[0m steps, r_exp \u001b[39m=\u001b[39m buffer\u001b[39m.\u001b[39mupdate_buffer((trajectory,))\n\u001b[1;32m     <a href='file:///home/hongyuan/trader/elegantrl/run.py?line=45'>46</a>\u001b[0m torch\u001b[39m.\u001b[39mset_grad_enabled(\u001b[39mTrue\u001b[39;00m)\n\u001b[0;32m---> <a href='file:///home/hongyuan/trader/elegantrl/run.py?line=46'>47</a>\u001b[0m logging_tuple \u001b[39m=\u001b[39m agent\u001b[39m.\u001b[39;49mupdate_net(buffer)\n\u001b[1;32m     <a href='file:///home/hongyuan/trader/elegantrl/run.py?line=47'>48</a>\u001b[0m torch\u001b[39m.\u001b[39mset_grad_enabled(\u001b[39mFalse\u001b[39;00m)\n\u001b[1;32m     <a href='file:///home/hongyuan/trader/elegantrl/run.py?line=49'>50</a>\u001b[0m (if_reach_goal, if_save_agent) \u001b[39m=\u001b[39m evaluator\u001b[39m.\u001b[39mevaluate_save_and_plot(\n\u001b[1;32m     <a href='file:///home/hongyuan/trader/elegantrl/run.py?line=50'>51</a>\u001b[0m     agent\u001b[39m.\u001b[39mact, steps, r_exp, logging_tuple, seed\u001b[39m=\u001b[39mseed\n\u001b[1;32m     <a href='file:///home/hongyuan/trader/elegantrl/run.py?line=51'>52</a>\u001b[0m )\n",
      "File \u001b[0;32m~/trader/elegantrl/agent.py:408\u001b[0m, in \u001b[0;36mAgentDQN.update_net\u001b[0;34m(self, buffer)\u001b[0m\n\u001b[1;32m    <a href='file:///home/hongyuan/trader/elegantrl/agent.py?line=405'>406</a>\u001b[0m \u001b[39mfor\u001b[39;00m _ \u001b[39min\u001b[39;00m \u001b[39mrange\u001b[39m(\u001b[39mint\u001b[39m(\u001b[39m1\u001b[39m \u001b[39m+\u001b[39m buffer\u001b[39m.\u001b[39mnow_len \u001b[39m*\u001b[39m \u001b[39mself\u001b[39m\u001b[39m.\u001b[39mrepeat_times \u001b[39m/\u001b[39m \u001b[39mself\u001b[39m\u001b[39m.\u001b[39mbatch_size)):\n\u001b[1;32m    <a href='file:///home/hongyuan/trader/elegantrl/agent.py?line=406'>407</a>\u001b[0m     obj_critic, q_value \u001b[39m=\u001b[39m \u001b[39mself\u001b[39m\u001b[39m.\u001b[39mget_obj_critic(buffer, \u001b[39mself\u001b[39m\u001b[39m.\u001b[39mbatch_size)\n\u001b[0;32m--> <a href='file:///home/hongyuan/trader/elegantrl/agent.py?line=407'>408</a>\u001b[0m     \u001b[39mself\u001b[39;49m\u001b[39m.\u001b[39;49moptim_update(\u001b[39mself\u001b[39;49m\u001b[39m.\u001b[39;49mcri_optim, obj_critic)\n\u001b[1;32m    <a href='file:///home/hongyuan/trader/elegantrl/agent.py?line=408'>409</a>\u001b[0m     \u001b[39mself\u001b[39m\u001b[39m.\u001b[39msoft_update(\u001b[39mself\u001b[39m\u001b[39m.\u001b[39mcri_target, \u001b[39mself\u001b[39m\u001b[39m.\u001b[39mcri, \u001b[39mself\u001b[39m\u001b[39m.\u001b[39msoft_update_tau)\n\u001b[1;32m    <a href='file:///home/hongyuan/trader/elegantrl/agent.py?line=409'>410</a>\u001b[0m \u001b[39mreturn\u001b[39;00m obj_critic\u001b[39m.\u001b[39mitem(), q_value\u001b[39m.\u001b[39mmean()\u001b[39m.\u001b[39mitem()\n",
      "File \u001b[0;32m~/trader/elegantrl/agent.py:314\u001b[0m, in \u001b[0;36mAgentBase.optim_update\u001b[0;34m(optimizer, objective)\u001b[0m\n\u001b[1;32m    <a href='file:///home/hongyuan/trader/elegantrl/agent.py?line=310'>311</a>\u001b[0m \u001b[39m@staticmethod\u001b[39m\n\u001b[1;32m    <a href='file:///home/hongyuan/trader/elegantrl/agent.py?line=311'>312</a>\u001b[0m \u001b[39mdef\u001b[39;00m \u001b[39moptim_update\u001b[39m(optimizer, objective):\n\u001b[1;32m    <a href='file:///home/hongyuan/trader/elegantrl/agent.py?line=312'>313</a>\u001b[0m     optimizer\u001b[39m.\u001b[39mzero_grad()\n\u001b[0;32m--> <a href='file:///home/hongyuan/trader/elegantrl/agent.py?line=313'>314</a>\u001b[0m     objective\u001b[39m.\u001b[39;49mbackward()\n\u001b[1;32m    <a href='file:///home/hongyuan/trader/elegantrl/agent.py?line=314'>315</a>\u001b[0m     optimizer\u001b[39m.\u001b[39mstep()\n",
      "File \u001b[0;32m~/miniconda3/envs/drl/lib/python3.9/site-packages/torch/_tensor.py:307\u001b[0m, in \u001b[0;36mTensor.backward\u001b[0;34m(self, gradient, retain_graph, create_graph, inputs)\u001b[0m\n\u001b[1;32m    <a href='file:///home/hongyuan/miniconda3/envs/drl/lib/python3.9/site-packages/torch/_tensor.py?line=297'>298</a>\u001b[0m \u001b[39mif\u001b[39;00m has_torch_function_unary(\u001b[39mself\u001b[39m):\n\u001b[1;32m    <a href='file:///home/hongyuan/miniconda3/envs/drl/lib/python3.9/site-packages/torch/_tensor.py?line=298'>299</a>\u001b[0m     \u001b[39mreturn\u001b[39;00m handle_torch_function(\n\u001b[1;32m    <a href='file:///home/hongyuan/miniconda3/envs/drl/lib/python3.9/site-packages/torch/_tensor.py?line=299'>300</a>\u001b[0m         Tensor\u001b[39m.\u001b[39mbackward,\n\u001b[1;32m    <a href='file:///home/hongyuan/miniconda3/envs/drl/lib/python3.9/site-packages/torch/_tensor.py?line=300'>301</a>\u001b[0m         (\u001b[39mself\u001b[39m,),\n\u001b[0;32m   (...)\u001b[0m\n\u001b[1;32m    <a href='file:///home/hongyuan/miniconda3/envs/drl/lib/python3.9/site-packages/torch/_tensor.py?line=304'>305</a>\u001b[0m         create_graph\u001b[39m=\u001b[39mcreate_graph,\n\u001b[1;32m    <a href='file:///home/hongyuan/miniconda3/envs/drl/lib/python3.9/site-packages/torch/_tensor.py?line=305'>306</a>\u001b[0m         inputs\u001b[39m=\u001b[39minputs)\n\u001b[0;32m--> <a href='file:///home/hongyuan/miniconda3/envs/drl/lib/python3.9/site-packages/torch/_tensor.py?line=306'>307</a>\u001b[0m torch\u001b[39m.\u001b[39;49mautograd\u001b[39m.\u001b[39;49mbackward(\u001b[39mself\u001b[39;49m, gradient, retain_graph, create_graph, inputs\u001b[39m=\u001b[39;49minputs)\n",
      "File \u001b[0;32m~/miniconda3/envs/drl/lib/python3.9/site-packages/torch/autograd/__init__.py:154\u001b[0m, in \u001b[0;36mbackward\u001b[0;34m(tensors, grad_tensors, retain_graph, create_graph, grad_variables, inputs)\u001b[0m\n\u001b[1;32m    <a href='file:///home/hongyuan/miniconda3/envs/drl/lib/python3.9/site-packages/torch/autograd/__init__.py?line=150'>151</a>\u001b[0m \u001b[39mif\u001b[39;00m retain_graph \u001b[39mis\u001b[39;00m \u001b[39mNone\u001b[39;00m:\n\u001b[1;32m    <a href='file:///home/hongyuan/miniconda3/envs/drl/lib/python3.9/site-packages/torch/autograd/__init__.py?line=151'>152</a>\u001b[0m     retain_graph \u001b[39m=\u001b[39m create_graph\n\u001b[0;32m--> <a href='file:///home/hongyuan/miniconda3/envs/drl/lib/python3.9/site-packages/torch/autograd/__init__.py?line=153'>154</a>\u001b[0m Variable\u001b[39m.\u001b[39;49m_execution_engine\u001b[39m.\u001b[39;49mrun_backward(\n\u001b[1;32m    <a href='file:///home/hongyuan/miniconda3/envs/drl/lib/python3.9/site-packages/torch/autograd/__init__.py?line=154'>155</a>\u001b[0m     tensors, grad_tensors_, retain_graph, create_graph, inputs,\n\u001b[1;32m    <a href='file:///home/hongyuan/miniconda3/envs/drl/lib/python3.9/site-packages/torch/autograd/__init__.py?line=155'>156</a>\u001b[0m     allow_unreachable\u001b[39m=\u001b[39;49m\u001b[39mTrue\u001b[39;49;00m, accumulate_grad\u001b[39m=\u001b[39;49m\u001b[39mTrue\u001b[39;49;00m)\n",
      "\u001b[0;31mKeyboardInterrupt\u001b[0m: "
     ]
    }
   ],
   "source": [
    "args.target_step = args.max_step * 50\n",
    "args.eval_times = 2 ** 10\n",
    "args.net_dim = 512\n",
    "args.batch_size = 1024\n",
    "args.gamma = 1\n",
    "args.explore_rate = 0.1\n",
    "args.seed = 666\n",
    "args.learning_rate = 2**-15\n",
    "args.eval_gap = 2 ** 6\n",
    "# args.break_step = 4e6\n",
    "train_and_evaluate(args)"
   ]
  },
  {
   "cell_type": "code",
   "execution_count": 21,
   "metadata": {},
   "outputs": [],
   "source": [
    "# age = args.agent().save_or_load_agent(cwd='./executioner_D3QN_0', if_save=False)\n",
    "from elegantrl.run import *"
   ]
  },
  {
   "cell_type": "code",
   "execution_count": 22,
   "metadata": {},
   "outputs": [
    {
     "data": {
      "text/plain": [
       "0"
      ]
     },
     "execution_count": 22,
     "metadata": {},
     "output_type": "execute_result"
    }
   ],
   "source": [
    "args.learner_gpus"
   ]
  },
  {
   "cell_type": "code",
   "execution_count": 38,
   "metadata": {},
   "outputs": [],
   "source": [
    "import torch\n",
    "torch.set_grad_enabled(False)\n",
    "# args.init_before_training()\n",
    "gpu_id = args.learner_gpus\n",
    "\n",
    "'''init'''\n",
    "env = build_env(args.env, args.env_func, args.env_args)\n",
    "\n",
    "age = init_agent(args, gpu_id, env)"
   ]
  },
  {
   "cell_type": "code",
   "execution_count": 39,
   "metadata": {},
   "outputs": [],
   "source": [
    "age.save_or_load_agent('./executioner_D3QN_0', if_save=False)"
   ]
  },
  {
   "cell_type": "code",
   "execution_count": 40,
   "metadata": {},
   "outputs": [
    {
     "name": "stdout",
     "output_type": "stream",
     "text": [
      "1000 times avg: 0.001\n",
      "1000 times avg: 0.305\n",
      "1000 times avg: 0.266\n",
      "1000 times avg: 0.308\n",
      "1000 times avg: 0.215\n",
      "1000 times avg: 0.266\n",
      "1000 times avg: 0.292\n",
      "1000 times avg: 0.36\n",
      "1000 times avg: 0.314\n",
      "1000 times avg: 0.234\n",
      "1000 times avg: 0.322\n",
      "1000 times avg: 0.289\n",
      "1000 times avg: 0.288\n",
      "1000 times avg: 0.316\n",
      "1000 times avg: 0.279\n",
      "1000 times avg: 0.304\n",
      "1000 times avg: 0.271\n",
      "1000 times avg: 0.28\n",
      "1000 times avg: 0.295\n",
      "1000 times avg: 0.181\n",
      "1000 times avg: 0.28\n",
      "1000 times avg: 0.137\n",
      "1000 times avg: 0.27\n",
      "1000 times avg: 0.259\n",
      "1000 times avg: 0.266\n",
      "1000 times avg: 0.28\n",
      "1000 times avg: 0.254\n",
      "1000 times avg: 0.301\n",
      "1000 times avg: 0.295\n",
      "1000 times avg: 0.229\n",
      "1000 times avg: 0.214\n",
      "1000 times avg: 0.311\n",
      "1000 times avg: 0.269\n",
      "1000 times avg: 0.266\n",
      "1000 times avg: 0.27\n",
      "1000 times avg: 0.146\n",
      "1000 times avg: 0.292\n",
      "1000 times avg: 0.323\n",
      "1000 times avg: 0.32\n",
      "1000 times avg: 0.288\n",
      "1000 times avg: 0.252\n",
      "1000 times avg: 0.283\n",
      "1000 times avg: 0.123\n",
      "1000 times avg: 0.266\n",
      "1000 times avg: 0.222\n",
      "1000 times avg: 0.253\n",
      "1000 times avg: 0.143\n",
      "1000 times avg: 0.291\n",
      "1000 times avg: 0.299\n",
      "1000 times avg: 0.222\n",
      "1000 times avg: 0.296\n",
      "1000 times avg: 0.37\n",
      "1000 times avg: 0.333\n",
      "1000 times avg: 0.286\n",
      "1000 times avg: 0.294\n",
      "1000 times avg: 0.272\n",
      "1000 times avg: 0.259\n",
      "1000 times avg: 0.316\n",
      "1000 times avg: 0.325\n",
      "1000 times avg: 0.273\n",
      "1000 times avg: 0.232\n",
      "1000 times avg: 0.259\n",
      "1000 times avg: 0.333\n",
      "1000 times avg: 0.254\n",
      "1000 times avg: 0.209\n",
      "1000 times avg: 0.245\n",
      "1000 times avg: 0.209\n",
      "1000 times avg: 0.283\n",
      "1000 times avg: 0.324\n",
      "1000 times avg: 0.247\n",
      "1000 times avg: 0.298\n",
      "1000 times avg: 0.264\n",
      "1000 times avg: 0.367\n",
      "1000 times avg: 0.131\n",
      "1000 times avg: 0.297\n",
      "1000 times avg: 0.232\n",
      "1000 times avg: 0.35\n",
      "1000 times avg: 0.271\n",
      "1000 times avg: 0.267\n",
      "1000 times avg: 0.252\n",
      "1000 times avg: 0.21\n",
      "1000 times avg: 0.299\n",
      "1000 times avg: 0.188\n",
      "1000 times avg: 0.274\n",
      "1000 times avg: 0.3\n",
      "1000 times avg: 0.258\n",
      "1000 times avg: 0.324\n",
      "1000 times avg: 0.312\n",
      "1000 times avg: 0.308\n",
      "1000 times avg: 0.274\n",
      "1000 times avg: 0.286\n",
      "1000 times avg: 0.251\n",
      "1000 times avg: 0.297\n",
      "1000 times avg: 0.257\n",
      "1000 times avg: 0.29\n",
      "1000 times avg: 0.277\n",
      "1000 times avg: 0.309\n",
      "1000 times avg: 0.255\n",
      "1000 times avg: 0.25\n",
      "1000 times avg: 0.345\n",
      "0.27191\n"
     ]
    }
   ],
   "source": [
    "# for seed in range(100):\n",
    "seed = 123456\n",
    "env.seed(seed)\n",
    "tot = 0\n",
    "tmp = 0\n",
    "device = torch.device(f'cuda:{args.learner_gpus}')\n",
    "for i in range(100000):\n",
    "    done = False\n",
    "    state = env.reset()\n",
    "    steps = 0\n",
    "    # print(state.reshape((-1, 5)))\n",
    "    while not done:\n",
    "        steps += 1\n",
    "        ten_s = torch.as_tensor(state, dtype=torch.float32, device=device).unsqueeze(0)\n",
    "        ten_a = age.act(ten_s)\n",
    "        # print(ten_a)\n",
    "        ten_a = ten_a.argmax(dim=1).cpu().numpy()[0]\n",
    "        state, reward, done, _ = env.step(ten_a)  # different\n",
    "        # print(state[-5:])\n",
    "        # print(reward)\n",
    "    tot += reward\n",
    "    tmp += reward\n",
    "    if i % 1000 == 0:\n",
    "        print(f'1000 times avg: {tmp/1000}')\n",
    "        tmp = 0\n",
    "    # env.episode_data[:300].to_csv('tmp.csv')\n",
    "    # break\n",
    "    # print(steps)\n",
    "print(tot/100000)"
   ]
  },
  {
   "cell_type": "code",
   "execution_count": 18,
   "metadata": {},
   "outputs": [
    {
     "name": "stdout",
     "output_type": "stream",
     "text": [
      "1000 times avg: 0.001\n",
      "1000 times avg: 0.163\n",
      "1000 times avg: 0.285\n",
      "1000 times avg: 0.167\n",
      "1000 times avg: 0.09\n",
      "1000 times avg: -0.044\n",
      "1000 times avg: 0.201\n",
      "1000 times avg: 0.195\n",
      "1000 times avg: 0.181\n",
      "1000 times avg: 0.07\n",
      "1000 times avg: 0.167\n",
      "1000 times avg: 0.084\n",
      "1000 times avg: 0.257\n",
      "1000 times avg: 0.271\n",
      "1000 times avg: 0.278\n",
      "1000 times avg: 0.191\n",
      "1000 times avg: -0.068\n",
      "1000 times avg: 0.116\n",
      "1000 times avg: 0.201\n",
      "1000 times avg: 0.394\n",
      "1000 times avg: -0.016\n",
      "1000 times avg: 0.037\n",
      "1000 times avg: -0.105\n",
      "1000 times avg: 0.124\n",
      "1000 times avg: 0.193\n",
      "1000 times avg: 0.185\n",
      "1000 times avg: 0.12\n",
      "1000 times avg: 0.266\n",
      "1000 times avg: 0.163\n",
      "1000 times avg: 0.016\n",
      "1000 times avg: -0.01\n",
      "1000 times avg: 0.227\n",
      "1000 times avg: -0.133\n",
      "1000 times avg: -0.135\n",
      "1000 times avg: 0.041\n",
      "1000 times avg: -0.04\n",
      "1000 times avg: 0.145\n",
      "1000 times avg: -0.099\n",
      "1000 times avg: 0.154\n",
      "1000 times avg: 0.112\n",
      "1000 times avg: 0.289\n",
      "1000 times avg: 0.148\n",
      "1000 times avg: 0.104\n",
      "1000 times avg: 0.352\n",
      "1000 times avg: 0.014\n",
      "1000 times avg: 0.064\n",
      "1000 times avg: 0.226\n",
      "1000 times avg: 0.135\n",
      "1000 times avg: 0.248\n",
      "1000 times avg: 0.107\n",
      "1000 times avg: 0.222\n",
      "1000 times avg: 0.355\n",
      "1000 times avg: 0.306\n",
      "1000 times avg: 0.135\n",
      "1000 times avg: -0.147\n",
      "1000 times avg: 0.009\n",
      "1000 times avg: -0.071\n",
      "1000 times avg: 0.127\n",
      "1000 times avg: -0.015\n",
      "1000 times avg: 0.225\n",
      "1000 times avg: -0.043\n",
      "1000 times avg: 0.145\n",
      "1000 times avg: 0.002\n",
      "1000 times avg: 0.02\n",
      "1000 times avg: -0.106\n",
      "1000 times avg: 0.081\n",
      "1000 times avg: 0.21\n",
      "1000 times avg: -0.105\n",
      "1000 times avg: 0.031\n",
      "1000 times avg: 0.157\n",
      "1000 times avg: 0.205\n",
      "1000 times avg: 0.289\n",
      "1000 times avg: 0.25\n",
      "1000 times avg: 0.038\n",
      "1000 times avg: 0.295\n",
      "1000 times avg: 0.197\n",
      "1000 times avg: 0.309\n",
      "1000 times avg: -0.13\n",
      "1000 times avg: 0.029\n",
      "1000 times avg: -0.099\n",
      "1000 times avg: 0.018\n",
      "1000 times avg: 0.286\n",
      "1000 times avg: -0.078\n",
      "1000 times avg: 0.001\n",
      "1000 times avg: 0.172\n",
      "1000 times avg: 0.101\n",
      "1000 times avg: 0.043\n",
      "1000 times avg: -0.076\n",
      "1000 times avg: 0.097\n",
      "1000 times avg: 0.056\n",
      "1000 times avg: 0.056\n",
      "1000 times avg: 0.184\n",
      "1000 times avg: -0.123\n",
      "1000 times avg: 0.035\n",
      "1000 times avg: 0.069\n",
      "1000 times avg: 0.048\n",
      "1000 times avg: 0.176\n",
      "1000 times avg: -0.06\n",
      "1000 times avg: 0.199\n",
      "1000 times avg: 0.273\n",
      "0.10513\n"
     ]
    }
   ],
   "source": [
    "# for seed in range(100):\n",
    "seed = 123456\n",
    "env.seed(seed)\n",
    "tot = 0\n",
    "tmp = 0\n",
    "device = torch.device(f'cuda:{args.learner_gpus}')\n",
    "for i in range(100000):\n",
    "    done = False\n",
    "    state = env.reset()\n",
    "    steps = 0\n",
    "    # print(state.reshape((-1, 5)))\n",
    "    ten_a = 0\n",
    "    while not done:\n",
    "        steps += 1\n",
    "        # ten_s = torch.as_tensor(state, dtype=torch.float32, device=device).unsqueeze(0)\n",
    "        # ten_a = age.act(ten_s)\n",
    "        # # print(ten_a)\n",
    "        # ten_a = ten_a.argmax(dim=1).cpu().numpy()[0]\n",
    "        state, reward, done, _ = env.step(ten_a)  # different\n",
    "        if state[0] == 1:\n",
    "            ten_a = 1\n",
    "\n",
    "        # print(state[-5:])\n",
    "        # print(reward)\n",
    "    tot += reward\n",
    "    tmp += reward\n",
    "    if i % 1000 == 0:\n",
    "        print(f'1000 times avg: {tmp/1000}')\n",
    "        tmp = 0\n",
    "    # env.episode_data[:300].to_csv('tmp.csv')\n",
    "    # break\n",
    "    # print(steps)\n",
    "print(tot/100000)"
   ]
  },
  {
   "cell_type": "code",
   "execution_count": 21,
   "metadata": {},
   "outputs": [
    {
     "name": "stdout",
     "output_type": "stream",
     "text": [
      "0.193\n",
      "-0.09\n",
      "-0.106\n"
     ]
    },
    {
     "ename": "KeyboardInterrupt",
     "evalue": "",
     "output_type": "error",
     "traceback": [
      "\u001b[0;31m---------------------------------------------------------------------------\u001b[0m",
      "\u001b[0;31mKeyboardInterrupt\u001b[0m                         Traceback (most recent call last)",
      "\u001b[0;32m/tmp/ipykernel_27756/1065460738.py\u001b[0m in \u001b[0;36m<module>\u001b[0;34m\u001b[0m\n\u001b[1;32m      4\u001b[0m     \u001b[0;32mfor\u001b[0m \u001b[0mi\u001b[0m \u001b[0;32min\u001b[0m \u001b[0mrange\u001b[0m\u001b[0;34m(\u001b[0m\u001b[0;36m1000\u001b[0m\u001b[0;34m)\u001b[0m\u001b[0;34m:\u001b[0m\u001b[0;34m\u001b[0m\u001b[0;34m\u001b[0m\u001b[0m\n\u001b[1;32m      5\u001b[0m         \u001b[0mdone\u001b[0m \u001b[0;34m=\u001b[0m \u001b[0;32mFalse\u001b[0m\u001b[0;34m\u001b[0m\u001b[0;34m\u001b[0m\u001b[0m\n\u001b[0;32m----> 6\u001b[0;31m         \u001b[0mstate\u001b[0m \u001b[0;34m=\u001b[0m \u001b[0menv\u001b[0m\u001b[0;34m.\u001b[0m\u001b[0mreset\u001b[0m\u001b[0;34m(\u001b[0m\u001b[0;34m)\u001b[0m\u001b[0;34m\u001b[0m\u001b[0;34m\u001b[0m\u001b[0m\n\u001b[0m\u001b[1;32m      7\u001b[0m         \u001b[0maction\u001b[0m \u001b[0;34m=\u001b[0m \u001b[0;36m0\u001b[0m\u001b[0;34m\u001b[0m\u001b[0;34m\u001b[0m\u001b[0m\n\u001b[1;32m      8\u001b[0m         \u001b[0;32mwhile\u001b[0m \u001b[0;32mnot\u001b[0m \u001b[0mdone\u001b[0m\u001b[0;34m:\u001b[0m\u001b[0;34m\u001b[0m\u001b[0;34m\u001b[0m\u001b[0m\n",
      "\u001b[0;32m~/trader/env.py\u001b[0m in \u001b[0;36mreset\u001b[0;34m(self)\u001b[0m\n\u001b[1;32m     89\u001b[0m \u001b[0;34m\u001b[0m\u001b[0m\n\u001b[1;32m     90\u001b[0m         \u001b[0mself\u001b[0m\u001b[0;34m.\u001b[0m\u001b[0mepisode_data\u001b[0m\u001b[0;34m.\u001b[0m\u001b[0mloc\u001b[0m\u001b[0;34m[\u001b[0m\u001b[0;34m:\u001b[0m\u001b[0;34m,\u001b[0m\u001b[0;34m'bid'\u001b[0m\u001b[0;34m]\u001b[0m \u001b[0;34m=\u001b[0m \u001b[0mself\u001b[0m\u001b[0;34m.\u001b[0m\u001b[0mepisode_data\u001b[0m\u001b[0;34m[\u001b[0m\u001b[0;34m'bid'\u001b[0m\u001b[0;34m]\u001b[0m\u001b[0;34m-\u001b[0m\u001b[0mself\u001b[0m\u001b[0;34m.\u001b[0m\u001b[0mtarget_price\u001b[0m\u001b[0;34m\u001b[0m\u001b[0;34m\u001b[0m\u001b[0m\n\u001b[0;32m---> 91\u001b[0;31m         \u001b[0mself\u001b[0m\u001b[0;34m.\u001b[0m\u001b[0mepisode_data\u001b[0m\u001b[0;34m.\u001b[0m\u001b[0mloc\u001b[0m\u001b[0;34m[\u001b[0m\u001b[0;34m:\u001b[0m\u001b[0;34m,\u001b[0m\u001b[0;34m'ask'\u001b[0m\u001b[0;34m]\u001b[0m \u001b[0;34m=\u001b[0m \u001b[0mself\u001b[0m\u001b[0;34m.\u001b[0m\u001b[0mepisode_data\u001b[0m\u001b[0;34m[\u001b[0m\u001b[0;34m'ask'\u001b[0m\u001b[0;34m]\u001b[0m\u001b[0;34m-\u001b[0m\u001b[0mself\u001b[0m\u001b[0;34m.\u001b[0m\u001b[0mtarget_price\u001b[0m\u001b[0;34m\u001b[0m\u001b[0;34m\u001b[0m\u001b[0m\n\u001b[0m\u001b[1;32m     92\u001b[0m \u001b[0;34m\u001b[0m\u001b[0m\n\u001b[1;32m     93\u001b[0m         \u001b[0mself\u001b[0m\u001b[0;34m.\u001b[0m\u001b[0mtick_state\u001b[0m \u001b[0;34m=\u001b[0m \u001b[0mself\u001b[0m\u001b[0;34m.\u001b[0m\u001b[0mepisode_data\u001b[0m\u001b[0;34m.\u001b[0m\u001b[0miloc\u001b[0m\u001b[0;34m[\u001b[0m\u001b[0mself\u001b[0m\u001b[0;34m.\u001b[0m\u001b[0mback_length\u001b[0m\u001b[0;34m-\u001b[0m\u001b[0;36m1\u001b[0m\u001b[0;34m]\u001b[0m\u001b[0;34m.\u001b[0m\u001b[0mvalues\u001b[0m\u001b[0;34m\u001b[0m\u001b[0;34m\u001b[0m\u001b[0m\n",
      "\u001b[0;32m~/miniconda3/lib/python3.9/site-packages/pandas/core/ops/common.py\u001b[0m in \u001b[0;36mnew_method\u001b[0;34m(self, other)\u001b[0m\n\u001b[1;32m     67\u001b[0m         \u001b[0mother\u001b[0m \u001b[0;34m=\u001b[0m \u001b[0mitem_from_zerodim\u001b[0m\u001b[0;34m(\u001b[0m\u001b[0mother\u001b[0m\u001b[0;34m)\u001b[0m\u001b[0;34m\u001b[0m\u001b[0;34m\u001b[0m\u001b[0m\n\u001b[1;32m     68\u001b[0m \u001b[0;34m\u001b[0m\u001b[0m\n\u001b[0;32m---> 69\u001b[0;31m         \u001b[0;32mreturn\u001b[0m \u001b[0mmethod\u001b[0m\u001b[0;34m(\u001b[0m\u001b[0mself\u001b[0m\u001b[0;34m,\u001b[0m \u001b[0mother\u001b[0m\u001b[0;34m)\u001b[0m\u001b[0;34m\u001b[0m\u001b[0;34m\u001b[0m\u001b[0m\n\u001b[0m\u001b[1;32m     70\u001b[0m \u001b[0;34m\u001b[0m\u001b[0m\n\u001b[1;32m     71\u001b[0m     \u001b[0;32mreturn\u001b[0m \u001b[0mnew_method\u001b[0m\u001b[0;34m\u001b[0m\u001b[0;34m\u001b[0m\u001b[0m\n",
      "\u001b[0;32m~/miniconda3/lib/python3.9/site-packages/pandas/core/arraylike.py\u001b[0m in \u001b[0;36m__sub__\u001b[0;34m(self, other)\u001b[0m\n\u001b[1;32m     98\u001b[0m     \u001b[0;34m@\u001b[0m\u001b[0munpack_zerodim_and_defer\u001b[0m\u001b[0;34m(\u001b[0m\u001b[0;34m\"__sub__\"\u001b[0m\u001b[0;34m)\u001b[0m\u001b[0;34m\u001b[0m\u001b[0;34m\u001b[0m\u001b[0m\n\u001b[1;32m     99\u001b[0m     \u001b[0;32mdef\u001b[0m \u001b[0m__sub__\u001b[0m\u001b[0;34m(\u001b[0m\u001b[0mself\u001b[0m\u001b[0;34m,\u001b[0m \u001b[0mother\u001b[0m\u001b[0;34m)\u001b[0m\u001b[0;34m:\u001b[0m\u001b[0;34m\u001b[0m\u001b[0;34m\u001b[0m\u001b[0m\n\u001b[0;32m--> 100\u001b[0;31m         \u001b[0;32mreturn\u001b[0m \u001b[0mself\u001b[0m\u001b[0;34m.\u001b[0m\u001b[0m_arith_method\u001b[0m\u001b[0;34m(\u001b[0m\u001b[0mother\u001b[0m\u001b[0;34m,\u001b[0m \u001b[0moperator\u001b[0m\u001b[0;34m.\u001b[0m\u001b[0msub\u001b[0m\u001b[0;34m)\u001b[0m\u001b[0;34m\u001b[0m\u001b[0;34m\u001b[0m\u001b[0m\n\u001b[0m\u001b[1;32m    101\u001b[0m \u001b[0;34m\u001b[0m\u001b[0m\n\u001b[1;32m    102\u001b[0m     \u001b[0;34m@\u001b[0m\u001b[0munpack_zerodim_and_defer\u001b[0m\u001b[0;34m(\u001b[0m\u001b[0;34m\"__rsub__\"\u001b[0m\u001b[0;34m)\u001b[0m\u001b[0;34m\u001b[0m\u001b[0;34m\u001b[0m\u001b[0m\n",
      "\u001b[0;32m~/miniconda3/lib/python3.9/site-packages/pandas/core/series.py\u001b[0m in \u001b[0;36m_arith_method\u001b[0;34m(self, other, op)\u001b[0m\n\u001b[1;32m   5526\u001b[0m             \u001b[0mresult\u001b[0m \u001b[0;34m=\u001b[0m \u001b[0mops\u001b[0m\u001b[0;34m.\u001b[0m\u001b[0marithmetic_op\u001b[0m\u001b[0;34m(\u001b[0m\u001b[0mlvalues\u001b[0m\u001b[0;34m,\u001b[0m \u001b[0mrvalues\u001b[0m\u001b[0;34m,\u001b[0m \u001b[0mop\u001b[0m\u001b[0;34m)\u001b[0m\u001b[0;34m\u001b[0m\u001b[0;34m\u001b[0m\u001b[0m\n\u001b[1;32m   5527\u001b[0m \u001b[0;34m\u001b[0m\u001b[0m\n\u001b[0;32m-> 5528\u001b[0;31m         \u001b[0;32mreturn\u001b[0m \u001b[0mself\u001b[0m\u001b[0;34m.\u001b[0m\u001b[0m_construct_result\u001b[0m\u001b[0;34m(\u001b[0m\u001b[0mresult\u001b[0m\u001b[0;34m,\u001b[0m \u001b[0mname\u001b[0m\u001b[0;34m=\u001b[0m\u001b[0mres_name\u001b[0m\u001b[0;34m)\u001b[0m\u001b[0;34m\u001b[0m\u001b[0;34m\u001b[0m\u001b[0m\n\u001b[0m\u001b[1;32m   5529\u001b[0m \u001b[0;34m\u001b[0m\u001b[0m\n\u001b[1;32m   5530\u001b[0m \u001b[0;34m\u001b[0m\u001b[0m\n",
      "\u001b[0;32m~/miniconda3/lib/python3.9/site-packages/pandas/core/series.py\u001b[0m in \u001b[0;36m_construct_result\u001b[0;34m(self, result, name)\u001b[0m\n\u001b[1;32m   2943\u001b[0m         \u001b[0;31m# We do not pass dtype to ensure that the Series constructor\u001b[0m\u001b[0;34m\u001b[0m\u001b[0;34m\u001b[0m\u001b[0m\n\u001b[1;32m   2944\u001b[0m         \u001b[0;31m#  does inference in the case where `result` has object-dtype.\u001b[0m\u001b[0;34m\u001b[0m\u001b[0;34m\u001b[0m\u001b[0m\n\u001b[0;32m-> 2945\u001b[0;31m         \u001b[0mout\u001b[0m \u001b[0;34m=\u001b[0m \u001b[0mself\u001b[0m\u001b[0;34m.\u001b[0m\u001b[0m_constructor\u001b[0m\u001b[0;34m(\u001b[0m\u001b[0mresult\u001b[0m\u001b[0;34m,\u001b[0m \u001b[0mindex\u001b[0m\u001b[0;34m=\u001b[0m\u001b[0mself\u001b[0m\u001b[0;34m.\u001b[0m\u001b[0mindex\u001b[0m\u001b[0;34m)\u001b[0m\u001b[0;34m\u001b[0m\u001b[0;34m\u001b[0m\u001b[0m\n\u001b[0m\u001b[1;32m   2946\u001b[0m         \u001b[0mout\u001b[0m \u001b[0;34m=\u001b[0m \u001b[0mout\u001b[0m\u001b[0;34m.\u001b[0m\u001b[0m__finalize__\u001b[0m\u001b[0;34m(\u001b[0m\u001b[0mself\u001b[0m\u001b[0;34m)\u001b[0m\u001b[0;34m\u001b[0m\u001b[0;34m\u001b[0m\u001b[0m\n\u001b[1;32m   2947\u001b[0m \u001b[0;34m\u001b[0m\u001b[0m\n",
      "\u001b[0;32m~/miniconda3/lib/python3.9/site-packages/pandas/core/series.py\u001b[0m in \u001b[0;36m__init__\u001b[0;34m(self, data, index, dtype, name, copy, fastpath)\u001b[0m\n\u001b[1;32m    431\u001b[0m \u001b[0;34m\u001b[0m\u001b[0m\n\u001b[1;32m    432\u001b[0m             \u001b[0;31m# create/copy the manager\u001b[0m\u001b[0;34m\u001b[0m\u001b[0;34m\u001b[0m\u001b[0m\n\u001b[0;32m--> 433\u001b[0;31m             \u001b[0;32mif\u001b[0m \u001b[0misinstance\u001b[0m\u001b[0;34m(\u001b[0m\u001b[0mdata\u001b[0m\u001b[0;34m,\u001b[0m \u001b[0;34m(\u001b[0m\u001b[0mSingleBlockManager\u001b[0m\u001b[0;34m,\u001b[0m \u001b[0mSingleArrayManager\u001b[0m\u001b[0;34m)\u001b[0m\u001b[0;34m)\u001b[0m\u001b[0;34m:\u001b[0m\u001b[0;34m\u001b[0m\u001b[0;34m\u001b[0m\u001b[0m\n\u001b[0m\u001b[1;32m    434\u001b[0m                 \u001b[0;32mif\u001b[0m \u001b[0mdtype\u001b[0m \u001b[0;32mis\u001b[0m \u001b[0;32mnot\u001b[0m \u001b[0;32mNone\u001b[0m\u001b[0;34m:\u001b[0m\u001b[0;34m\u001b[0m\u001b[0;34m\u001b[0m\u001b[0m\n\u001b[1;32m    435\u001b[0m                     \u001b[0mdata\u001b[0m \u001b[0;34m=\u001b[0m \u001b[0mdata\u001b[0m\u001b[0;34m.\u001b[0m\u001b[0mastype\u001b[0m\u001b[0;34m(\u001b[0m\u001b[0mdtype\u001b[0m\u001b[0;34m=\u001b[0m\u001b[0mdtype\u001b[0m\u001b[0;34m,\u001b[0m \u001b[0merrors\u001b[0m\u001b[0;34m=\u001b[0m\u001b[0;34m\"ignore\"\u001b[0m\u001b[0;34m,\u001b[0m \u001b[0mcopy\u001b[0m\u001b[0;34m=\u001b[0m\u001b[0mcopy\u001b[0m\u001b[0;34m)\u001b[0m\u001b[0;34m\u001b[0m\u001b[0;34m\u001b[0m\u001b[0m\n",
      "\u001b[0;31mKeyboardInterrupt\u001b[0m: "
     ]
    }
   ],
   "source": [
    "for seed in range(100):\n",
    "    tot = 0\n",
    "    env.seed(seed)\n",
    "    for i in range(1000):\n",
    "        done = False\n",
    "        state = env.reset()\n",
    "        action = 0\n",
    "        while not done:\n",
    "            state, reward, done, _ = env.step(action)\n",
    "            if state[0] == 1:\n",
    "                action = 1\n",
    "        tot += reward\n",
    "    print(tot/1000)"
   ]
  },
  {
   "cell_type": "code",
   "execution_count": 38,
   "metadata": {},
   "outputs": [
    {
     "name": "stdout",
     "output_type": "stream",
     "text": [
      "-0.046\n"
     ]
    }
   ],
   "source": [
    "tot = 0\n",
    "env.seed(1)\n",
    "for i in range(1000):\n",
    "    done = False\n",
    "    state = env.reset()\n",
    "    action = 1\n",
    "    while not done:\n",
    "        state, reward, done, _ = env.step(action)\n",
    "    tot += reward\n",
    "print(tot/1000)"
   ]
  },
  {
   "cell_type": "code",
   "execution_count": 41,
   "metadata": {},
   "outputs": [
    {
     "name": "stdout",
     "output_type": "stream",
     "text": [
      "-0.0302\n"
     ]
    }
   ],
   "source": [
    "tot = 0\n",
    "env.seed(1)\n",
    "for i in range(10000):\n",
    "    done = False\n",
    "    state = env.reset()\n",
    "    while not done:\n",
    "        action = env.action_space.sample()\n",
    "        state, reward, done, _ = env.step(action)\n",
    "    tot += reward\n",
    "print(tot/10000)"
   ]
  },
  {
   "cell_type": "code",
   "execution_count": 28,
   "metadata": {},
   "outputs": [],
   "source": [
    "tmp = np.load(r'executioner_D3QN_0\\replay_0.npz')"
   ]
  },
  {
   "cell_type": "code",
   "execution_count": 40,
   "metadata": {},
   "outputs": [],
   "source": [
    "import matplotlib.pyplot as plt\n",
    "import matplotlib\n",
    "matplotlib.use('tkagg')\n",
    "plt.plot(data['bid'])\n",
    "plt.show()"
   ]
  },
  {
   "cell_type": "code",
   "execution_count": 35,
   "metadata": {},
   "outputs": [
    {
     "data": {
      "text/plain": [
       "array([[ 0.  ,  0.  ,  0.  ],\n",
       "       [ 0.  ,  0.  ,  0.  ],\n",
       "       [ 0.  ,  0.  ,  0.  ],\n",
       "       ...,\n",
       "       [ 0.  ,  0.99,  2.  ],\n",
       "       [ 0.  ,  0.99,  2.  ],\n",
       "       [-0.  ,  0.  ,  2.  ]], dtype=float16)"
      ]
     },
     "execution_count": 35,
     "metadata": {},
     "output_type": "execute_result"
    }
   ],
   "source": [
    "tmp['buf_other']"
   ]
  },
  {
   "cell_type": "code",
   "execution_count": 5,
   "metadata": {},
   "outputs": [],
   "source": [
    "a = [(1,2,3),(3,4,5),(5,6,5),(7,8,5)]\n",
    "b = list(map(list, zip(*a)))"
   ]
  },
  {
   "cell_type": "code",
   "execution_count": 7,
   "metadata": {},
   "outputs": [
    {
     "data": {
      "text/plain": [
       "[[1, 3, 5, 7], [2, 4, 6, 8], [3, 5, 5, 5]]"
      ]
     },
     "execution_count": 7,
     "metadata": {},
     "output_type": "execute_result"
    }
   ],
   "source": [
    "import torch\n",
    "b"
   ]
  }
 ],
 "metadata": {
  "interpreter": {
   "hash": "fd743178cd687d8631a9d8ff4c93b928146afe1f13697893f00fa7b20727ad6b"
  },
  "kernelspec": {
   "display_name": "Python 3.9.7 ('pytorch')",
   "language": "python",
   "name": "python3"
  },
  "language_info": {
   "codemirror_mode": {
    "name": "ipython",
    "version": 3
   },
   "file_extension": ".py",
   "mimetype": "text/x-python",
   "name": "python",
   "nbconvert_exporter": "python",
   "pygments_lexer": "ipython3",
   "version": "3.9.7"
  },
  "orig_nbformat": 4
 },
 "nbformat": 4,
 "nbformat_minor": 2
}
