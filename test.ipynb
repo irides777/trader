{
 "cells": [
  {
   "cell_type": "code",
   "execution_count": 1,
   "metadata": {},
   "outputs": [],
   "source": [
    "import numpy as np\n",
    "import pandas as pd"
   ]
  },
  {
   "cell_type": "code",
   "execution_count": 2,
   "metadata": {},
   "outputs": [],
   "source": [
    "from env import *"
   ]
  },
  {
   "cell_type": "code",
   "execution_count": 3,
   "metadata": {},
   "outputs": [],
   "source": [
    "def preprocess(tickpath, filename):\n",
    "    tickdf = pd.read_csv(os.path.join(tickpath, filename),names=['date','time','ms','lastprice','volume','bid','bidv','ask','askv','opi','tur','contract'])\n",
    "    tickdf['datestr'] = tickdf['date'].apply(lambda x: '%s-%s-%s'%(str(x)[:4], str(x)[4:6], str(x)[6:8]))\n",
    "    tickdf['timestr'] = tickdf['time'].apply(lambda x: '%s:%s:%s'%(format(x, '06d')[:-4], format(x, '06d')[-4:-2], format(x, '06d')[-2:]))\n",
    "    tickdf['timestr'] = tickdf['timestr']+'.'+tickdf['ms'].apply(lambda x: format(x, '03d'))\n",
    "    tickdf = tickdf.set_index(pd.to_datetime(tickdf['datestr']+' '+tickdf['timestr']))\n",
    "    tickdf.index.name = 'datetime'\n",
    "    tickdf.loc[tickdf['bid']<0.9*tickdf['lastprice'], 'bid'] = np.nan\n",
    "    tickdf.loc[tickdf['ask']<0.9*tickdf['lastprice'], 'ask'] = np.nan\n",
    "    tickdf[['bid','ask']] = tickdf[['bid','ask']].fillna(method='ffill').fillna(tickdf.iloc[0]['lastprice'])\n",
    "    tickdf['midprice'] = (tickdf['ask']+tickdf['bid'])/2.0\n",
    "\n",
    "    tdata = tickdf[['bid','ask','bidv','askv','volume']]\n",
    "    std = tdata.iloc[0,0]\n",
    "    tdata.loc[:,'bid'] = tdata['bid']-std\n",
    "    tdata.loc[:,'ask'] = tdata['ask']-std\n",
    "\n",
    "    def norm(x):\n",
    "        return (x-x.mean())/x.std()\n",
    "\n",
    "    tdata.loc[:,'askv'] = norm(tdata.askv)\n",
    "    tdata.loc[:,'bidv'] = norm(tdata.bidv)\n",
    "    tdata.loc[:,'volume'] = norm(tdata.volume)\n",
    "    return tdata"
   ]
  },
  {
   "cell_type": "code",
   "execution_count": 4,
   "metadata": {},
   "outputs": [
    {
     "name": "stderr",
     "output_type": "stream",
     "text": [
      "/home/hongyuan/miniconda3/lib/python3.9/site-packages/pandas/core/indexing.py:1773: SettingWithCopyWarning: \n",
      "A value is trying to be set on a copy of a slice from a DataFrame.\n",
      "Try using .loc[row_indexer,col_indexer] = value instead\n",
      "\n",
      "See the caveats in the documentation: https://pandas.pydata.org/pandas-docs/stable/user_guide/indexing.html#returning-a-view-versus-a-copy\n",
      "  self._setitem_single_column(ilocs[0], value, pi)\n"
     ]
    }
   ],
   "source": [
    "import os\n",
    "cwd = '/data/data_zltick/rb'\n",
    "datas = []\n",
    "for _,__, files in os.walk(cwd):\n",
    "    for file in files:\n",
    "        if int(file[:4])<2018:\n",
    "            continue\n",
    "        data = preprocess(cwd, file)\n",
    "        datas.append(data)"
   ]
  },
  {
   "cell_type": "code",
   "execution_count": 5,
   "metadata": {},
   "outputs": [],
   "source": [
    "# import matplotlib.pyplot as plt\n",
    "# fig, ax1 = plt.subplots()\n",
    "\n",
    "# ax2 = ax1.twinx()\n",
    "# ax1.plot(tdata.bid[500:800])\n",
    "# ax2.plot(tdata.volume[500:800], color='red')\n",
    "\n",
    "# plt.show()"
   ]
  },
  {
   "cell_type": "code",
   "execution_count": 6,
   "metadata": {},
   "outputs": [],
   "source": [
    "env = BaseMarket(datas=datas,back_length=100,time_limit=600)"
   ]
  },
  {
   "cell_type": "code",
   "execution_count": 12,
   "metadata": {},
   "outputs": [
    {
     "name": "stdout",
     "output_type": "stream",
     "text": [
      "0.06640625\n"
     ]
    }
   ],
   "source": [
    "tot = 0\n",
    "env.seed(567)\n",
    "for i in range(1024):\n",
    "    done = False\n",
    "    state = env.reset()\n",
    "    action = 0\n",
    "    while not done:\n",
    "        state, reward, done, _ = env.step(action)\n",
    "        if state[0] == 1:\n",
    "            action = 1\n",
    "    tot += reward\n",
    "print(tot/1024)"
   ]
  },
  {
   "cell_type": "code",
   "execution_count": 13,
   "metadata": {},
   "outputs": [
    {
     "name": "stdout",
     "output_type": "stream",
     "text": [
      "-0.0439453125\n"
     ]
    }
   ],
   "source": [
    "env.seed(567)\n",
    "tot = 0\n",
    "for i in range(1024):\n",
    "    done = False\n",
    "    state = env.reset()\n",
    "    while not done:\n",
    "        action = env.action_space.sample()\n",
    "        state, reward, done, _ = env.step(action)\n",
    "    tot += reward\n",
    "print(tot/1024)"
   ]
  },
  {
   "cell_type": "code",
   "execution_count": 6,
   "metadata": {},
   "outputs": [],
   "source": [
    "import elegantrl.agent as agent\n",
    "from elegantrl.config import Arguments\n",
    "env_args = {\n",
    "    'env_num': 1,\n",
    "    'env_name': 'executioner',\n",
    "    'max_step': 600,\n",
    "    'state_dim': (100+1)*5,\n",
    "    'action_dim': 2,\n",
    "    'if_discrete': True,\n",
    "    'target_return': 0.5\n",
    "}"
   ]
  },
  {
   "cell_type": "code",
   "execution_count": 7,
   "metadata": {},
   "outputs": [],
   "source": [
    "env = BaseMarket(datas=datas,back_length=100,time_limit=600)\n",
    "args = Arguments(agent.AgentD3QN,env=env, env_args=env_args)"
   ]
  },
  {
   "cell_type": "code",
   "execution_count": 8,
   "metadata": {},
   "outputs": [],
   "source": [
    "from elegantrl.run import train_and_evaluate"
   ]
  },
  {
   "cell_type": "code",
   "execution_count": 9,
   "metadata": {},
   "outputs": [
    {
     "name": "stdout",
     "output_type": "stream",
     "text": [
      "| Arguments Remove cwd: ./executioner_D3QN_0\n",
      "################################################################################\n",
      "ID     Step    maxR |    avgR   stdR   avgS  stdS |    expR   objC   etc.\n",
      "0  3.00e+04    0.19 |\n",
      "0  3.00e+04    0.19 |    0.19    2.7     99   160 |   -0.05   0.06  -0.03\n",
      "0  9.01e+04    0.19 |    0.18    2.8    103   167 |    0.01   0.05   0.10\n",
      "0  2.10e+05    0.20 |\n",
      "0  2.10e+05    0.20 |    0.20    2.2     69   126 |    0.01   0.10  -0.48\n",
      "0  3.00e+05    0.20 |    0.16    2.7     96   159 |    0.01   0.11   0.27\n",
      "0  3.90e+05    0.20 |    0.07    1.0     10    12 |    0.01   0.10  -0.13\n",
      "0  5.10e+05    0.30 |\n",
      "0  5.10e+05    0.30 |    0.30    1.3     31    63 |    0.02   0.14  -0.57\n",
      "0  6.00e+05    0.30 |    0.26    2.3     70   146 |    0.01   0.08  -0.20\n",
      "0  6.90e+05    0.30 |\n",
      "0  6.90e+05    0.30 |    0.30    1.5     35    54 |    0.04   0.08  -0.38\n",
      "0  7.81e+05    0.30 |    0.29    1.6     34    98 |    0.02   0.08  -0.34\n",
      "0  8.71e+05    0.30 |    0.28    0.9     10    15 |    0.03   0.11  -0.45\n",
      "0  9.61e+05    0.30 |    0.29    1.8     49   113 |    0.01   0.09  -0.30\n",
      "0  1.05e+06    0.33 |\n",
      "0  1.05e+06    0.33 |    0.33    0.7      9    12 |    0.04   0.09  -0.46\n",
      "0  1.14e+06    0.35 |\n",
      "0  1.14e+06    0.35 |    0.35    1.1     22    60 |    0.01   0.09  -0.25\n",
      "0  1.20e+06    0.35 |    0.35    1.1     22    29 |    0.02   0.10  -0.57\n",
      "0  1.26e+06    0.35 |    0.29    1.2     18    44 |    0.04   0.08  -0.45\n",
      "0  1.32e+06    0.35 |    0.34    1.0     17    54 |    0.02   0.10  -0.35\n",
      "0  1.38e+06    0.35 |    0.27    1.6     35    66 |    0.03   0.07  -0.32\n",
      "0  1.44e+06    0.35 |    0.31    0.8     10    19 |    0.01   0.12  -0.66\n",
      "0  1.50e+06    0.35 |    0.28    0.6      7    13 |    0.03   0.09  -0.63\n",
      "0  1.56e+06    0.35 |    0.28    1.6     36   104 |    0.03   0.08  -0.22\n",
      "0  1.62e+06    0.35 |    0.27    2.3     61   114 |    0.02   0.09  -0.33\n",
      "0  1.68e+06    0.35 |    0.31    1.8     44    88 |    0.02   0.11  -0.60\n",
      "0  1.74e+06    0.35 |    0.32    1.0     16    49 |    0.02   0.09  -0.45\n",
      "0  1.80e+06    0.35 |    0.34    1.6     38    81 |    0.02   0.09  -0.28\n",
      "0  1.86e+06    0.35 |    0.35    1.4     32    65 |    0.03   0.10  -0.35\n",
      "0  1.92e+06    0.35 |    0.28    2.1     63   115 |    0.02   0.08  -0.39\n",
      "0  1.98e+06    0.35 |    0.32    1.0     12    16 |    0.01   0.10  -0.55\n",
      "0  2.04e+06    0.35 |    0.33    1.4     30    51 |    0.02   0.09  -0.22\n",
      "0  2.10e+06    0.36 |\n",
      "0  2.10e+06    0.36 |    0.36    0.9     15    29 |    0.04   0.10  -0.36\n",
      "0  2.16e+06    0.36 |    0.30    0.9     11    38 |    0.03   0.10  -0.77\n",
      "0  2.22e+06    0.36 |    0.36    1.1     18    50 |    0.04   0.08  -0.36\n",
      "0  2.28e+06    0.36 |    0.30    0.7      9    15 |    0.03   0.12  -0.53\n",
      "0  2.34e+06    0.36 |    0.34    1.8     46    88 |    0.02   0.10  -0.24\n",
      "0  2.40e+06    0.36 |    0.30    1.8     35    65 |    0.02   0.08  -0.36\n",
      "0  2.46e+06    0.36 |    0.35    1.0     18    54 |    0.02   0.09  -0.32\n",
      "0  2.52e+06    0.36 |    0.35    0.9     15    19 |    0.03   0.08  -0.62\n",
      "0  2.58e+06    0.36 |    0.35    1.2     20    31 |    0.03   0.11  -0.75\n",
      "0  2.64e+06    0.36 |    0.34    1.4     29    43 |    0.02   0.09  -0.62\n",
      "0  2.70e+06    0.36 |    0.36    1.1     21    32 |    0.03   0.09  -0.43\n",
      "0  2.76e+06    0.36 |    0.33    0.7      9    13 |    0.02   0.11  -0.79\n",
      "0  2.82e+06    0.36 |    0.30    1.1     13    29 |    0.02   0.12  -0.48\n",
      "0  2.88e+06    0.36 |    0.36    1.4     32    64 |    0.03   0.08  -0.36\n",
      "0  2.94e+06    0.36 |    0.35    1.0     18    22 |    0.01   0.11  -0.55\n",
      "0  3.00e+06    0.38 |\n",
      "0  3.00e+06    0.38 |    0.38    0.8     15    31 |    0.03   0.10  -0.52\n",
      "0  3.06e+06    0.38 |    0.33    0.6      8    11 |    0.03   0.10  -0.70\n",
      "0  3.12e+06    0.38 |    0.37    0.8     13    24 |    0.03   0.07  -0.23\n",
      "0  3.18e+06    0.38 |    0.31    1.6     31    61 |    0.02   0.10  -0.44\n",
      "0  3.24e+06    0.38 |    0.34    1.6     35    58 |    0.03   0.09  -0.13\n",
      "0  3.30e+06    0.38 |    0.37    1.0     19    24 |    0.03   0.09  -0.43\n",
      "0  3.36e+06    0.39 |\n",
      "0  3.36e+06    0.39 |    0.39    0.8     16    27 |    0.03   0.08  -0.38\n",
      "0  3.42e+06    0.39 |    0.33    1.5     32    51 |    0.02   0.09  -0.41\n",
      "0  3.48e+06    0.39 |    0.37    0.8     12    14 |    0.02   0.13  -0.48\n"
     ]
    },
    {
     "ename": "KeyboardInterrupt",
     "evalue": "",
     "output_type": "error",
     "traceback": [
      "\u001b[0;31m---------------------------------------------------------------------------\u001b[0m",
      "\u001b[0;31mKeyboardInterrupt\u001b[0m                         Traceback (most recent call last)",
      "\u001b[0;32m/tmp/ipykernel_46984/1887862251.py\u001b[0m in \u001b[0;36m<module>\u001b[0;34m\u001b[0m\n\u001b[1;32m      7\u001b[0m \u001b[0margs\u001b[0m\u001b[0;34m.\u001b[0m\u001b[0mseed\u001b[0m \u001b[0;34m=\u001b[0m \u001b[0;36m987\u001b[0m\u001b[0;34m\u001b[0m\u001b[0;34m\u001b[0m\u001b[0m\n\u001b[1;32m      8\u001b[0m \u001b[0margs\u001b[0m\u001b[0;34m.\u001b[0m\u001b[0mlearning_rate\u001b[0m \u001b[0;34m=\u001b[0m \u001b[0;36m2\u001b[0m\u001b[0;34m**\u001b[0m\u001b[0;34m-\u001b[0m\u001b[0;36m15\u001b[0m\u001b[0;34m\u001b[0m\u001b[0;34m\u001b[0m\u001b[0m\n\u001b[0;32m----> 9\u001b[0;31m \u001b[0mtrain_and_evaluate\u001b[0m\u001b[0;34m(\u001b[0m\u001b[0margs\u001b[0m\u001b[0;34m)\u001b[0m\u001b[0;34m\u001b[0m\u001b[0;34m\u001b[0m\u001b[0m\n\u001b[0m",
      "\u001b[0;32m~/trader/elegantrl/run.py\u001b[0m in \u001b[0;36mtrain_and_evaluate\u001b[0;34m(***failed resolving arguments***)\u001b[0m\n\u001b[1;32m     45\u001b[0m \u001b[0;34m\u001b[0m\u001b[0m\n\u001b[1;32m     46\u001b[0m         \u001b[0mtorch\u001b[0m\u001b[0;34m.\u001b[0m\u001b[0mset_grad_enabled\u001b[0m\u001b[0;34m(\u001b[0m\u001b[0;32mTrue\u001b[0m\u001b[0;34m)\u001b[0m\u001b[0;34m\u001b[0m\u001b[0;34m\u001b[0m\u001b[0m\n\u001b[0;32m---> 47\u001b[0;31m         \u001b[0mlogging_tuple\u001b[0m \u001b[0;34m=\u001b[0m \u001b[0magent\u001b[0m\u001b[0;34m.\u001b[0m\u001b[0mupdate_net\u001b[0m\u001b[0;34m(\u001b[0m\u001b[0mbuffer\u001b[0m\u001b[0;34m)\u001b[0m\u001b[0;34m\u001b[0m\u001b[0;34m\u001b[0m\u001b[0m\n\u001b[0m\u001b[1;32m     48\u001b[0m         \u001b[0mtorch\u001b[0m\u001b[0;34m.\u001b[0m\u001b[0mset_grad_enabled\u001b[0m\u001b[0;34m(\u001b[0m\u001b[0;32mFalse\u001b[0m\u001b[0;34m)\u001b[0m\u001b[0;34m\u001b[0m\u001b[0;34m\u001b[0m\u001b[0m\n\u001b[1;32m     49\u001b[0m \u001b[0;34m\u001b[0m\u001b[0m\n",
      "\u001b[0;32m~/trader/elegantrl/agent.py\u001b[0m in \u001b[0;36mupdate_net\u001b[0;34m(self, buffer)\u001b[0m\n\u001b[1;32m    406\u001b[0m         \u001b[0;32mfor\u001b[0m \u001b[0m_\u001b[0m \u001b[0;32min\u001b[0m \u001b[0mrange\u001b[0m\u001b[0;34m(\u001b[0m\u001b[0mint\u001b[0m\u001b[0;34m(\u001b[0m\u001b[0;36m1\u001b[0m \u001b[0;34m+\u001b[0m \u001b[0mbuffer\u001b[0m\u001b[0;34m.\u001b[0m\u001b[0mnow_len\u001b[0m \u001b[0;34m*\u001b[0m \u001b[0mself\u001b[0m\u001b[0;34m.\u001b[0m\u001b[0mrepeat_times\u001b[0m \u001b[0;34m/\u001b[0m \u001b[0mself\u001b[0m\u001b[0;34m.\u001b[0m\u001b[0mbatch_size\u001b[0m\u001b[0;34m)\u001b[0m\u001b[0;34m)\u001b[0m\u001b[0;34m:\u001b[0m\u001b[0;34m\u001b[0m\u001b[0;34m\u001b[0m\u001b[0m\n\u001b[1;32m    407\u001b[0m             \u001b[0mobj_critic\u001b[0m\u001b[0;34m,\u001b[0m \u001b[0mq_value\u001b[0m \u001b[0;34m=\u001b[0m \u001b[0mself\u001b[0m\u001b[0;34m.\u001b[0m\u001b[0mget_obj_critic\u001b[0m\u001b[0;34m(\u001b[0m\u001b[0mbuffer\u001b[0m\u001b[0;34m,\u001b[0m \u001b[0mself\u001b[0m\u001b[0;34m.\u001b[0m\u001b[0mbatch_size\u001b[0m\u001b[0;34m)\u001b[0m\u001b[0;34m\u001b[0m\u001b[0;34m\u001b[0m\u001b[0m\n\u001b[0;32m--> 408\u001b[0;31m             \u001b[0mself\u001b[0m\u001b[0;34m.\u001b[0m\u001b[0moptim_update\u001b[0m\u001b[0;34m(\u001b[0m\u001b[0mself\u001b[0m\u001b[0;34m.\u001b[0m\u001b[0mcri_optim\u001b[0m\u001b[0;34m,\u001b[0m \u001b[0mobj_critic\u001b[0m\u001b[0;34m)\u001b[0m\u001b[0;34m\u001b[0m\u001b[0;34m\u001b[0m\u001b[0m\n\u001b[0m\u001b[1;32m    409\u001b[0m             \u001b[0mself\u001b[0m\u001b[0;34m.\u001b[0m\u001b[0msoft_update\u001b[0m\u001b[0;34m(\u001b[0m\u001b[0mself\u001b[0m\u001b[0;34m.\u001b[0m\u001b[0mcri_target\u001b[0m\u001b[0;34m,\u001b[0m \u001b[0mself\u001b[0m\u001b[0;34m.\u001b[0m\u001b[0mcri\u001b[0m\u001b[0;34m,\u001b[0m \u001b[0mself\u001b[0m\u001b[0;34m.\u001b[0m\u001b[0msoft_update_tau\u001b[0m\u001b[0;34m)\u001b[0m\u001b[0;34m\u001b[0m\u001b[0;34m\u001b[0m\u001b[0m\n\u001b[1;32m    410\u001b[0m         \u001b[0;32mreturn\u001b[0m \u001b[0mobj_critic\u001b[0m\u001b[0;34m.\u001b[0m\u001b[0mitem\u001b[0m\u001b[0;34m(\u001b[0m\u001b[0;34m)\u001b[0m\u001b[0;34m,\u001b[0m \u001b[0mq_value\u001b[0m\u001b[0;34m.\u001b[0m\u001b[0mmean\u001b[0m\u001b[0;34m(\u001b[0m\u001b[0;34m)\u001b[0m\u001b[0;34m.\u001b[0m\u001b[0mitem\u001b[0m\u001b[0;34m(\u001b[0m\u001b[0;34m)\u001b[0m\u001b[0;34m\u001b[0m\u001b[0;34m\u001b[0m\u001b[0m\n",
      "\u001b[0;32m~/trader/elegantrl/agent.py\u001b[0m in \u001b[0;36moptim_update\u001b[0;34m(optimizer, objective)\u001b[0m\n\u001b[1;32m    312\u001b[0m     \u001b[0;32mdef\u001b[0m \u001b[0moptim_update\u001b[0m\u001b[0;34m(\u001b[0m\u001b[0moptimizer\u001b[0m\u001b[0;34m,\u001b[0m \u001b[0mobjective\u001b[0m\u001b[0;34m)\u001b[0m\u001b[0;34m:\u001b[0m\u001b[0;34m\u001b[0m\u001b[0;34m\u001b[0m\u001b[0m\n\u001b[1;32m    313\u001b[0m         \u001b[0moptimizer\u001b[0m\u001b[0;34m.\u001b[0m\u001b[0mzero_grad\u001b[0m\u001b[0;34m(\u001b[0m\u001b[0;34m)\u001b[0m\u001b[0;34m\u001b[0m\u001b[0;34m\u001b[0m\u001b[0m\n\u001b[0;32m--> 314\u001b[0;31m         \u001b[0mobjective\u001b[0m\u001b[0;34m.\u001b[0m\u001b[0mbackward\u001b[0m\u001b[0;34m(\u001b[0m\u001b[0;34m)\u001b[0m\u001b[0;34m\u001b[0m\u001b[0;34m\u001b[0m\u001b[0m\n\u001b[0m\u001b[1;32m    315\u001b[0m         \u001b[0moptimizer\u001b[0m\u001b[0;34m.\u001b[0m\u001b[0mstep\u001b[0m\u001b[0;34m(\u001b[0m\u001b[0;34m)\u001b[0m\u001b[0;34m\u001b[0m\u001b[0;34m\u001b[0m\u001b[0m\n\u001b[1;32m    316\u001b[0m \u001b[0;34m\u001b[0m\u001b[0m\n",
      "\u001b[0;32m~/miniconda3/lib/python3.9/site-packages/torch/_tensor.py\u001b[0m in \u001b[0;36mbackward\u001b[0;34m(self, gradient, retain_graph, create_graph, inputs)\u001b[0m\n\u001b[1;32m    305\u001b[0m                 \u001b[0mcreate_graph\u001b[0m\u001b[0;34m=\u001b[0m\u001b[0mcreate_graph\u001b[0m\u001b[0;34m,\u001b[0m\u001b[0;34m\u001b[0m\u001b[0;34m\u001b[0m\u001b[0m\n\u001b[1;32m    306\u001b[0m                 inputs=inputs)\n\u001b[0;32m--> 307\u001b[0;31m         \u001b[0mtorch\u001b[0m\u001b[0;34m.\u001b[0m\u001b[0mautograd\u001b[0m\u001b[0;34m.\u001b[0m\u001b[0mbackward\u001b[0m\u001b[0;34m(\u001b[0m\u001b[0mself\u001b[0m\u001b[0;34m,\u001b[0m \u001b[0mgradient\u001b[0m\u001b[0;34m,\u001b[0m \u001b[0mretain_graph\u001b[0m\u001b[0;34m,\u001b[0m \u001b[0mcreate_graph\u001b[0m\u001b[0;34m,\u001b[0m \u001b[0minputs\u001b[0m\u001b[0;34m=\u001b[0m\u001b[0minputs\u001b[0m\u001b[0;34m)\u001b[0m\u001b[0;34m\u001b[0m\u001b[0;34m\u001b[0m\u001b[0m\n\u001b[0m\u001b[1;32m    308\u001b[0m \u001b[0;34m\u001b[0m\u001b[0m\n\u001b[1;32m    309\u001b[0m     \u001b[0;32mdef\u001b[0m \u001b[0mregister_hook\u001b[0m\u001b[0;34m(\u001b[0m\u001b[0mself\u001b[0m\u001b[0;34m,\u001b[0m \u001b[0mhook\u001b[0m\u001b[0;34m)\u001b[0m\u001b[0;34m:\u001b[0m\u001b[0;34m\u001b[0m\u001b[0;34m\u001b[0m\u001b[0m\n",
      "\u001b[0;32m~/miniconda3/lib/python3.9/site-packages/torch/autograd/__init__.py\u001b[0m in \u001b[0;36mbackward\u001b[0;34m(tensors, grad_tensors, retain_graph, create_graph, grad_variables, inputs)\u001b[0m\n\u001b[1;32m    152\u001b[0m         \u001b[0mretain_graph\u001b[0m \u001b[0;34m=\u001b[0m \u001b[0mcreate_graph\u001b[0m\u001b[0;34m\u001b[0m\u001b[0;34m\u001b[0m\u001b[0m\n\u001b[1;32m    153\u001b[0m \u001b[0;34m\u001b[0m\u001b[0m\n\u001b[0;32m--> 154\u001b[0;31m     Variable._execution_engine.run_backward(\n\u001b[0m\u001b[1;32m    155\u001b[0m         \u001b[0mtensors\u001b[0m\u001b[0;34m,\u001b[0m \u001b[0mgrad_tensors_\u001b[0m\u001b[0;34m,\u001b[0m \u001b[0mretain_graph\u001b[0m\u001b[0;34m,\u001b[0m \u001b[0mcreate_graph\u001b[0m\u001b[0;34m,\u001b[0m \u001b[0minputs\u001b[0m\u001b[0;34m,\u001b[0m\u001b[0;34m\u001b[0m\u001b[0;34m\u001b[0m\u001b[0m\n\u001b[1;32m    156\u001b[0m         allow_unreachable=True, accumulate_grad=True)  # allow_unreachable flag\n",
      "\u001b[0;31mKeyboardInterrupt\u001b[0m: "
     ]
    }
   ],
   "source": [
    "args.target_step = args.max_step * 50\n",
    "args.eval_times = 2 ** 10\n",
    "args.net_dim = 512\n",
    "args.batch_size = 512\n",
    "args.gamma = 1\n",
    "args.explore_rate = 0.1\n",
    "args.seed = 987\n",
    "args.learning_rate = 2**-15\n",
    "train_and_evaluate(args)"
   ]
  },
  {
   "cell_type": "code",
   "execution_count": 34,
   "metadata": {},
   "outputs": [],
   "source": [
    "# age = args.agent().save_or_load_agent(cwd='./executioner_D3QN_0', if_save=False)\n",
    "from elegantrl.run import *"
   ]
  },
  {
   "cell_type": "code",
   "execution_count": 35,
   "metadata": {},
   "outputs": [],
   "source": [
    "import torch\n",
    "torch.set_grad_enabled(False)\n",
    "# args.init_before_training()\n",
    "gpu_id = args.learner_gpus\n",
    "\n",
    "'''init'''\n",
    "env = build_env(args.env, args.env_func, args.env_args)\n",
    "\n",
    "age = init_agent(args, gpu_id, env)"
   ]
  },
  {
   "cell_type": "code",
   "execution_count": 36,
   "metadata": {},
   "outputs": [],
   "source": [
    "age.save_or_load_agent('./executioner_D3QN_other', if_save=False)"
   ]
  },
  {
   "cell_type": "code",
   "execution_count": 37,
   "metadata": {},
   "outputs": [
    {
     "name": "stdout",
     "output_type": "stream",
     "text": [
      "1000 times avg: 0.001\n",
      "1000 times avg: 0.319\n",
      "1000 times avg: 0.262\n",
      "1000 times avg: 0.291\n",
      "1000 times avg: 0.287\n",
      "1000 times avg: 0.248\n",
      "1000 times avg: 0.372\n",
      "1000 times avg: 0.314\n",
      "1000 times avg: 0.292\n",
      "1000 times avg: 0.332\n",
      "1000 times avg: 0.194\n",
      "1000 times avg: 0.308\n",
      "1000 times avg: 0.285\n",
      "1000 times avg: 0.18\n",
      "1000 times avg: 0.309\n",
      "1000 times avg: 0.336\n",
      "1000 times avg: 0.291\n",
      "1000 times avg: 0.272\n",
      "1000 times avg: 0.295\n",
      "1000 times avg: 0.318\n",
      "1000 times avg: 0.334\n",
      "1000 times avg: 0.301\n",
      "1000 times avg: 0.298\n",
      "1000 times avg: 0.33\n",
      "1000 times avg: 0.253\n",
      "1000 times avg: 0.316\n",
      "1000 times avg: 0.311\n",
      "1000 times avg: 0.3\n",
      "1000 times avg: 0.281\n",
      "1000 times avg: 0.335\n",
      "1000 times avg: 0.25\n",
      "1000 times avg: 0.343\n",
      "1000 times avg: 0.332\n",
      "1000 times avg: 0.333\n",
      "1000 times avg: 0.31\n",
      "1000 times avg: 0.329\n",
      "1000 times avg: 0.293\n",
      "1000 times avg: 0.359\n",
      "1000 times avg: 0.321\n",
      "1000 times avg: 0.257\n",
      "1000 times avg: 0.368\n",
      "1000 times avg: 0.335\n",
      "1000 times avg: 0.261\n",
      "1000 times avg: 0.169\n",
      "1000 times avg: 0.239\n",
      "1000 times avg: 0.335\n",
      "1000 times avg: 0.306\n",
      "1000 times avg: 0.182\n",
      "1000 times avg: 0.284\n",
      "1000 times avg: 0.274\n",
      "1000 times avg: 0.314\n",
      "1000 times avg: 0.406\n",
      "1000 times avg: 0.33\n",
      "1000 times avg: 0.272\n",
      "1000 times avg: 0.334\n",
      "1000 times avg: 0.277\n",
      "1000 times avg: 0.359\n",
      "1000 times avg: 0.32\n",
      "1000 times avg: 0.292\n",
      "1000 times avg: 0.33\n",
      "1000 times avg: 0.307\n",
      "1000 times avg: 0.337\n",
      "1000 times avg: 0.375\n",
      "1000 times avg: 0.348\n",
      "1000 times avg: 0.219\n",
      "1000 times avg: 0.242\n",
      "1000 times avg: 0.286\n",
      "1000 times avg: 0.317\n",
      "1000 times avg: 0.269\n",
      "1000 times avg: 0.308\n",
      "1000 times avg: 0.377\n",
      "1000 times avg: 0.326\n",
      "1000 times avg: 0.239\n",
      "1000 times avg: 0.302\n",
      "1000 times avg: 0.299\n",
      "1000 times avg: 0.293\n",
      "1000 times avg: 0.344\n",
      "1000 times avg: 0.258\n",
      "1000 times avg: 0.293\n",
      "1000 times avg: 0.301\n",
      "1000 times avg: 0.356\n",
      "1000 times avg: 0.285\n",
      "1000 times avg: 0.313\n",
      "1000 times avg: 0.324\n",
      "1000 times avg: 0.341\n",
      "1000 times avg: 0.356\n",
      "1000 times avg: 0.256\n",
      "1000 times avg: 0.313\n",
      "1000 times avg: 0.349\n",
      "1000 times avg: 0.364\n",
      "1000 times avg: 0.279\n",
      "1000 times avg: 0.382\n",
      "1000 times avg: 0.334\n",
      "1000 times avg: 0.303\n",
      "1000 times avg: 0.37\n",
      "1000 times avg: 0.205\n",
      "1000 times avg: 0.185\n",
      "1000 times avg: 0.308\n",
      "1000 times avg: 0.319\n",
      "1000 times avg: 0.299\n",
      "0.3029\n"
     ]
    }
   ],
   "source": [
    "# for seed in range(100):\n",
    "seed = 123\n",
    "env.seed(seed)\n",
    "tot = 0\n",
    "tmp = 0\n",
    "for i in range(100000):\n",
    "    done = False\n",
    "    state = env.reset()\n",
    "    steps = 0\n",
    "    # print(state.reshape((-1, 5)))\n",
    "    while not done:\n",
    "        steps += 1\n",
    "        ten_s = torch.as_tensor(state, dtype=torch.float32).unsqueeze(0)\n",
    "        ten_a = age.act(ten_s)\n",
    "        # print(ten_a)\n",
    "        ten_a = ten_a.argmax(dim=1)\n",
    "        state, reward, done, _ = env.step(ten_a[0].numpy())  # different\n",
    "        # print(state[-5:])\n",
    "        # print(reward)\n",
    "    tot += reward\n",
    "    tmp += reward\n",
    "    if i % 1000 == 0:\n",
    "        print(f'1000 times avg: {tmp/1000}')\n",
    "        tmp = 0\n",
    "    # env.episode_data[:300].to_csv('tmp.csv')\n",
    "    # break\n",
    "    # print(steps)\n",
    "print(tot/100000)"
   ]
  },
  {
   "cell_type": "code",
   "execution_count": 21,
   "metadata": {},
   "outputs": [
    {
     "name": "stdout",
     "output_type": "stream",
     "text": [
      "0.193\n",
      "-0.09\n",
      "-0.106\n"
     ]
    },
    {
     "ename": "KeyboardInterrupt",
     "evalue": "",
     "output_type": "error",
     "traceback": [
      "\u001b[0;31m---------------------------------------------------------------------------\u001b[0m",
      "\u001b[0;31mKeyboardInterrupt\u001b[0m                         Traceback (most recent call last)",
      "\u001b[0;32m/tmp/ipykernel_27756/1065460738.py\u001b[0m in \u001b[0;36m<module>\u001b[0;34m\u001b[0m\n\u001b[1;32m      4\u001b[0m     \u001b[0;32mfor\u001b[0m \u001b[0mi\u001b[0m \u001b[0;32min\u001b[0m \u001b[0mrange\u001b[0m\u001b[0;34m(\u001b[0m\u001b[0;36m1000\u001b[0m\u001b[0;34m)\u001b[0m\u001b[0;34m:\u001b[0m\u001b[0;34m\u001b[0m\u001b[0;34m\u001b[0m\u001b[0m\n\u001b[1;32m      5\u001b[0m         \u001b[0mdone\u001b[0m \u001b[0;34m=\u001b[0m \u001b[0;32mFalse\u001b[0m\u001b[0;34m\u001b[0m\u001b[0;34m\u001b[0m\u001b[0m\n\u001b[0;32m----> 6\u001b[0;31m         \u001b[0mstate\u001b[0m \u001b[0;34m=\u001b[0m \u001b[0menv\u001b[0m\u001b[0;34m.\u001b[0m\u001b[0mreset\u001b[0m\u001b[0;34m(\u001b[0m\u001b[0;34m)\u001b[0m\u001b[0;34m\u001b[0m\u001b[0;34m\u001b[0m\u001b[0m\n\u001b[0m\u001b[1;32m      7\u001b[0m         \u001b[0maction\u001b[0m \u001b[0;34m=\u001b[0m \u001b[0;36m0\u001b[0m\u001b[0;34m\u001b[0m\u001b[0;34m\u001b[0m\u001b[0m\n\u001b[1;32m      8\u001b[0m         \u001b[0;32mwhile\u001b[0m \u001b[0;32mnot\u001b[0m \u001b[0mdone\u001b[0m\u001b[0;34m:\u001b[0m\u001b[0;34m\u001b[0m\u001b[0;34m\u001b[0m\u001b[0m\n",
      "\u001b[0;32m~/trader/env.py\u001b[0m in \u001b[0;36mreset\u001b[0;34m(self)\u001b[0m\n\u001b[1;32m     89\u001b[0m \u001b[0;34m\u001b[0m\u001b[0m\n\u001b[1;32m     90\u001b[0m         \u001b[0mself\u001b[0m\u001b[0;34m.\u001b[0m\u001b[0mepisode_data\u001b[0m\u001b[0;34m.\u001b[0m\u001b[0mloc\u001b[0m\u001b[0;34m[\u001b[0m\u001b[0;34m:\u001b[0m\u001b[0;34m,\u001b[0m\u001b[0;34m'bid'\u001b[0m\u001b[0;34m]\u001b[0m \u001b[0;34m=\u001b[0m \u001b[0mself\u001b[0m\u001b[0;34m.\u001b[0m\u001b[0mepisode_data\u001b[0m\u001b[0;34m[\u001b[0m\u001b[0;34m'bid'\u001b[0m\u001b[0;34m]\u001b[0m\u001b[0;34m-\u001b[0m\u001b[0mself\u001b[0m\u001b[0;34m.\u001b[0m\u001b[0mtarget_price\u001b[0m\u001b[0;34m\u001b[0m\u001b[0;34m\u001b[0m\u001b[0m\n\u001b[0;32m---> 91\u001b[0;31m         \u001b[0mself\u001b[0m\u001b[0;34m.\u001b[0m\u001b[0mepisode_data\u001b[0m\u001b[0;34m.\u001b[0m\u001b[0mloc\u001b[0m\u001b[0;34m[\u001b[0m\u001b[0;34m:\u001b[0m\u001b[0;34m,\u001b[0m\u001b[0;34m'ask'\u001b[0m\u001b[0;34m]\u001b[0m \u001b[0;34m=\u001b[0m \u001b[0mself\u001b[0m\u001b[0;34m.\u001b[0m\u001b[0mepisode_data\u001b[0m\u001b[0;34m[\u001b[0m\u001b[0;34m'ask'\u001b[0m\u001b[0;34m]\u001b[0m\u001b[0;34m-\u001b[0m\u001b[0mself\u001b[0m\u001b[0;34m.\u001b[0m\u001b[0mtarget_price\u001b[0m\u001b[0;34m\u001b[0m\u001b[0;34m\u001b[0m\u001b[0m\n\u001b[0m\u001b[1;32m     92\u001b[0m \u001b[0;34m\u001b[0m\u001b[0m\n\u001b[1;32m     93\u001b[0m         \u001b[0mself\u001b[0m\u001b[0;34m.\u001b[0m\u001b[0mtick_state\u001b[0m \u001b[0;34m=\u001b[0m \u001b[0mself\u001b[0m\u001b[0;34m.\u001b[0m\u001b[0mepisode_data\u001b[0m\u001b[0;34m.\u001b[0m\u001b[0miloc\u001b[0m\u001b[0;34m[\u001b[0m\u001b[0mself\u001b[0m\u001b[0;34m.\u001b[0m\u001b[0mback_length\u001b[0m\u001b[0;34m-\u001b[0m\u001b[0;36m1\u001b[0m\u001b[0;34m]\u001b[0m\u001b[0;34m.\u001b[0m\u001b[0mvalues\u001b[0m\u001b[0;34m\u001b[0m\u001b[0;34m\u001b[0m\u001b[0m\n",
      "\u001b[0;32m~/miniconda3/lib/python3.9/site-packages/pandas/core/ops/common.py\u001b[0m in \u001b[0;36mnew_method\u001b[0;34m(self, other)\u001b[0m\n\u001b[1;32m     67\u001b[0m         \u001b[0mother\u001b[0m \u001b[0;34m=\u001b[0m \u001b[0mitem_from_zerodim\u001b[0m\u001b[0;34m(\u001b[0m\u001b[0mother\u001b[0m\u001b[0;34m)\u001b[0m\u001b[0;34m\u001b[0m\u001b[0;34m\u001b[0m\u001b[0m\n\u001b[1;32m     68\u001b[0m \u001b[0;34m\u001b[0m\u001b[0m\n\u001b[0;32m---> 69\u001b[0;31m         \u001b[0;32mreturn\u001b[0m \u001b[0mmethod\u001b[0m\u001b[0;34m(\u001b[0m\u001b[0mself\u001b[0m\u001b[0;34m,\u001b[0m \u001b[0mother\u001b[0m\u001b[0;34m)\u001b[0m\u001b[0;34m\u001b[0m\u001b[0;34m\u001b[0m\u001b[0m\n\u001b[0m\u001b[1;32m     70\u001b[0m \u001b[0;34m\u001b[0m\u001b[0m\n\u001b[1;32m     71\u001b[0m     \u001b[0;32mreturn\u001b[0m \u001b[0mnew_method\u001b[0m\u001b[0;34m\u001b[0m\u001b[0;34m\u001b[0m\u001b[0m\n",
      "\u001b[0;32m~/miniconda3/lib/python3.9/site-packages/pandas/core/arraylike.py\u001b[0m in \u001b[0;36m__sub__\u001b[0;34m(self, other)\u001b[0m\n\u001b[1;32m     98\u001b[0m     \u001b[0;34m@\u001b[0m\u001b[0munpack_zerodim_and_defer\u001b[0m\u001b[0;34m(\u001b[0m\u001b[0;34m\"__sub__\"\u001b[0m\u001b[0;34m)\u001b[0m\u001b[0;34m\u001b[0m\u001b[0;34m\u001b[0m\u001b[0m\n\u001b[1;32m     99\u001b[0m     \u001b[0;32mdef\u001b[0m \u001b[0m__sub__\u001b[0m\u001b[0;34m(\u001b[0m\u001b[0mself\u001b[0m\u001b[0;34m,\u001b[0m \u001b[0mother\u001b[0m\u001b[0;34m)\u001b[0m\u001b[0;34m:\u001b[0m\u001b[0;34m\u001b[0m\u001b[0;34m\u001b[0m\u001b[0m\n\u001b[0;32m--> 100\u001b[0;31m         \u001b[0;32mreturn\u001b[0m \u001b[0mself\u001b[0m\u001b[0;34m.\u001b[0m\u001b[0m_arith_method\u001b[0m\u001b[0;34m(\u001b[0m\u001b[0mother\u001b[0m\u001b[0;34m,\u001b[0m \u001b[0moperator\u001b[0m\u001b[0;34m.\u001b[0m\u001b[0msub\u001b[0m\u001b[0;34m)\u001b[0m\u001b[0;34m\u001b[0m\u001b[0;34m\u001b[0m\u001b[0m\n\u001b[0m\u001b[1;32m    101\u001b[0m \u001b[0;34m\u001b[0m\u001b[0m\n\u001b[1;32m    102\u001b[0m     \u001b[0;34m@\u001b[0m\u001b[0munpack_zerodim_and_defer\u001b[0m\u001b[0;34m(\u001b[0m\u001b[0;34m\"__rsub__\"\u001b[0m\u001b[0;34m)\u001b[0m\u001b[0;34m\u001b[0m\u001b[0;34m\u001b[0m\u001b[0m\n",
      "\u001b[0;32m~/miniconda3/lib/python3.9/site-packages/pandas/core/series.py\u001b[0m in \u001b[0;36m_arith_method\u001b[0;34m(self, other, op)\u001b[0m\n\u001b[1;32m   5526\u001b[0m             \u001b[0mresult\u001b[0m \u001b[0;34m=\u001b[0m \u001b[0mops\u001b[0m\u001b[0;34m.\u001b[0m\u001b[0marithmetic_op\u001b[0m\u001b[0;34m(\u001b[0m\u001b[0mlvalues\u001b[0m\u001b[0;34m,\u001b[0m \u001b[0mrvalues\u001b[0m\u001b[0;34m,\u001b[0m \u001b[0mop\u001b[0m\u001b[0;34m)\u001b[0m\u001b[0;34m\u001b[0m\u001b[0;34m\u001b[0m\u001b[0m\n\u001b[1;32m   5527\u001b[0m \u001b[0;34m\u001b[0m\u001b[0m\n\u001b[0;32m-> 5528\u001b[0;31m         \u001b[0;32mreturn\u001b[0m \u001b[0mself\u001b[0m\u001b[0;34m.\u001b[0m\u001b[0m_construct_result\u001b[0m\u001b[0;34m(\u001b[0m\u001b[0mresult\u001b[0m\u001b[0;34m,\u001b[0m \u001b[0mname\u001b[0m\u001b[0;34m=\u001b[0m\u001b[0mres_name\u001b[0m\u001b[0;34m)\u001b[0m\u001b[0;34m\u001b[0m\u001b[0;34m\u001b[0m\u001b[0m\n\u001b[0m\u001b[1;32m   5529\u001b[0m \u001b[0;34m\u001b[0m\u001b[0m\n\u001b[1;32m   5530\u001b[0m \u001b[0;34m\u001b[0m\u001b[0m\n",
      "\u001b[0;32m~/miniconda3/lib/python3.9/site-packages/pandas/core/series.py\u001b[0m in \u001b[0;36m_construct_result\u001b[0;34m(self, result, name)\u001b[0m\n\u001b[1;32m   2943\u001b[0m         \u001b[0;31m# We do not pass dtype to ensure that the Series constructor\u001b[0m\u001b[0;34m\u001b[0m\u001b[0;34m\u001b[0m\u001b[0m\n\u001b[1;32m   2944\u001b[0m         \u001b[0;31m#  does inference in the case where `result` has object-dtype.\u001b[0m\u001b[0;34m\u001b[0m\u001b[0;34m\u001b[0m\u001b[0m\n\u001b[0;32m-> 2945\u001b[0;31m         \u001b[0mout\u001b[0m \u001b[0;34m=\u001b[0m \u001b[0mself\u001b[0m\u001b[0;34m.\u001b[0m\u001b[0m_constructor\u001b[0m\u001b[0;34m(\u001b[0m\u001b[0mresult\u001b[0m\u001b[0;34m,\u001b[0m \u001b[0mindex\u001b[0m\u001b[0;34m=\u001b[0m\u001b[0mself\u001b[0m\u001b[0;34m.\u001b[0m\u001b[0mindex\u001b[0m\u001b[0;34m)\u001b[0m\u001b[0;34m\u001b[0m\u001b[0;34m\u001b[0m\u001b[0m\n\u001b[0m\u001b[1;32m   2946\u001b[0m         \u001b[0mout\u001b[0m \u001b[0;34m=\u001b[0m \u001b[0mout\u001b[0m\u001b[0;34m.\u001b[0m\u001b[0m__finalize__\u001b[0m\u001b[0;34m(\u001b[0m\u001b[0mself\u001b[0m\u001b[0;34m)\u001b[0m\u001b[0;34m\u001b[0m\u001b[0;34m\u001b[0m\u001b[0m\n\u001b[1;32m   2947\u001b[0m \u001b[0;34m\u001b[0m\u001b[0m\n",
      "\u001b[0;32m~/miniconda3/lib/python3.9/site-packages/pandas/core/series.py\u001b[0m in \u001b[0;36m__init__\u001b[0;34m(self, data, index, dtype, name, copy, fastpath)\u001b[0m\n\u001b[1;32m    431\u001b[0m \u001b[0;34m\u001b[0m\u001b[0m\n\u001b[1;32m    432\u001b[0m             \u001b[0;31m# create/copy the manager\u001b[0m\u001b[0;34m\u001b[0m\u001b[0;34m\u001b[0m\u001b[0m\n\u001b[0;32m--> 433\u001b[0;31m             \u001b[0;32mif\u001b[0m \u001b[0misinstance\u001b[0m\u001b[0;34m(\u001b[0m\u001b[0mdata\u001b[0m\u001b[0;34m,\u001b[0m \u001b[0;34m(\u001b[0m\u001b[0mSingleBlockManager\u001b[0m\u001b[0;34m,\u001b[0m \u001b[0mSingleArrayManager\u001b[0m\u001b[0;34m)\u001b[0m\u001b[0;34m)\u001b[0m\u001b[0;34m:\u001b[0m\u001b[0;34m\u001b[0m\u001b[0;34m\u001b[0m\u001b[0m\n\u001b[0m\u001b[1;32m    434\u001b[0m                 \u001b[0;32mif\u001b[0m \u001b[0mdtype\u001b[0m \u001b[0;32mis\u001b[0m \u001b[0;32mnot\u001b[0m \u001b[0;32mNone\u001b[0m\u001b[0;34m:\u001b[0m\u001b[0;34m\u001b[0m\u001b[0;34m\u001b[0m\u001b[0m\n\u001b[1;32m    435\u001b[0m                     \u001b[0mdata\u001b[0m \u001b[0;34m=\u001b[0m \u001b[0mdata\u001b[0m\u001b[0;34m.\u001b[0m\u001b[0mastype\u001b[0m\u001b[0;34m(\u001b[0m\u001b[0mdtype\u001b[0m\u001b[0;34m=\u001b[0m\u001b[0mdtype\u001b[0m\u001b[0;34m,\u001b[0m \u001b[0merrors\u001b[0m\u001b[0;34m=\u001b[0m\u001b[0;34m\"ignore\"\u001b[0m\u001b[0;34m,\u001b[0m \u001b[0mcopy\u001b[0m\u001b[0;34m=\u001b[0m\u001b[0mcopy\u001b[0m\u001b[0;34m)\u001b[0m\u001b[0;34m\u001b[0m\u001b[0;34m\u001b[0m\u001b[0m\n",
      "\u001b[0;31mKeyboardInterrupt\u001b[0m: "
     ]
    }
   ],
   "source": [
    "for seed in range(100):\n",
    "    tot = 0\n",
    "    env.seed(seed)\n",
    "    for i in range(1000):\n",
    "        done = False\n",
    "        state = env.reset()\n",
    "        action = 0\n",
    "        while not done:\n",
    "            state, reward, done, _ = env.step(action)\n",
    "            if state[0] == 1:\n",
    "                action = 1\n",
    "        tot += reward\n",
    "    print(tot/1000)"
   ]
  },
  {
   "cell_type": "code",
   "execution_count": 38,
   "metadata": {},
   "outputs": [
    {
     "name": "stdout",
     "output_type": "stream",
     "text": [
      "-0.046\n"
     ]
    }
   ],
   "source": [
    "tot = 0\n",
    "env.seed(1)\n",
    "for i in range(1000):\n",
    "    done = False\n",
    "    state = env.reset()\n",
    "    action = 1\n",
    "    while not done:\n",
    "        state, reward, done, _ = env.step(action)\n",
    "    tot += reward\n",
    "print(tot/1000)"
   ]
  },
  {
   "cell_type": "code",
   "execution_count": 41,
   "metadata": {},
   "outputs": [
    {
     "name": "stdout",
     "output_type": "stream",
     "text": [
      "-0.0302\n"
     ]
    }
   ],
   "source": [
    "tot = 0\n",
    "env.seed(1)\n",
    "for i in range(10000):\n",
    "    done = False\n",
    "    state = env.reset()\n",
    "    while not done:\n",
    "        action = env.action_space.sample()\n",
    "        state, reward, done, _ = env.step(action)\n",
    "    tot += reward\n",
    "print(tot/10000)"
   ]
  },
  {
   "cell_type": "code",
   "execution_count": 28,
   "metadata": {},
   "outputs": [],
   "source": [
    "tmp = np.load(r'executioner_D3QN_0\\replay_0.npz')"
   ]
  },
  {
   "cell_type": "code",
   "execution_count": 40,
   "metadata": {},
   "outputs": [],
   "source": [
    "import matplotlib.pyplot as plt\n",
    "import matplotlib\n",
    "matplotlib.use('tkagg')\n",
    "plt.plot(data['bid'])\n",
    "plt.show()"
   ]
  },
  {
   "cell_type": "code",
   "execution_count": 35,
   "metadata": {},
   "outputs": [
    {
     "data": {
      "text/plain": [
       "array([[ 0.  ,  0.  ,  0.  ],\n",
       "       [ 0.  ,  0.  ,  0.  ],\n",
       "       [ 0.  ,  0.  ,  0.  ],\n",
       "       ...,\n",
       "       [ 0.  ,  0.99,  2.  ],\n",
       "       [ 0.  ,  0.99,  2.  ],\n",
       "       [-0.  ,  0.  ,  2.  ]], dtype=float16)"
      ]
     },
     "execution_count": 35,
     "metadata": {},
     "output_type": "execute_result"
    }
   ],
   "source": [
    "tmp['buf_other']"
   ]
  },
  {
   "cell_type": "code",
   "execution_count": 5,
   "metadata": {},
   "outputs": [],
   "source": [
    "a = [(1,2,3),(3,4,5),(5,6,5),(7,8,5)]\n",
    "b = list(map(list, zip(*a)))"
   ]
  },
  {
   "cell_type": "code",
   "execution_count": 7,
   "metadata": {},
   "outputs": [
    {
     "data": {
      "text/plain": [
       "[[1, 3, 5, 7], [2, 4, 6, 8], [3, 5, 5, 5]]"
      ]
     },
     "execution_count": 7,
     "metadata": {},
     "output_type": "execute_result"
    }
   ],
   "source": [
    "import torch\n",
    "b"
   ]
  }
 ],
 "metadata": {
  "interpreter": {
   "hash": "fd743178cd687d8631a9d8ff4c93b928146afe1f13697893f00fa7b20727ad6b"
  },
  "kernelspec": {
   "display_name": "Python 3.9.7 ('pytorch')",
   "language": "python",
   "name": "python3"
  },
  "language_info": {
   "codemirror_mode": {
    "name": "ipython",
    "version": 3
   },
   "file_extension": ".py",
   "mimetype": "text/x-python",
   "name": "python",
   "nbconvert_exporter": "python",
   "pygments_lexer": "ipython3",
   "version": "3.9.7"
  },
  "orig_nbformat": 4
 },
 "nbformat": 4,
 "nbformat_minor": 2
}
