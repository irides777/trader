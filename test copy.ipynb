{
 "cells": [
  {
   "cell_type": "code",
   "execution_count": 1,
   "metadata": {},
   "outputs": [],
   "source": [
    "import numpy as np\n",
    "import pandas as pd"
   ]
  },
  {
   "cell_type": "code",
   "execution_count": 2,
   "metadata": {},
   "outputs": [
    {
     "name": "stderr",
     "output_type": "stream",
     "text": [
      "\n"
     ]
    }
   ],
   "source": [
    "from env import *"
   ]
  },
  {
   "cell_type": "code",
   "execution_count": 10,
   "metadata": {},
   "outputs": [],
   "source": [
    "import numpy as np\n",
    "import gym\n",
    "from gym import spaces\n",
    "\n",
    "class BaseMarket(gym.Env):\n",
    "    '''\n",
    "    基础环境\n",
    "    '''\n",
    "\n",
    "    def __init__(self, datas,  back_length, time_limit):\n",
    "        \n",
    "        self.np_random = np.random.RandomState()\n",
    "        self.action_space = spaces.Discrete(2)\n",
    "        self.observation_space = spaces.Box(\n",
    "            low=-np.inf, high=np.inf, shape=((back_length+1)*5,)\n",
    "        )\n",
    "\n",
    "        self.datas = []\n",
    "        for data in datas:\n",
    "            self.datas.append(data[['bid','ask','bidv','askv','volume']].copy()) #\n",
    "        # self.data.loc[:,'tur'] = self.data['tur']/self.data['volume']\n",
    "\n",
    "        self.back_length = back_length\n",
    "        self.time_limit = time_limit\n",
    "\n",
    "        self.is_eval = False\n",
    "        \n",
    "\n",
    "    def _update(self):\n",
    "        '''\n",
    "        更新tick数据\n",
    "        '''\n",
    "        # self.time = self.time+1\n",
    "        # self.tick_state = self.episode_data.iloc[self.time+self.back_length-1].values\n",
    "        # self.bid = self.tick_state[0]\n",
    "        # self.ask = self.tick_state[1]\n",
    "        # self.state = np.vstack([\n",
    "        #     np.array([self.time_limit-self.time,0,0,0,0]),\n",
    "        #     self.episode_data.iloc[self.time:self.time+self.back_length].values\n",
    "        # ]).reshape(-1)\n",
    "        pass\n",
    "\n",
    "\n",
    "\n",
    "    def step(self, action):\n",
    "        '''\n",
    "        环境接收到智能体的操作信号后，首先更新下单价格与下单仓位，之后更新tick数据，判断是否成交，返回相应状态和奖励\n",
    "        0:在bid0价格上等待 1:以ask价格成交\n",
    "        '''\n",
    "        done = False\n",
    "        reward = 0\n",
    "        if action == 1:\n",
    "            reward = -self.ask+1\n",
    "            done = True\n",
    "        # elif action == 3:\n",
    "        #     self.order_price = np.inf\n",
    "        #     self.order_position = 1\n",
    "        \n",
    "        self._update()\n",
    "\n",
    "        if action == 0 and self.bid < 0:\n",
    "            reward = 1\n",
    "            done = True\n",
    "        elif action == 0 and self.time >= self.time_limit:\n",
    "            reward = -self.ask+1\n",
    "            done = True\n",
    "        # elif action == 2:\n",
    "        #     reward = -self.ask+1\n",
    "        #     done = True\n",
    "        # elif self.time >= self.time_limit:\n",
    "        #     reward = -self.ask+1\n",
    "        #     done = True\n",
    "        # else:\n",
    "        #     reward = -0.03\n",
    "        #     done = False\n",
    "\n",
    "        return self.state, reward, done, {}\n",
    "\n",
    "    def reset(self):\n",
    "\n",
    "        # self.time = 0\n",
    "        \n",
    "        # ub = int(len(self.datas)*0.99)\n",
    "\n",
    "        # if not self.is_eval: \n",
    "        #     data = self.datas[self.np_random.randint(low=0,high=ub)]\n",
    "        # else:\n",
    "        #     data = self.datas[self.np_random.randint(low=ub,high=len(self.datas))]\n",
    "\n",
    "        # begin_time = self.np_random.randint(\n",
    "        #     low=self.back_length, \n",
    "        #     high=data.shape[0]-self.time_limit\n",
    "        # )\n",
    "        # end_time = begin_time+self.time_limit\n",
    "\n",
    "        # self.episode_data = data.iloc[begin_time-self.back_length+1:end_time+1].copy()\n",
    "        # self.target_price = self.episode_data.iloc[self.back_length-1,0]\n",
    "        \n",
    "        # self.episode_data.loc[:,'bid'] = self.episode_data['bid']-self.target_price\n",
    "        # self.episode_data.loc[:,'ask'] = self.episode_data['ask']-self.target_price\n",
    "\n",
    "        # self.tick_state = self.episode_data.iloc[self.back_length-1].values\n",
    "        # self.bid = self.tick_state[0]\n",
    "        # self.ask = self.tick_state[1]\n",
    "        # self.state = np.vstack([\n",
    "        #     np.array([self.time_limit,0,0,0,0]),\n",
    "        #     self.episode_data.iloc[:self.back_length].values\n",
    "        # ]).reshape(-1)\n",
    "        self.state = 0\n",
    "        return self.state\n",
    "\n",
    "    def seed(self, seed=None):\n",
    "        self.np_random = np.random.RandomState(seed)\n",
    "        self.is_eval=True\n"
   ]
  },
  {
   "cell_type": "code",
   "execution_count": 3,
   "metadata": {},
   "outputs": [],
   "source": [
    "def preprocess(tickpath, filename):\n",
    "    tickdf = pd.read_csv(os.path.join(tickpath, filename),names=['date','time','ms','lastprice','volume','bid','bidv','ask','askv','opi','tur','contract'])\n",
    "    tickdf['datestr'] = tickdf['date'].apply(lambda x: '%s-%s-%s'%(str(x)[:4], str(x)[4:6], str(x)[6:8]))\n",
    "    tickdf['timestr'] = tickdf['time'].apply(lambda x: '%s:%s:%s'%(format(x, '06d')[:-4], format(x, '06d')[-4:-2], format(x, '06d')[-2:]))\n",
    "    tickdf['timestr'] = tickdf['timestr']+'.'+tickdf['ms'].apply(lambda x: format(x, '03d'))\n",
    "    tickdf = tickdf.set_index(pd.to_datetime(tickdf['datestr']+' '+tickdf['timestr']))\n",
    "    tickdf.index.name = 'datetime'\n",
    "    tickdf.loc[tickdf['bid']<0.9*tickdf['lastprice'], 'bid'] = np.nan\n",
    "    tickdf.loc[tickdf['ask']<0.9*tickdf['lastprice'], 'ask'] = np.nan\n",
    "    tickdf[['bid','ask']] = tickdf[['bid','ask']].fillna(method='ffill').fillna(tickdf.iloc[0]['lastprice'])\n",
    "    tickdf['midprice'] = (tickdf['ask']+tickdf['bid'])/2.0\n",
    "\n",
    "    tdata = tickdf[['bid','ask','bidv','askv','volume']]\n",
    "    std = tdata.iloc[0,0]\n",
    "    tdata.loc[:,'bid'] = tdata['bid']-std\n",
    "    tdata.loc[:,'ask'] = tdata['ask']-std\n",
    "\n",
    "    def norm(x):\n",
    "        return (x-x.mean())/x.std()\n",
    "\n",
    "    tdata.loc[:,'askv'] = norm(tdata.askv)\n",
    "    tdata.loc[:,'bidv'] = norm(tdata.bidv)\n",
    "    tdata.loc[:,'volume'] = norm(tdata.volume)\n",
    "    return tdata"
   ]
  },
  {
   "cell_type": "code",
   "execution_count": 4,
   "metadata": {},
   "outputs": [],
   "source": [
    "import os\n",
    "cwd = '/Data/database/data_zltick/rb'\n",
    "datas = []\n",
    "for _,__, files in os.walk(cwd):\n",
    "    for file in files:\n",
    "        if int(file[:4])<2020:\n",
    "            continue\n",
    "        data = preprocess(cwd, file)\n",
    "        datas.append(data)"
   ]
  },
  {
   "cell_type": "code",
   "execution_count": 5,
   "metadata": {},
   "outputs": [],
   "source": [
    "# import matplotlib.pyplot as plt\n",
    "# fig, ax1 = plt.subplots()\n",
    "\n",
    "# ax2 = ax1.twinx()\n",
    "# ax1.plot(tdata.bid[500:800])\n",
    "# ax2.plot(tdata.volume[500:800], color='red')\n",
    "\n",
    "# plt.show()"
   ]
  },
  {
   "cell_type": "code",
   "execution_count": 6,
   "metadata": {},
   "outputs": [],
   "source": [
    "env = BaseMarket(datas=datas,back_length=100,time_limit=600)"
   ]
  },
  {
   "cell_type": "code",
   "execution_count": 11,
   "metadata": {},
   "outputs": [
    {
     "ename": "AttributeError",
     "evalue": "'BaseMarket' object has no attribute 'time'",
     "output_type": "error",
     "traceback": [
      "\u001b[0;31m---------------------------------------------------------------------------\u001b[0m",
      "\u001b[0;31mAttributeError\u001b[0m                            Traceback (most recent call last)",
      "\u001b[1;32m/home/hongyuan/trader/test copy.ipynb Cell 8'\u001b[0m in \u001b[0;36m<module>\u001b[0;34m\u001b[0m\n\u001b[1;32m      <a href='vscode-notebook-cell://ssh-remote%2B172.16.20.251/home/hongyuan/trader/test%20copy.ipynb#ch0000006vscode-remote?line=6'>7</a>\u001b[0m action \u001b[39m=\u001b[39m \u001b[39m0\u001b[39m\n\u001b[1;32m      <a href='vscode-notebook-cell://ssh-remote%2B172.16.20.251/home/hongyuan/trader/test%20copy.ipynb#ch0000006vscode-remote?line=7'>8</a>\u001b[0m \u001b[39mwhile\u001b[39;00m \u001b[39mnot\u001b[39;00m done:\n\u001b[0;32m----> <a href='vscode-notebook-cell://ssh-remote%2B172.16.20.251/home/hongyuan/trader/test%20copy.ipynb#ch0000006vscode-remote?line=8'>9</a>\u001b[0m     state, reward, done, _ \u001b[39m=\u001b[39m env\u001b[39m.\u001b[39;49mstep(action)\n\u001b[1;32m     <a href='vscode-notebook-cell://ssh-remote%2B172.16.20.251/home/hongyuan/trader/test%20copy.ipynb#ch0000006vscode-remote?line=9'>10</a>\u001b[0m     \u001b[39mif\u001b[39;00m state[\u001b[39m0\u001b[39m] \u001b[39m==\u001b[39m \u001b[39m1\u001b[39m:\n\u001b[1;32m     <a href='vscode-notebook-cell://ssh-remote%2B172.16.20.251/home/hongyuan/trader/test%20copy.ipynb#ch0000006vscode-remote?line=10'>11</a>\u001b[0m         action \u001b[39m=\u001b[39m \u001b[39m1\u001b[39m\n",
      "\u001b[1;32m/home/hongyuan/trader/test copy.ipynb Cell 3'\u001b[0m in \u001b[0;36mBaseMarket.step\u001b[0;34m(self, action)\u001b[0m\n\u001b[1;32m     <a href='vscode-notebook-cell://ssh-remote%2B172.16.20.251/home/hongyuan/trader/test%20copy.ipynb#ch0000024vscode-remote?line=52'>53</a>\u001b[0m     done \u001b[39m=\u001b[39m \u001b[39mTrue\u001b[39;00m\n\u001b[1;32m     <a href='vscode-notebook-cell://ssh-remote%2B172.16.20.251/home/hongyuan/trader/test%20copy.ipynb#ch0000024vscode-remote?line=53'>54</a>\u001b[0m \u001b[39m# elif action == 3:\u001b[39;00m\n\u001b[1;32m     <a href='vscode-notebook-cell://ssh-remote%2B172.16.20.251/home/hongyuan/trader/test%20copy.ipynb#ch0000024vscode-remote?line=54'>55</a>\u001b[0m \u001b[39m#     self.order_price = np.inf\u001b[39;00m\n\u001b[1;32m     <a href='vscode-notebook-cell://ssh-remote%2B172.16.20.251/home/hongyuan/trader/test%20copy.ipynb#ch0000024vscode-remote?line=55'>56</a>\u001b[0m \u001b[39m#     self.order_position = 1\u001b[39;00m\n\u001b[0;32m---> <a href='vscode-notebook-cell://ssh-remote%2B172.16.20.251/home/hongyuan/trader/test%20copy.ipynb#ch0000024vscode-remote?line=57'>58</a>\u001b[0m \u001b[39mself\u001b[39;49m\u001b[39m.\u001b[39;49m_update()\n\u001b[1;32m     <a href='vscode-notebook-cell://ssh-remote%2B172.16.20.251/home/hongyuan/trader/test%20copy.ipynb#ch0000024vscode-remote?line=59'>60</a>\u001b[0m \u001b[39mif\u001b[39;00m action \u001b[39m==\u001b[39m \u001b[39m0\u001b[39m \u001b[39mand\u001b[39;00m \u001b[39mself\u001b[39m\u001b[39m.\u001b[39mbid \u001b[39m<\u001b[39m \u001b[39m0\u001b[39m:\n\u001b[1;32m     <a href='vscode-notebook-cell://ssh-remote%2B172.16.20.251/home/hongyuan/trader/test%20copy.ipynb#ch0000024vscode-remote?line=60'>61</a>\u001b[0m     reward \u001b[39m=\u001b[39m \u001b[39m1\u001b[39m\n",
      "\u001b[1;32m/home/hongyuan/trader/test copy.ipynb Cell 3'\u001b[0m in \u001b[0;36mBaseMarket._update\u001b[0;34m(self)\u001b[0m\n\u001b[1;32m     <a href='vscode-notebook-cell://ssh-remote%2B172.16.20.251/home/hongyuan/trader/test%20copy.ipynb#ch0000024vscode-remote?line=28'>29</a>\u001b[0m \u001b[39mdef\u001b[39;00m \u001b[39m_update\u001b[39m(\u001b[39mself\u001b[39m):\n\u001b[1;32m     <a href='vscode-notebook-cell://ssh-remote%2B172.16.20.251/home/hongyuan/trader/test%20copy.ipynb#ch0000024vscode-remote?line=29'>30</a>\u001b[0m     \u001b[39m'''\u001b[39;00m\n\u001b[1;32m     <a href='vscode-notebook-cell://ssh-remote%2B172.16.20.251/home/hongyuan/trader/test%20copy.ipynb#ch0000024vscode-remote?line=30'>31</a>\u001b[0m \u001b[39m    更新tick数据\u001b[39;00m\n\u001b[1;32m     <a href='vscode-notebook-cell://ssh-remote%2B172.16.20.251/home/hongyuan/trader/test%20copy.ipynb#ch0000024vscode-remote?line=31'>32</a>\u001b[0m \u001b[39m    '''\u001b[39;00m\n\u001b[0;32m---> <a href='vscode-notebook-cell://ssh-remote%2B172.16.20.251/home/hongyuan/trader/test%20copy.ipynb#ch0000024vscode-remote?line=32'>33</a>\u001b[0m     \u001b[39mself\u001b[39m\u001b[39m.\u001b[39mtime \u001b[39m=\u001b[39m \u001b[39mself\u001b[39;49m\u001b[39m.\u001b[39;49mtime\u001b[39m+\u001b[39m\u001b[39m1\u001b[39m\n\u001b[1;32m     <a href='vscode-notebook-cell://ssh-remote%2B172.16.20.251/home/hongyuan/trader/test%20copy.ipynb#ch0000024vscode-remote?line=33'>34</a>\u001b[0m     \u001b[39mself\u001b[39m\u001b[39m.\u001b[39mtick_state \u001b[39m=\u001b[39m \u001b[39mself\u001b[39m\u001b[39m.\u001b[39mepisode_data\u001b[39m.\u001b[39miloc[\u001b[39mself\u001b[39m\u001b[39m.\u001b[39mtime\u001b[39m+\u001b[39m\u001b[39mself\u001b[39m\u001b[39m.\u001b[39mback_length\u001b[39m-\u001b[39m\u001b[39m1\u001b[39m]\u001b[39m.\u001b[39mvalues\n\u001b[1;32m     <a href='vscode-notebook-cell://ssh-remote%2B172.16.20.251/home/hongyuan/trader/test%20copy.ipynb#ch0000024vscode-remote?line=34'>35</a>\u001b[0m     \u001b[39mself\u001b[39m\u001b[39m.\u001b[39mbid \u001b[39m=\u001b[39m \u001b[39mself\u001b[39m\u001b[39m.\u001b[39mtick_state[\u001b[39m0\u001b[39m]\n",
      "\u001b[0;31mAttributeError\u001b[0m: 'BaseMarket' object has no attribute 'time'"
     ]
    }
   ],
   "source": [
    "env = BaseMarket(datas=datas,back_length=100,time_limit=600)\n",
    "tot = 0\n",
    "env.seed(567)\n",
    "for i in range(1024):\n",
    "    done = False\n",
    "    state = env.reset()\n",
    "    action = 0\n",
    "    while not done:\n",
    "        state, reward, done, _ = env.step(action)\n",
    "        if state[0] == 1:\n",
    "            action = 1\n",
    "    tot += reward\n",
    "print(tot/1024)"
   ]
  },
  {
   "cell_type": "code",
   "execution_count": 8,
   "metadata": {},
   "outputs": [
    {
     "name": "stdout",
     "output_type": "stream",
     "text": [
      "-0.0478515625\n"
     ]
    }
   ],
   "source": [
    "env.seed(567)\n",
    "tot = 0\n",
    "for i in range(1024):\n",
    "    done = False\n",
    "    state = env.reset()\n",
    "    while not done:\n",
    "        action = env.action_space.sample()\n",
    "        state, reward, done, _ = env.step(action)\n",
    "    tot += reward\n",
    "print(tot/1024)"
   ]
  },
  {
   "cell_type": "code",
   "execution_count": 9,
   "metadata": {},
   "outputs": [],
   "source": [
    "import elegantrl.agent as agent\n",
    "from elegantrl.config import Arguments\n",
    "env_args = {\n",
    "    'env_num': 1,\n",
    "    'env_name': 'executioner',\n",
    "    'max_step': 600,\n",
    "    'state_dim': (200+1)*5,\n",
    "    'action_dim': 2,\n",
    "    'if_discrete': True,\n",
    "    'target_return': 0.5\n",
    "}"
   ]
  },
  {
   "cell_type": "code",
   "execution_count": 10,
   "metadata": {},
   "outputs": [],
   "source": [
    "env = BaseMarket(datas=datas,back_length=200,time_limit=600)\n",
    "args = Arguments(agent.AgentD3QN,env=env, env_args=env_args)"
   ]
  },
  {
   "cell_type": "code",
   "execution_count": 11,
   "metadata": {},
   "outputs": [],
   "source": [
    "from elegantrl.run import train_and_evaluate"
   ]
  },
  {
   "cell_type": "code",
   "execution_count": 12,
   "metadata": {},
   "outputs": [
    {
     "name": "stdout",
     "output_type": "stream",
     "text": [
      "| Arguments Remove cwd: ./executioner_D3QN_0\n",
      "################################################################################\n",
      "ID     Step    maxR |    avgR   stdR   avgS  stdS |    expR   objC   etc.\n",
      "0  3.00e+04    0.08 |\n",
      "0  3.00e+04    0.08 |    0.08    3.3    110   188 |    0.00   0.03   0.21\n",
      "0  9.01e+04    0.08 |    0.08    3.3    110   188 |    0.00   0.05   0.17\n",
      "0  2.40e+05    0.12 |\n",
      "0  2.40e+05    0.12 |    0.12    2.9     93   167 |    0.00   0.04   0.25\n",
      "0  3.30e+05    0.12 |    0.03    0.8      5     6 |    0.01   0.06  -0.50\n",
      "0  5.40e+05    0.15 |\n",
      "0  5.40e+05    0.15 |    0.15    0.8      7    21 |    0.00   0.10  -0.42\n",
      "0  7.50e+05    0.21 |\n",
      "0  7.50e+05    0.21 |    0.21    1.9     49   104 |    0.01   0.06  -0.15\n",
      "0  8.70e+05    0.25 |\n",
      "0  8.70e+05    0.25 |    0.25    2.2     57   124 |    0.02   0.05   0.08\n",
      "0  9.90e+05    0.25 |    0.20    1.9     45    78 |    0.01   0.05  -0.05\n"
     ]
    }
   ],
   "source": [
    "args.target_step = args.max_step * 50\n",
    "args.eval_times = 2 ** 10\n",
    "args.net_dim = 1024\n",
    "args.batch_size = 1024\n",
    "args.gamma = 1\n",
    "args.explore_rate = 0.1\n",
    "args.seed = 567\n",
    "args.learning_rate = 2**-15\n",
    "train_and_evaluate(args)"
   ]
  },
  {
   "cell_type": "code",
   "execution_count": 34,
   "metadata": {},
   "outputs": [],
   "source": [
    "# age = args.agent().save_or_load_agent(cwd='./executioner_D3QN_0', if_save=False)\n",
    "from elegantrl.run import *"
   ]
  },
  {
   "cell_type": "code",
   "execution_count": 35,
   "metadata": {},
   "outputs": [],
   "source": [
    "import torch\n",
    "torch.set_grad_enabled(False)\n",
    "# args.init_before_training()\n",
    "gpu_id = args.learner_gpus\n",
    "\n",
    "'''init'''\n",
    "env = build_env(args.env, args.env_func, args.env_args)\n",
    "\n",
    "age = init_agent(args, gpu_id, env)"
   ]
  },
  {
   "cell_type": "code",
   "execution_count": 36,
   "metadata": {},
   "outputs": [],
   "source": [
    "age.save_or_load_agent('./executioner_D3QN_other', if_save=False)"
   ]
  },
  {
   "cell_type": "code",
   "execution_count": 37,
   "metadata": {},
   "outputs": [
    {
     "name": "stdout",
     "output_type": "stream",
     "text": [
      "1000 times avg: 0.001\n",
      "1000 times avg: 0.319\n",
      "1000 times avg: 0.262\n",
      "1000 times avg: 0.291\n",
      "1000 times avg: 0.287\n",
      "1000 times avg: 0.248\n",
      "1000 times avg: 0.372\n",
      "1000 times avg: 0.314\n",
      "1000 times avg: 0.292\n",
      "1000 times avg: 0.332\n",
      "1000 times avg: 0.194\n",
      "1000 times avg: 0.308\n",
      "1000 times avg: 0.285\n",
      "1000 times avg: 0.18\n",
      "1000 times avg: 0.309\n",
      "1000 times avg: 0.336\n",
      "1000 times avg: 0.291\n",
      "1000 times avg: 0.272\n",
      "1000 times avg: 0.295\n",
      "1000 times avg: 0.318\n",
      "1000 times avg: 0.334\n",
      "1000 times avg: 0.301\n",
      "1000 times avg: 0.298\n",
      "1000 times avg: 0.33\n",
      "1000 times avg: 0.253\n",
      "1000 times avg: 0.316\n",
      "1000 times avg: 0.311\n",
      "1000 times avg: 0.3\n",
      "1000 times avg: 0.281\n",
      "1000 times avg: 0.335\n",
      "1000 times avg: 0.25\n",
      "1000 times avg: 0.343\n",
      "1000 times avg: 0.332\n",
      "1000 times avg: 0.333\n",
      "1000 times avg: 0.31\n",
      "1000 times avg: 0.329\n",
      "1000 times avg: 0.293\n",
      "1000 times avg: 0.359\n",
      "1000 times avg: 0.321\n",
      "1000 times avg: 0.257\n",
      "1000 times avg: 0.368\n",
      "1000 times avg: 0.335\n",
      "1000 times avg: 0.261\n",
      "1000 times avg: 0.169\n",
      "1000 times avg: 0.239\n",
      "1000 times avg: 0.335\n",
      "1000 times avg: 0.306\n",
      "1000 times avg: 0.182\n",
      "1000 times avg: 0.284\n",
      "1000 times avg: 0.274\n",
      "1000 times avg: 0.314\n",
      "1000 times avg: 0.406\n",
      "1000 times avg: 0.33\n",
      "1000 times avg: 0.272\n",
      "1000 times avg: 0.334\n",
      "1000 times avg: 0.277\n",
      "1000 times avg: 0.359\n",
      "1000 times avg: 0.32\n",
      "1000 times avg: 0.292\n",
      "1000 times avg: 0.33\n",
      "1000 times avg: 0.307\n",
      "1000 times avg: 0.337\n",
      "1000 times avg: 0.375\n",
      "1000 times avg: 0.348\n",
      "1000 times avg: 0.219\n",
      "1000 times avg: 0.242\n",
      "1000 times avg: 0.286\n",
      "1000 times avg: 0.317\n",
      "1000 times avg: 0.269\n",
      "1000 times avg: 0.308\n",
      "1000 times avg: 0.377\n",
      "1000 times avg: 0.326\n",
      "1000 times avg: 0.239\n",
      "1000 times avg: 0.302\n",
      "1000 times avg: 0.299\n",
      "1000 times avg: 0.293\n",
      "1000 times avg: 0.344\n",
      "1000 times avg: 0.258\n",
      "1000 times avg: 0.293\n",
      "1000 times avg: 0.301\n",
      "1000 times avg: 0.356\n",
      "1000 times avg: 0.285\n",
      "1000 times avg: 0.313\n",
      "1000 times avg: 0.324\n",
      "1000 times avg: 0.341\n",
      "1000 times avg: 0.356\n",
      "1000 times avg: 0.256\n",
      "1000 times avg: 0.313\n",
      "1000 times avg: 0.349\n",
      "1000 times avg: 0.364\n",
      "1000 times avg: 0.279\n",
      "1000 times avg: 0.382\n",
      "1000 times avg: 0.334\n",
      "1000 times avg: 0.303\n",
      "1000 times avg: 0.37\n",
      "1000 times avg: 0.205\n",
      "1000 times avg: 0.185\n",
      "1000 times avg: 0.308\n",
      "1000 times avg: 0.319\n",
      "1000 times avg: 0.299\n",
      "0.3029\n"
     ]
    }
   ],
   "source": [
    "# for seed in range(100):\n",
    "seed = 123\n",
    "env.seed(seed)\n",
    "tot = 0\n",
    "tmp = 0\n",
    "for i in range(100000):\n",
    "    done = False\n",
    "    state = env.reset()\n",
    "    steps = 0\n",
    "    # print(state.reshape((-1, 5)))\n",
    "    while not done:\n",
    "        steps += 1\n",
    "        ten_s = torch.as_tensor(state, dtype=torch.float32).unsqueeze(0)\n",
    "        ten_a = age.act(ten_s)\n",
    "        # print(ten_a)\n",
    "        ten_a = ten_a.argmax(dim=1)\n",
    "        state, reward, done, _ = env.step(ten_a[0].numpy())  # different\n",
    "        # print(state[-5:])\n",
    "        # print(reward)\n",
    "    tot += reward\n",
    "    tmp += reward\n",
    "    if i % 1000 == 0:\n",
    "        print(f'1000 times avg: {tmp/1000}')\n",
    "        tmp = 0\n",
    "    # env.episode_data[:300].to_csv('tmp.csv')\n",
    "    # break\n",
    "    # print(steps)\n",
    "print(tot/100000)"
   ]
  },
  {
   "cell_type": "code",
   "execution_count": 21,
   "metadata": {},
   "outputs": [
    {
     "name": "stdout",
     "output_type": "stream",
     "text": [
      "0.193\n",
      "-0.09\n",
      "-0.106\n"
     ]
    },
    {
     "ename": "KeyboardInterrupt",
     "evalue": "",
     "output_type": "error",
     "traceback": [
      "\u001b[0;31m---------------------------------------------------------------------------\u001b[0m",
      "\u001b[0;31mKeyboardInterrupt\u001b[0m                         Traceback (most recent call last)",
      "\u001b[0;32m/tmp/ipykernel_27756/1065460738.py\u001b[0m in \u001b[0;36m<module>\u001b[0;34m\u001b[0m\n\u001b[1;32m      4\u001b[0m     \u001b[0;32mfor\u001b[0m \u001b[0mi\u001b[0m \u001b[0;32min\u001b[0m \u001b[0mrange\u001b[0m\u001b[0;34m(\u001b[0m\u001b[0;36m1000\u001b[0m\u001b[0;34m)\u001b[0m\u001b[0;34m:\u001b[0m\u001b[0;34m\u001b[0m\u001b[0;34m\u001b[0m\u001b[0m\n\u001b[1;32m      5\u001b[0m         \u001b[0mdone\u001b[0m \u001b[0;34m=\u001b[0m \u001b[0;32mFalse\u001b[0m\u001b[0;34m\u001b[0m\u001b[0;34m\u001b[0m\u001b[0m\n\u001b[0;32m----> 6\u001b[0;31m         \u001b[0mstate\u001b[0m \u001b[0;34m=\u001b[0m \u001b[0menv\u001b[0m\u001b[0;34m.\u001b[0m\u001b[0mreset\u001b[0m\u001b[0;34m(\u001b[0m\u001b[0;34m)\u001b[0m\u001b[0;34m\u001b[0m\u001b[0;34m\u001b[0m\u001b[0m\n\u001b[0m\u001b[1;32m      7\u001b[0m         \u001b[0maction\u001b[0m \u001b[0;34m=\u001b[0m \u001b[0;36m0\u001b[0m\u001b[0;34m\u001b[0m\u001b[0;34m\u001b[0m\u001b[0m\n\u001b[1;32m      8\u001b[0m         \u001b[0;32mwhile\u001b[0m \u001b[0;32mnot\u001b[0m \u001b[0mdone\u001b[0m\u001b[0;34m:\u001b[0m\u001b[0;34m\u001b[0m\u001b[0;34m\u001b[0m\u001b[0m\n",
      "\u001b[0;32m~/trader/env.py\u001b[0m in \u001b[0;36mreset\u001b[0;34m(self)\u001b[0m\n\u001b[1;32m     89\u001b[0m \u001b[0;34m\u001b[0m\u001b[0m\n\u001b[1;32m     90\u001b[0m         \u001b[0mself\u001b[0m\u001b[0;34m.\u001b[0m\u001b[0mepisode_data\u001b[0m\u001b[0;34m.\u001b[0m\u001b[0mloc\u001b[0m\u001b[0;34m[\u001b[0m\u001b[0;34m:\u001b[0m\u001b[0;34m,\u001b[0m\u001b[0;34m'bid'\u001b[0m\u001b[0;34m]\u001b[0m \u001b[0;34m=\u001b[0m \u001b[0mself\u001b[0m\u001b[0;34m.\u001b[0m\u001b[0mepisode_data\u001b[0m\u001b[0;34m[\u001b[0m\u001b[0;34m'bid'\u001b[0m\u001b[0;34m]\u001b[0m\u001b[0;34m-\u001b[0m\u001b[0mself\u001b[0m\u001b[0;34m.\u001b[0m\u001b[0mtarget_price\u001b[0m\u001b[0;34m\u001b[0m\u001b[0;34m\u001b[0m\u001b[0m\n\u001b[0;32m---> 91\u001b[0;31m         \u001b[0mself\u001b[0m\u001b[0;34m.\u001b[0m\u001b[0mepisode_data\u001b[0m\u001b[0;34m.\u001b[0m\u001b[0mloc\u001b[0m\u001b[0;34m[\u001b[0m\u001b[0;34m:\u001b[0m\u001b[0;34m,\u001b[0m\u001b[0;34m'ask'\u001b[0m\u001b[0;34m]\u001b[0m \u001b[0;34m=\u001b[0m \u001b[0mself\u001b[0m\u001b[0;34m.\u001b[0m\u001b[0mepisode_data\u001b[0m\u001b[0;34m[\u001b[0m\u001b[0;34m'ask'\u001b[0m\u001b[0;34m]\u001b[0m\u001b[0;34m-\u001b[0m\u001b[0mself\u001b[0m\u001b[0;34m.\u001b[0m\u001b[0mtarget_price\u001b[0m\u001b[0;34m\u001b[0m\u001b[0;34m\u001b[0m\u001b[0m\n\u001b[0m\u001b[1;32m     92\u001b[0m \u001b[0;34m\u001b[0m\u001b[0m\n\u001b[1;32m     93\u001b[0m         \u001b[0mself\u001b[0m\u001b[0;34m.\u001b[0m\u001b[0mtick_state\u001b[0m \u001b[0;34m=\u001b[0m \u001b[0mself\u001b[0m\u001b[0;34m.\u001b[0m\u001b[0mepisode_data\u001b[0m\u001b[0;34m.\u001b[0m\u001b[0miloc\u001b[0m\u001b[0;34m[\u001b[0m\u001b[0mself\u001b[0m\u001b[0;34m.\u001b[0m\u001b[0mback_length\u001b[0m\u001b[0;34m-\u001b[0m\u001b[0;36m1\u001b[0m\u001b[0;34m]\u001b[0m\u001b[0;34m.\u001b[0m\u001b[0mvalues\u001b[0m\u001b[0;34m\u001b[0m\u001b[0;34m\u001b[0m\u001b[0m\n",
      "\u001b[0;32m~/miniconda3/lib/python3.9/site-packages/pandas/core/ops/common.py\u001b[0m in \u001b[0;36mnew_method\u001b[0;34m(self, other)\u001b[0m\n\u001b[1;32m     67\u001b[0m         \u001b[0mother\u001b[0m \u001b[0;34m=\u001b[0m \u001b[0mitem_from_zerodim\u001b[0m\u001b[0;34m(\u001b[0m\u001b[0mother\u001b[0m\u001b[0;34m)\u001b[0m\u001b[0;34m\u001b[0m\u001b[0;34m\u001b[0m\u001b[0m\n\u001b[1;32m     68\u001b[0m \u001b[0;34m\u001b[0m\u001b[0m\n\u001b[0;32m---> 69\u001b[0;31m         \u001b[0;32mreturn\u001b[0m \u001b[0mmethod\u001b[0m\u001b[0;34m(\u001b[0m\u001b[0mself\u001b[0m\u001b[0;34m,\u001b[0m \u001b[0mother\u001b[0m\u001b[0;34m)\u001b[0m\u001b[0;34m\u001b[0m\u001b[0;34m\u001b[0m\u001b[0m\n\u001b[0m\u001b[1;32m     70\u001b[0m \u001b[0;34m\u001b[0m\u001b[0m\n\u001b[1;32m     71\u001b[0m     \u001b[0;32mreturn\u001b[0m \u001b[0mnew_method\u001b[0m\u001b[0;34m\u001b[0m\u001b[0;34m\u001b[0m\u001b[0m\n",
      "\u001b[0;32m~/miniconda3/lib/python3.9/site-packages/pandas/core/arraylike.py\u001b[0m in \u001b[0;36m__sub__\u001b[0;34m(self, other)\u001b[0m\n\u001b[1;32m     98\u001b[0m     \u001b[0;34m@\u001b[0m\u001b[0munpack_zerodim_and_defer\u001b[0m\u001b[0;34m(\u001b[0m\u001b[0;34m\"__sub__\"\u001b[0m\u001b[0;34m)\u001b[0m\u001b[0;34m\u001b[0m\u001b[0;34m\u001b[0m\u001b[0m\n\u001b[1;32m     99\u001b[0m     \u001b[0;32mdef\u001b[0m \u001b[0m__sub__\u001b[0m\u001b[0;34m(\u001b[0m\u001b[0mself\u001b[0m\u001b[0;34m,\u001b[0m \u001b[0mother\u001b[0m\u001b[0;34m)\u001b[0m\u001b[0;34m:\u001b[0m\u001b[0;34m\u001b[0m\u001b[0;34m\u001b[0m\u001b[0m\n\u001b[0;32m--> 100\u001b[0;31m         \u001b[0;32mreturn\u001b[0m \u001b[0mself\u001b[0m\u001b[0;34m.\u001b[0m\u001b[0m_arith_method\u001b[0m\u001b[0;34m(\u001b[0m\u001b[0mother\u001b[0m\u001b[0;34m,\u001b[0m \u001b[0moperator\u001b[0m\u001b[0;34m.\u001b[0m\u001b[0msub\u001b[0m\u001b[0;34m)\u001b[0m\u001b[0;34m\u001b[0m\u001b[0;34m\u001b[0m\u001b[0m\n\u001b[0m\u001b[1;32m    101\u001b[0m \u001b[0;34m\u001b[0m\u001b[0m\n\u001b[1;32m    102\u001b[0m     \u001b[0;34m@\u001b[0m\u001b[0munpack_zerodim_and_defer\u001b[0m\u001b[0;34m(\u001b[0m\u001b[0;34m\"__rsub__\"\u001b[0m\u001b[0;34m)\u001b[0m\u001b[0;34m\u001b[0m\u001b[0;34m\u001b[0m\u001b[0m\n",
      "\u001b[0;32m~/miniconda3/lib/python3.9/site-packages/pandas/core/series.py\u001b[0m in \u001b[0;36m_arith_method\u001b[0;34m(self, other, op)\u001b[0m\n\u001b[1;32m   5526\u001b[0m             \u001b[0mresult\u001b[0m \u001b[0;34m=\u001b[0m \u001b[0mops\u001b[0m\u001b[0;34m.\u001b[0m\u001b[0marithmetic_op\u001b[0m\u001b[0;34m(\u001b[0m\u001b[0mlvalues\u001b[0m\u001b[0;34m,\u001b[0m \u001b[0mrvalues\u001b[0m\u001b[0;34m,\u001b[0m \u001b[0mop\u001b[0m\u001b[0;34m)\u001b[0m\u001b[0;34m\u001b[0m\u001b[0;34m\u001b[0m\u001b[0m\n\u001b[1;32m   5527\u001b[0m \u001b[0;34m\u001b[0m\u001b[0m\n\u001b[0;32m-> 5528\u001b[0;31m         \u001b[0;32mreturn\u001b[0m \u001b[0mself\u001b[0m\u001b[0;34m.\u001b[0m\u001b[0m_construct_result\u001b[0m\u001b[0;34m(\u001b[0m\u001b[0mresult\u001b[0m\u001b[0;34m,\u001b[0m \u001b[0mname\u001b[0m\u001b[0;34m=\u001b[0m\u001b[0mres_name\u001b[0m\u001b[0;34m)\u001b[0m\u001b[0;34m\u001b[0m\u001b[0;34m\u001b[0m\u001b[0m\n\u001b[0m\u001b[1;32m   5529\u001b[0m \u001b[0;34m\u001b[0m\u001b[0m\n\u001b[1;32m   5530\u001b[0m \u001b[0;34m\u001b[0m\u001b[0m\n",
      "\u001b[0;32m~/miniconda3/lib/python3.9/site-packages/pandas/core/series.py\u001b[0m in \u001b[0;36m_construct_result\u001b[0;34m(self, result, name)\u001b[0m\n\u001b[1;32m   2943\u001b[0m         \u001b[0;31m# We do not pass dtype to ensure that the Series constructor\u001b[0m\u001b[0;34m\u001b[0m\u001b[0;34m\u001b[0m\u001b[0m\n\u001b[1;32m   2944\u001b[0m         \u001b[0;31m#  does inference in the case where `result` has object-dtype.\u001b[0m\u001b[0;34m\u001b[0m\u001b[0;34m\u001b[0m\u001b[0m\n\u001b[0;32m-> 2945\u001b[0;31m         \u001b[0mout\u001b[0m \u001b[0;34m=\u001b[0m \u001b[0mself\u001b[0m\u001b[0;34m.\u001b[0m\u001b[0m_constructor\u001b[0m\u001b[0;34m(\u001b[0m\u001b[0mresult\u001b[0m\u001b[0;34m,\u001b[0m \u001b[0mindex\u001b[0m\u001b[0;34m=\u001b[0m\u001b[0mself\u001b[0m\u001b[0;34m.\u001b[0m\u001b[0mindex\u001b[0m\u001b[0;34m)\u001b[0m\u001b[0;34m\u001b[0m\u001b[0;34m\u001b[0m\u001b[0m\n\u001b[0m\u001b[1;32m   2946\u001b[0m         \u001b[0mout\u001b[0m \u001b[0;34m=\u001b[0m \u001b[0mout\u001b[0m\u001b[0;34m.\u001b[0m\u001b[0m__finalize__\u001b[0m\u001b[0;34m(\u001b[0m\u001b[0mself\u001b[0m\u001b[0;34m)\u001b[0m\u001b[0;34m\u001b[0m\u001b[0;34m\u001b[0m\u001b[0m\n\u001b[1;32m   2947\u001b[0m \u001b[0;34m\u001b[0m\u001b[0m\n",
      "\u001b[0;32m~/miniconda3/lib/python3.9/site-packages/pandas/core/series.py\u001b[0m in \u001b[0;36m__init__\u001b[0;34m(self, data, index, dtype, name, copy, fastpath)\u001b[0m\n\u001b[1;32m    431\u001b[0m \u001b[0;34m\u001b[0m\u001b[0m\n\u001b[1;32m    432\u001b[0m             \u001b[0;31m# create/copy the manager\u001b[0m\u001b[0;34m\u001b[0m\u001b[0;34m\u001b[0m\u001b[0m\n\u001b[0;32m--> 433\u001b[0;31m             \u001b[0;32mif\u001b[0m \u001b[0misinstance\u001b[0m\u001b[0;34m(\u001b[0m\u001b[0mdata\u001b[0m\u001b[0;34m,\u001b[0m \u001b[0;34m(\u001b[0m\u001b[0mSingleBlockManager\u001b[0m\u001b[0;34m,\u001b[0m \u001b[0mSingleArrayManager\u001b[0m\u001b[0;34m)\u001b[0m\u001b[0;34m)\u001b[0m\u001b[0;34m:\u001b[0m\u001b[0;34m\u001b[0m\u001b[0;34m\u001b[0m\u001b[0m\n\u001b[0m\u001b[1;32m    434\u001b[0m                 \u001b[0;32mif\u001b[0m \u001b[0mdtype\u001b[0m \u001b[0;32mis\u001b[0m \u001b[0;32mnot\u001b[0m \u001b[0;32mNone\u001b[0m\u001b[0;34m:\u001b[0m\u001b[0;34m\u001b[0m\u001b[0;34m\u001b[0m\u001b[0m\n\u001b[1;32m    435\u001b[0m                     \u001b[0mdata\u001b[0m \u001b[0;34m=\u001b[0m \u001b[0mdata\u001b[0m\u001b[0;34m.\u001b[0m\u001b[0mastype\u001b[0m\u001b[0;34m(\u001b[0m\u001b[0mdtype\u001b[0m\u001b[0;34m=\u001b[0m\u001b[0mdtype\u001b[0m\u001b[0;34m,\u001b[0m \u001b[0merrors\u001b[0m\u001b[0;34m=\u001b[0m\u001b[0;34m\"ignore\"\u001b[0m\u001b[0;34m,\u001b[0m \u001b[0mcopy\u001b[0m\u001b[0;34m=\u001b[0m\u001b[0mcopy\u001b[0m\u001b[0;34m)\u001b[0m\u001b[0;34m\u001b[0m\u001b[0;34m\u001b[0m\u001b[0m\n",
      "\u001b[0;31mKeyboardInterrupt\u001b[0m: "
     ]
    }
   ],
   "source": [
    "for seed in range(100):\n",
    "    tot = 0\n",
    "    env.seed(seed)\n",
    "    for i in range(1000):\n",
    "        done = False\n",
    "        state = env.reset()\n",
    "        action = 0\n",
    "        while not done:\n",
    "            state, reward, done, _ = env.step(action)\n",
    "            if state[0] == 1:\n",
    "                action = 1\n",
    "        tot += reward\n",
    "    print(tot/1000)"
   ]
  },
  {
   "cell_type": "code",
   "execution_count": 38,
   "metadata": {},
   "outputs": [
    {
     "name": "stdout",
     "output_type": "stream",
     "text": [
      "-0.046\n"
     ]
    }
   ],
   "source": [
    "tot = 0\n",
    "env.seed(1)\n",
    "for i in range(1000):\n",
    "    done = False\n",
    "    state = env.reset()\n",
    "    action = 1\n",
    "    while not done:\n",
    "        state, reward, done, _ = env.step(action)\n",
    "    tot += reward\n",
    "print(tot/1000)"
   ]
  },
  {
   "cell_type": "code",
   "execution_count": 41,
   "metadata": {},
   "outputs": [
    {
     "name": "stdout",
     "output_type": "stream",
     "text": [
      "-0.0302\n"
     ]
    }
   ],
   "source": [
    "tot = 0\n",
    "env.seed(1)\n",
    "for i in range(10000):\n",
    "    done = False\n",
    "    state = env.reset()\n",
    "    while not done:\n",
    "        action = env.action_space.sample()\n",
    "        state, reward, done, _ = env.step(action)\n",
    "    tot += reward\n",
    "print(tot/10000)"
   ]
  },
  {
   "cell_type": "code",
   "execution_count": 28,
   "metadata": {},
   "outputs": [],
   "source": [
    "tmp = np.load(r'executioner_D3QN_0\\replay_0.npz')"
   ]
  },
  {
   "cell_type": "code",
   "execution_count": 40,
   "metadata": {},
   "outputs": [],
   "source": [
    "import matplotlib.pyplot as plt\n",
    "import matplotlib\n",
    "matplotlib.use('tkagg')\n",
    "plt.plot(data['bid'])\n",
    "plt.show()"
   ]
  },
  {
   "cell_type": "code",
   "execution_count": 35,
   "metadata": {},
   "outputs": [
    {
     "data": {
      "text/plain": [
       "array([[ 0.  ,  0.  ,  0.  ],\n",
       "       [ 0.  ,  0.  ,  0.  ],\n",
       "       [ 0.  ,  0.  ,  0.  ],\n",
       "       ...,\n",
       "       [ 0.  ,  0.99,  2.  ],\n",
       "       [ 0.  ,  0.99,  2.  ],\n",
       "       [-0.  ,  0.  ,  2.  ]], dtype=float16)"
      ]
     },
     "execution_count": 35,
     "metadata": {},
     "output_type": "execute_result"
    }
   ],
   "source": [
    "tmp['buf_other']"
   ]
  },
  {
   "cell_type": "code",
   "execution_count": 5,
   "metadata": {},
   "outputs": [],
   "source": [
    "a = [(1,2,3),(3,4,5),(5,6,5),(7,8,5)]\n",
    "b = list(map(list, zip(*a)))"
   ]
  },
  {
   "cell_type": "code",
   "execution_count": 7,
   "metadata": {},
   "outputs": [
    {
     "data": {
      "text/plain": [
       "[[1, 3, 5, 7], [2, 4, 6, 8], [3, 5, 5, 5]]"
      ]
     },
     "execution_count": 7,
     "metadata": {},
     "output_type": "execute_result"
    }
   ],
   "source": [
    "import torch\n",
    "b"
   ]
  }
 ],
 "metadata": {
  "interpreter": {
   "hash": "fd743178cd687d8631a9d8ff4c93b928146afe1f13697893f00fa7b20727ad6b"
  },
  "kernelspec": {
   "display_name": "Python 3.9.7 ('pytorch')",
   "language": "python",
   "name": "python3"
  },
  "language_info": {
   "codemirror_mode": {
    "name": "ipython",
    "version": 3
   },
   "file_extension": ".py",
   "mimetype": "text/x-python",
   "name": "python",
   "nbconvert_exporter": "python",
   "pygments_lexer": "ipython3",
   "version": "3.9.7"
  },
  "orig_nbformat": 4
 },
 "nbformat": 4,
 "nbformat_minor": 2
}
